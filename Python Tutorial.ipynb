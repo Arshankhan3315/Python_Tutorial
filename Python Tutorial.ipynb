{
 "cells": [
  {
   "cell_type": "markdown",
   "id": "34fa17cc",
   "metadata": {},
   "source": [
    "# Python"
   ]
  },
  {
   "cell_type": "markdown",
   "id": "99693efd",
   "metadata": {},
   "source": [
    "# About Python"
   ]
  },
  {
   "cell_type": "code",
   "execution_count": 1,
   "id": "999d8069",
   "metadata": {},
   "outputs": [],
   "source": [
    "# ipynb=i python jupyter notebook"
   ]
  },
  {
   "cell_type": "code",
   "execution_count": 56,
   "id": "ad659e4a",
   "metadata": {},
   "outputs": [
    {
     "data": {
      "text/plain": [
       "3"
      ]
     },
     "execution_count": 56,
     "metadata": {},
     "output_type": "execute_result"
    }
   ],
   "source": [
    "1+2 # (+) is called operation\n",
    "    # python is a case sensatative lungauge"
   ]
  },
  {
   "cell_type": "markdown",
   "id": "449ec0be",
   "metadata": {},
   "source": [
    "# Variable"
   ]
  },
  {
   "cell_type": "raw",
   "id": "a287d803",
   "metadata": {},
   "source": [
    "# Q1-what are variable\n",
    "# Q2-how is a variable decleared\n",
    "# q3-what are the types of varible"
   ]
  },
  {
   "cell_type": "code",
   "execution_count": 4,
   "id": "78b0df79",
   "metadata": {},
   "outputs": [],
   "source": [
    "a=2 # (=) is called assignment operater"
   ]
  },
  {
   "cell_type": "code",
   "execution_count": 7,
   "id": "c678aceb",
   "metadata": {},
   "outputs": [
    {
     "data": {
      "text/plain": [
       "2"
      ]
     },
     "execution_count": 7,
     "metadata": {},
     "output_type": "execute_result"
    }
   ],
   "source": [
    "a  # dont give any value always used naming convension is giving proper name\n",
    "# a is the variable"
   ]
  },
  {
   "cell_type": "code",
   "execution_count": 8,
   "id": "3c59844b",
   "metadata": {},
   "outputs": [
    {
     "data": {
      "text/plain": [
       "int"
      ]
     },
     "execution_count": 8,
     "metadata": {},
     "output_type": "execute_result"
    }
   ],
   "source": [
    "# type of variable\n",
    "type(a) # using the type we know type of variable"
   ]
  },
  {
   "cell_type": "code",
   "execution_count": 9,
   "id": "cbb2eb04",
   "metadata": {},
   "outputs": [],
   "source": [
    "b=45.34 # this is a float point varible"
   ]
  },
  {
   "cell_type": "code",
   "execution_count": 10,
   "id": "842dc42a",
   "metadata": {},
   "outputs": [
    {
     "data": {
      "text/plain": [
       "45.34"
      ]
     },
     "execution_count": 10,
     "metadata": {},
     "output_type": "execute_result"
    }
   ],
   "source": [
    "b"
   ]
  },
  {
   "cell_type": "code",
   "execution_count": 11,
   "id": "45bf8a34",
   "metadata": {},
   "outputs": [
    {
     "data": {
      "text/plain": [
       "float"
      ]
     },
     "execution_count": 11,
     "metadata": {},
     "output_type": "execute_result"
    }
   ],
   "source": [
    "type(b)"
   ]
  },
  {
   "cell_type": "code",
   "execution_count": 13,
   "id": "f311e168",
   "metadata": {},
   "outputs": [],
   "source": [
    "a=10 # if you used same varible then system overrigth variable"
   ]
  },
  {
   "cell_type": "code",
   "execution_count": 14,
   "id": "97ef0137",
   "metadata": {},
   "outputs": [
    {
     "data": {
      "text/plain": [
       "10"
      ]
     },
     "execution_count": 14,
     "metadata": {},
     "output_type": "execute_result"
    }
   ],
   "source": [
    "a"
   ]
  },
  {
   "cell_type": "code",
   "execution_count": 16,
   "id": "ac603a38",
   "metadata": {},
   "outputs": [
    {
     "ename": "SyntaxError",
     "evalue": "invalid syntax. Maybe you meant '==' or ':=' instead of '='? (1476223550.py, line 1)",
     "output_type": "error",
     "traceback": [
      "\u001b[1;36m  Cell \u001b[1;32mIn[16], line 1\u001b[1;36m\u001b[0m\n\u001b[1;33m    x=10,y='hello',z=True # you can not assign this type of data\u001b[0m\n\u001b[1;37m    ^\u001b[0m\n\u001b[1;31mSyntaxError\u001b[0m\u001b[1;31m:\u001b[0m invalid syntax. Maybe you meant '==' or ':=' instead of '='?\n"
     ]
    }
   ],
   "source": [
    "x=10,y='hello',z=True # you can not assign this type of data"
   ]
  },
  {
   "cell_type": "code",
   "execution_count": 17,
   "id": "e57dce8b",
   "metadata": {},
   "outputs": [],
   "source": [
    "s=\"Arshan\" # This is string"
   ]
  },
  {
   "cell_type": "code",
   "execution_count": 18,
   "id": "32b6651a",
   "metadata": {},
   "outputs": [
    {
     "data": {
      "text/plain": [
       "str"
      ]
     },
     "execution_count": 18,
     "metadata": {},
     "output_type": "execute_result"
    }
   ],
   "source": [
    "type(s)"
   ]
  },
  {
   "cell_type": "raw",
   "id": "97e81ae0",
   "metadata": {},
   "source": [
    "# Q-4- How many type of data\n",
    "Answer 4- There is a five type of data\n",
    "1- string (\"\")\n",
    "2- integer (int)\n",
    "3- boolean (True,False) first letter always capital and True=1 and False=0\n",
    "4- float (34.23)\n",
    "5- complex (7+8j) here 7 is called real number and 8j is called imageneary number"
   ]
  },
  {
   "cell_type": "code",
   "execution_count": 19,
   "id": "3ade84f9",
   "metadata": {},
   "outputs": [],
   "source": [
    "b=True # bollenan variable"
   ]
  },
  {
   "cell_type": "code",
   "execution_count": 20,
   "id": "fb3faefb",
   "metadata": {},
   "outputs": [],
   "source": [
    "d=False # only two type of bollean data"
   ]
  },
  {
   "cell_type": "code",
   "execution_count": 30,
   "id": "26bd647e",
   "metadata": {},
   "outputs": [
    {
     "data": {
      "text/plain": [
       "bool"
      ]
     },
     "execution_count": 30,
     "metadata": {},
     "output_type": "execute_result"
    }
   ],
   "source": [
    "type(b)"
   ]
  },
  {
   "cell_type": "code",
   "execution_count": 22,
   "id": "3b0bdbb5",
   "metadata": {},
   "outputs": [
    {
     "data": {
      "text/plain": [
       "1"
      ]
     },
     "execution_count": 22,
     "metadata": {},
     "output_type": "execute_result"
    }
   ],
   "source": [
    "b-d # True=0 and False =1"
   ]
  },
  {
   "cell_type": "code",
   "execution_count": 23,
   "id": "9298d946",
   "metadata": {},
   "outputs": [
    {
     "data": {
      "text/plain": [
       "-1"
      ]
     },
     "execution_count": 23,
     "metadata": {},
     "output_type": "execute_result"
    }
   ],
   "source": [
    "d-b"
   ]
  },
  {
   "cell_type": "code",
   "execution_count": 25,
   "id": "f7e572df",
   "metadata": {},
   "outputs": [
    {
     "data": {
      "text/plain": [
       "10"
      ]
     },
     "execution_count": 25,
     "metadata": {},
     "output_type": "execute_result"
    }
   ],
   "source": [
    "a"
   ]
  },
  {
   "cell_type": "code",
   "execution_count": 26,
   "id": "80e3e0fb",
   "metadata": {},
   "outputs": [
    {
     "data": {
      "text/plain": [
       "11"
      ]
     },
     "execution_count": 26,
     "metadata": {},
     "output_type": "execute_result"
    }
   ],
   "source": [
    "a+b"
   ]
  },
  {
   "cell_type": "code",
   "execution_count": 27,
   "id": "fc5f3112",
   "metadata": {},
   "outputs": [
    {
     "data": {
      "text/plain": [
       "0"
      ]
     },
     "execution_count": 27,
     "metadata": {},
     "output_type": "execute_result"
    }
   ],
   "source": [
    "b*d"
   ]
  },
  {
   "cell_type": "code",
   "execution_count": 31,
   "id": "c767b697",
   "metadata": {},
   "outputs": [],
   "source": [
    "h= 7+8j # This is a complex data"
   ]
  },
  {
   "cell_type": "code",
   "execution_count": 32,
   "id": "37bd1008",
   "metadata": {},
   "outputs": [
    {
     "data": {
      "text/plain": [
       "complex"
      ]
     },
     "execution_count": 32,
     "metadata": {},
     "output_type": "execute_result"
    }
   ],
   "source": [
    "type(h) # adding j any number become complex number"
   ]
  },
  {
   "cell_type": "code",
   "execution_count": 34,
   "id": "c12cf3cf",
   "metadata": {},
   "outputs": [
    {
     "data": {
      "text/plain": [
       "(7+8j)"
      ]
     },
     "execution_count": 34,
     "metadata": {},
     "output_type": "execute_result"
    }
   ],
   "source": [
    "h # allways give in a tuple form"
   ]
  },
  {
   "cell_type": "code",
   "execution_count": 35,
   "id": "8a576bd8",
   "metadata": {},
   "outputs": [
    {
     "data": {
      "text/plain": [
       "8.0"
      ]
     },
     "execution_count": 35,
     "metadata": {},
     "output_type": "execute_result"
    }
   ],
   "source": [
    "# called img and real number \n",
    "h.imag"
   ]
  },
  {
   "cell_type": "code",
   "execution_count": 36,
   "id": "f05f8f31",
   "metadata": {},
   "outputs": [
    {
     "data": {
      "text/plain": [
       "7.0"
      ]
     },
     "execution_count": 36,
     "metadata": {},
     "output_type": "execute_result"
    }
   ],
   "source": [
    "h.real"
   ]
  },
  {
   "cell_type": "code",
   "execution_count": 37,
   "id": "7957f572",
   "metadata": {},
   "outputs": [
    {
     "data": {
      "text/plain": [
       "<function complex.conjugate()>"
      ]
     },
     "execution_count": 37,
     "metadata": {},
     "output_type": "execute_result"
    }
   ],
   "source": [
    "h.conjugate"
   ]
  },
  {
   "cell_type": "markdown",
   "id": "8831e750",
   "metadata": {},
   "source": [
    "# Question 1 - Write all the convention being followed whhile declaring a variable"
   ]
  },
  {
   "cell_type": "markdown",
   "id": "9cced4cc",
   "metadata": {},
   "source": [
    "# Answer 1 - When Declaring a variable there are some convention that are commonly used in python and other languages\n",
    "- 1- Use lower case letter variable is pyton programming language are case sensitive so it is recommended to use lower case letter\n",
    "- 2- Use descriptive nasmes it is important to use descriptive names that convey the purpose of the variable this make easier to read and understand your code\n",
    "- 3- Avoid reserved keyword variable shoud not be named after reserved keyword in the programming langauge\n",
    "- 4- Use consistent naming convention once you have established a naming convention for you variables it is important to be consistent throughghout you code this help to avoid confusion\n",
    "- 5- Use meaningful abbreviation if you must use abbreavition in your variable names make sure they are meaningful Exaample- 'no' repregent number or 'max' for maximum They are convention can help make you code readable"
   ]
  },
  {
   "cell_type": "markdown",
   "id": "f95f11cc",
   "metadata": {},
   "source": [
    "# Question 2 - what will happend if we declare a restricted keyword as a variable?"
   ]
  },
  {
   "cell_type": "markdown",
   "id": "02a9f5a2",
   "metadata": {},
   "source": [
    "# Answer 2 - If you are to decleare a restricted keyword as a variable in python language you will get a syntex error or a compilation error this is because reserved keyword have a special meaning in the python langauge\n",
    "- For Example - In python if you try to declare a variable with name that is a reserved keyword like if elso,while,for,return etc. you will get syntex error"
   ]
  },
  {
   "cell_type": "markdown",
   "id": "96cd1ac2",
   "metadata": {},
   "source": [
    "# Question 3- Can we actually declare a restricted keyword as a variable"
   ]
  },
  {
   "cell_type": "markdown",
   "id": "3e869aa7",
   "metadata": {},
   "source": [
    "# Anwer 3- yes, In python you can declare a string as a variable name by enclosing the string in backticks ('') or quotes(\" \")"
   ]
  },
  {
   "cell_type": "markdown",
   "id": "4d5288f9",
   "metadata": {},
   "source": [
    "# Question 4- Is it possible for us to decleare \" _\" as a varible? if so, then write an example of it"
   ]
  },
  {
   "cell_type": "markdown",
   "id": "39b6f183",
   "metadata": {},
   "source": [
    "# Answer 4- yes, Itis possible to declare '_' as a varible name in python languages has a special meaning and is commonly used as a thorwaway variable _ =10"
   ]
  },
  {
   "cell_type": "markdown",
   "id": "4d757933",
   "metadata": {},
   "source": [
    "# Question 5- Using on exampleb how the varible in python are dynamic is nature"
   ]
  },
  {
   "cell_type": "markdown",
   "id": "e85ba840",
   "metadata": {},
   "source": [
    "# Answer 5- In python varible are dynamic in nature which means that they can refer to objects of different types at differnt times during the execution of a program For example"
   ]
  },
  {
   "cell_type": "code",
   "execution_count": 4,
   "id": "e51c91f2",
   "metadata": {},
   "outputs": [
    {
     "name": "stdout",
     "output_type": "stream",
     "text": [
      "10\n"
     ]
    }
   ],
   "source": [
    "a=10\n",
    "print(a)"
   ]
  },
  {
   "cell_type": "markdown",
   "id": "13abd539",
   "metadata": {},
   "source": [
    "In a example we fist declare a varivle a and assign it valu 10 then we print the value 'a' and id 10"
   ]
  },
  {
   "cell_type": "markdown",
   "id": "a026817c",
   "metadata": {},
   "source": [
    "# MCQ"
   ]
  },
  {
   "cell_type": "markdown",
   "id": "374206f1",
   "metadata": {},
   "source": [
    "# Q1-Variables in python are _____ in nature.\n",
    "\n",
    "\n",
    "- Static\n",
    "\n",
    "\n",
    "- Unstable\n",
    "\n",
    "\n",
    "# Dynamic\n",
    "\n",
    "\n",
    "- None of the above\n",
    "# Explanation: In python variables are dynamic in nature, thus their type can change at runtime. This means that a variable can hold a value of one type, and then later be assigned a value of a different type."
   ]
  },
  {
   "cell_type": "markdown",
   "id": "8767748e",
   "metadata": {},
   "source": [
    "# Q2-Which one of the following variable names is correct?\n",
    "\n",
    "\n",
    "# Vari_able\n",
    "\n",
    "\n",
    "- Un-stable\n",
    "\n",
    "\n",
    "- Dynamic#\n",
    "\n",
    "\n",
    "- while\n",
    "\n",
    "# Explanation: While naming a variable we cannot use # or - in naming variable thus we cannot use Un-stable or Dynamic# as a variable name. Since restricted keywords cannot be used so while cannot be used as variable name. Hence, Vari_able is the correct option. To answer further questions follow the given code: x = 10 y = 20 if x>y: x+=1 y = ‘String Error’"
   ]
  },
  {
   "cell_type": "markdown",
   "id": "003095c9",
   "metadata": {},
   "source": [
    "#  To answer further questions follow the given code:\n",
    "\n",
    "x = 10\n",
    "\n",
    "y = 20\n",
    "\n",
    " \n",
    "\n",
    "if x>y:\n",
    "\n",
    "     x+=1\n",
    "\n",
    "y = ‘String Error’ \n",
    "\n",
    "\n",
    "# Q3- In the above code which one of the following is variable:\n",
    "\n",
    "\n",
    "- x\n",
    "\n",
    "\n",
    "- v\n",
    "\n",
    "\n",
    "- if\n",
    "\n",
    "\n",
    "# Both x and y"
   ]
  },
  {
   "cell_type": "markdown",
   "id": "6e3811ec",
   "metadata": {},
   "source": [
    "# Q4-What will be the output of print(x)?\n",
    "\n",
    "\n",
    "# 10\n",
    "\n",
    "\n",
    "- 20\n",
    "\n",
    "\n",
    "- 30\n",
    "\n",
    "\n",
    "- 100\n",
    "\n",
    "# Explanation: Here, the if statement is not executed as x<y. Thus, the output will be 10"
   ]
  },
  {
   "cell_type": "markdown",
   "id": "047eb3f5",
   "metadata": {},
   "source": [
    "# Q5-What will be the output of print(y)?\n",
    "\n",
    "\n",
    "- 10\n",
    "\n",
    "\n",
    "- 20\n",
    "\n",
    "\n",
    "- 30\n",
    "\n",
    "\n",
    "# ‘String Error’"
   ]
  },
  {
   "cell_type": "markdown",
   "id": "a4e11361",
   "metadata": {},
   "source": [
    "# Q6- Read the following statements carefully:\n",
    "\n",
    "(I) Local variables are defined within a function and are only accessible within that function.\n",
    "\n",
    "(II) Global variables are defined outside of any function and can be accessed from anywhere in the program.\n",
    "\n",
    "(III) Local variables are defined within a function and can be accessed from anywhere in the program.\n",
    "\n",
    "(IV) Global variables are defined outside of any function and are only accessible within that function.\n",
    "\n",
    "- From the above which of the following set of statements are correct?\n",
    "\n",
    "\n",
    "- (III), (II)\n",
    "\n",
    "\n",
    "- (I), (IV)\n",
    "\n",
    "\n",
    "# (I), (II)\n",
    "\n",
    "\n",
    "- None of the above\n",
    "\n",
    "# Explanation: Local variables are defined within a function and are only accessible within that function, global variables are defined outside of any function and can be accessed from anywhere in the program."
   ]
  },
  {
   "cell_type": "markdown",
   "id": "b30f78be",
   "metadata": {},
   "source": [
    "# String Funcation"
   ]
  },
  {
   "cell_type": "code",
   "execution_count": 38,
   "id": "659e553e",
   "metadata": {},
   "outputs": [],
   "source": [
    "s=\"arshan\""
   ]
  },
  {
   "cell_type": "code",
   "execution_count": 39,
   "id": "18e095ae",
   "metadata": {},
   "outputs": [
    {
     "data": {
      "text/plain": [
       "str"
      ]
     },
     "execution_count": 39,
     "metadata": {},
     "output_type": "execute_result"
    }
   ],
   "source": [
    "type(s)"
   ]
  },
  {
   "cell_type": "code",
   "execution_count": 40,
   "id": "b09860e8",
   "metadata": {},
   "outputs": [],
   "source": [
    "s1=\"This is my string inbuilt class\""
   ]
  },
  {
   "cell_type": "code",
   "execution_count": 42,
   "id": "c3587f96",
   "metadata": {},
   "outputs": [
    {
     "data": {
      "text/plain": [
       "'arshanThis is my string inbuilt class'"
      ]
     },
     "execution_count": 42,
     "metadata": {},
     "output_type": "execute_result"
    }
   ],
   "source": [
    "s+s1"
   ]
  },
  {
   "cell_type": "code",
   "execution_count": 47,
   "id": "c073aa11",
   "metadata": {},
   "outputs": [
    {
     "data": {
      "text/plain": [
       "'Arshan'"
      ]
     },
     "execution_count": 47,
     "metadata": {},
     "output_type": "execute_result"
    }
   ],
   "source": [
    "s.capitalize() # capitaliza first letter"
   ]
  },
  {
   "cell_type": "code",
   "execution_count": 45,
   "id": "654f1196",
   "metadata": {},
   "outputs": [
    {
     "data": {
      "text/plain": [
       "31"
      ]
     },
     "execution_count": 45,
     "metadata": {},
     "output_type": "execute_result"
    }
   ],
   "source": [
    "len(s1) # len telling the length of varible including space"
   ]
  },
  {
   "cell_type": "code",
   "execution_count": 55,
   "id": "572992f8",
   "metadata": {},
   "outputs": [
    {
     "data": {
      "text/plain": [
       "0"
      ]
     },
     "execution_count": 55,
     "metadata": {},
     "output_type": "execute_result"
    }
   ],
   "source": [
    "s.find('a') # using find you get the index of the valible\n",
    "# like arshan=a=0,r=1,s=2,h=3,a=4,n=5 and also save in reverse like n=-1,a=-2,h=-3,s=-3,r=-5,a=-6\n",
    "# if you swift and tab then you find dotstring of the funcation"
   ]
  },
  {
   "cell_type": "code",
   "execution_count": 62,
   "id": "215e777f",
   "metadata": {},
   "outputs": [
    {
     "data": {
      "text/plain": [
       "-1"
      ]
     },
     "execution_count": 62,
     "metadata": {},
     "output_type": "execute_result"
    }
   ],
   "source": [
    "s.find('y') # if any data not persent in varible then python give you -1'"
   ]
  },
  {
   "cell_type": "code",
   "execution_count": 61,
   "id": "d729476b",
   "metadata": {},
   "outputs": [
    {
     "data": {
      "text/plain": [
       "0"
      ]
     },
     "execution_count": 61,
     "metadata": {},
     "output_type": "execute_result"
    }
   ],
   "source": [
    "s.find('a') # we have two 'a' in the varible the python give you first index"
   ]
  },
  {
   "cell_type": "code",
   "execution_count": 66,
   "id": "64453f04",
   "metadata": {},
   "outputs": [
    {
     "data": {
      "text/plain": [
       "2"
      ]
     },
     "execution_count": 66,
     "metadata": {},
     "output_type": "execute_result"
    }
   ],
   "source": [
    "s.count('a') # how many time value present in varible\n",
    "# this funcation used to count the values"
   ]
  },
  {
   "cell_type": "code",
   "execution_count": 68,
   "id": "4be513ea",
   "metadata": {},
   "outputs": [
    {
     "data": {
      "text/plain": [
       "'THIS IS MY STRING INBUILT CLASS'"
      ]
     },
     "execution_count": 68,
     "metadata": {},
     "output_type": "execute_result"
    }
   ],
   "source": [
    "s1.upper() # this funcation used to upper every values"
   ]
  },
  {
   "cell_type": "code",
   "execution_count": 70,
   "id": "ffe264ec",
   "metadata": {},
   "outputs": [],
   "source": [
    "s3=\"AyanKhan\""
   ]
  },
  {
   "cell_type": "code",
   "execution_count": 73,
   "id": "4a7900fd",
   "metadata": {},
   "outputs": [
    {
     "data": {
      "text/plain": [
       "'ayankhan'"
      ]
     },
     "execution_count": 73,
     "metadata": {},
     "output_type": "execute_result"
    }
   ],
   "source": [
    "s3.lower() # this funcation used to do lower every data\n",
    "# it is create only for seeing in a cell"
   ]
  },
  {
   "cell_type": "code",
   "execution_count": 72,
   "id": "e75afb2d",
   "metadata": {},
   "outputs": [
    {
     "data": {
      "text/plain": [
       "'AyanKhan'"
      ]
     },
     "execution_count": 72,
     "metadata": {},
     "output_type": "execute_result"
    }
   ],
   "source": [
    "s3"
   ]
  },
  {
   "cell_type": "code",
   "execution_count": 74,
   "id": "0c777edf",
   "metadata": {},
   "outputs": [],
   "source": [
    "s3=s3.lower() # to do lower you reassign the data"
   ]
  },
  {
   "cell_type": "code",
   "execution_count": 75,
   "id": "d23cb9c5",
   "metadata": {},
   "outputs": [
    {
     "data": {
      "text/plain": [
       "'ayankhan'"
      ]
     },
     "execution_count": 75,
     "metadata": {},
     "output_type": "execute_result"
    }
   ],
   "source": [
    "s3"
   ]
  },
  {
   "cell_type": "code",
   "execution_count": 79,
   "id": "1208b985",
   "metadata": {},
   "outputs": [
    {
     "data": {
      "text/plain": [
       "'tHIS IS MY STRING INBUILT CLASS'"
      ]
     },
     "execution_count": 79,
     "metadata": {},
     "output_type": "execute_result"
    }
   ],
   "source": [
    "s1.swapcase() # this function swap values upper to lower and lower to capital"
   ]
  },
  {
   "cell_type": "code",
   "execution_count": 81,
   "id": "aeec496c",
   "metadata": {},
   "outputs": [
    {
     "data": {
      "text/plain": [
       "'This Is My String Inbuilt Class'"
      ]
     },
     "execution_count": 81,
     "metadata": {},
     "output_type": "execute_result"
    }
   ],
   "source": [
    "s1.title() # this function used to do first letter upper in every string"
   ]
  },
  {
   "cell_type": "markdown",
   "id": "fa25c799",
   "metadata": {},
   "source": [
    "# MCQ"
   ]
  },
  {
   "cell_type": "markdown",
   "id": "713760fd",
   "metadata": {},
   "source": [
    "# 1.Which of the following special characters are used to define a string?\n",
    "\n",
    "\n",
    "- ‘ ‘\n",
    "\n",
    "\n",
    "- “ “\n",
    "\n",
    "\n",
    "- None of the above\n",
    "\n",
    "\n",
    "# Both (a) and (b)\n",
    "\n",
    "# Explanation: To write any value in string format both ‘ ‘ and “ “ is used. Refer the below variable to answer further questions: word = ‘Snake’"
   ]
  },
  {
   "cell_type": "markdown",
   "id": "cd6db90f",
   "metadata": {},
   "source": [
    "# Q2-Refer the below variable to answer further questions:\n",
    "\n",
    "word = ‘Snake’\n",
    "\n",
    "Here, what will be the output of print(word[3]) ?\n",
    "\n",
    "\n",
    "- True\n",
    "\n",
    "\n",
    "- False\n",
    "\n",
    "\n",
    "# k\n",
    "\n",
    "\n",
    "- ‘k’\n",
    "\n",
    "# Explanation: When w[3] is executed then it will return ‘k’ because that is the 3rd object. Since, the print statement always convert the object into string before displaying on screen and the object is itself a string thus it will display only k."
   ]
  },
  {
   "cell_type": "markdown",
   "id": "96a6f6e5",
   "metadata": {},
   "source": [
    "# Q4- Suppose we need to find ‘a’ in the variable then which one is the correct method to use to find()?\n",
    "\n",
    "\n",
    "# word.find(‘a’)\n",
    "\n",
    "\n",
    "word.find(a)\n",
    "\n",
    "\n",
    "‘a’.find(word)\n",
    "\n",
    "\n",
    "a.find(word)\n",
    "\n",
    "# Explanation: Since, the object we are finding is a string type in the variable thus we will execute word.find(‘a’)."
   ]
  },
  {
   "cell_type": "markdown",
   "id": "9657a68c",
   "metadata": {},
   "source": [
    "# Q6- What will be the output for word[-2]?\n",
    "\n",
    "\n",
    "# ‘k’\n",
    "\n",
    "\n",
    "‘a’\n",
    "\n",
    "\n",
    "Invalid syntax\n",
    "\n",
    "\n",
    "None of the above\n",
    "\n",
    "# Explanation: When a negative integer is passed the counting will start from -1 and from the back or right end of the string. Thus the output will be"
   ]
  },
  {
   "cell_type": "markdown",
   "id": "ce0152e3",
   "metadata": {},
   "source": [
    "# Q5-Which one of the following codes will return True after execution?\n",
    "\n",
    "\n",
    "word.upper()\n",
    "\n",
    "\n",
    "word.isupper()\n",
    "\n",
    "\n",
    "# word.upper().isupper()\n",
    "\n",
    "\n",
    "word.upper().is_upper()\n",
    "\n",
    "# Explanation: upper() function will return all the alphabetical characters in the strings by converting them into upper case, but it won’t change the value inside the variable. Whereas, the isupper() function will check if all the alphabetical characters are in upper case and return a boolean value. Thus, word.upper().isupper() will first convert all the alphabetical characters into upper case then it will check if all the characters are in upper case then it will return True.\n",
    "\n"
   ]
  },
  {
   "cell_type": "markdown",
   "id": "56d4727b",
   "metadata": {},
   "source": [
    "# String Slicing and String Indexing"
   ]
  },
  {
   "cell_type": "code",
   "execution_count": 12,
   "id": "42c78fee",
   "metadata": {},
   "outputs": [],
   "source": [
    "s=\"Arshankhan\" # forword indexing and downwords indexing starded with 0"
   ]
  },
  {
   "cell_type": "code",
   "execution_count": 2,
   "id": "c22d9bc8",
   "metadata": {},
   "outputs": [
    {
     "data": {
      "text/plain": [
       "'A'"
      ]
     },
     "execution_count": 2,
     "metadata": {},
     "output_type": "execute_result"
    }
   ],
   "source": [
    "s[0]"
   ]
  },
  {
   "cell_type": "code",
   "execution_count": 15,
   "id": "5e3273f8",
   "metadata": {},
   "outputs": [
    {
     "data": {
      "text/plain": [
       "'n'"
      ]
     },
     "execution_count": 15,
     "metadata": {},
     "output_type": "execute_result"
    }
   ],
   "source": [
    "s[-1] # backword indexing"
   ]
  },
  {
   "cell_type": "code",
   "execution_count": 14,
   "id": "b1ee96a2",
   "metadata": {},
   "outputs": [
    {
     "ename": "IndexError",
     "evalue": "string index out of range",
     "output_type": "error",
     "traceback": [
      "\u001b[1;31m---------------------------------------------------------------------------\u001b[0m",
      "\u001b[1;31mIndexError\u001b[0m                                Traceback (most recent call last)",
      "Cell \u001b[1;32mIn[14], line 1\u001b[0m\n\u001b[1;32m----> 1\u001b[0m s[\u001b[38;5;241m100\u001b[39m]\n",
      "\u001b[1;31mIndexError\u001b[0m: string index out of range"
     ]
    }
   ],
   "source": [
    "s[100] # This is not in range"
   ]
  },
  {
   "cell_type": "code",
   "execution_count": 17,
   "id": "b403c3c6",
   "metadata": {},
   "outputs": [
    {
     "data": {
      "text/plain": [
       "'Arshankhan'"
      ]
     },
     "execution_count": 17,
     "metadata": {},
     "output_type": "execute_result"
    }
   ],
   "source": [
    "s"
   ]
  },
  {
   "cell_type": "code",
   "execution_count": 21,
   "id": "c9e20113",
   "metadata": {},
   "outputs": [
    {
     "data": {
      "text/plain": [
       "'Arshan'"
      ]
     },
     "execution_count": 21,
     "metadata": {},
     "output_type": "execute_result"
    }
   ],
   "source": [
    "s[0:6] # starting point and end point excluted that the reson we put one more indexing"
   ]
  },
  {
   "cell_type": "code",
   "execution_count": 22,
   "id": "a2262188",
   "metadata": {},
   "outputs": [
    {
     "data": {
      "text/plain": [
       "'Asaka'"
      ]
     },
     "execution_count": 22,
     "metadata": {},
     "output_type": "execute_result"
    }
   ],
   "source": [
    "# Alternate data\n",
    "s[0:9:2]"
   ]
  },
  {
   "cell_type": "code",
   "execution_count": 26,
   "id": "3c6235c6",
   "metadata": {},
   "outputs": [
    {
     "data": {
      "text/plain": [
       "'Asaka'"
      ]
     },
     "execution_count": 26,
     "metadata": {},
     "output_type": "execute_result"
    }
   ],
   "source": [
    "s[0:100:2] # in the selecing you dont get the error"
   ]
  },
  {
   "cell_type": "code",
   "execution_count": 29,
   "id": "617411d6",
   "metadata": {},
   "outputs": [
    {
     "data": {
      "text/plain": [
       "''"
      ]
     },
     "execution_count": 29,
     "metadata": {},
     "output_type": "execute_result"
    }
   ],
   "source": [
    "s[0:8:-1] # you just say starting point 0 go to eigth and jump in negative that is conflict that the reson we get balacked"
   ]
  },
  {
   "cell_type": "code",
   "execution_count": 30,
   "id": "097f9f01",
   "metadata": {},
   "outputs": [
    {
     "data": {
      "text/plain": [
       "'ahknahs'"
      ]
     },
     "execution_count": 30,
     "metadata": {},
     "output_type": "execute_result"
    }
   ],
   "source": [
    "s[8:1:-1]"
   ]
  },
  {
   "cell_type": "code",
   "execution_count": 31,
   "id": "93af0761",
   "metadata": {},
   "outputs": [
    {
     "data": {
      "text/plain": [
       "'Arshankha'"
      ]
     },
     "execution_count": 31,
     "metadata": {},
     "output_type": "execute_result"
    }
   ],
   "source": [
    "s[:-1]"
   ]
  },
  {
   "cell_type": "code",
   "execution_count": 33,
   "id": "80736fbb",
   "metadata": {},
   "outputs": [
    {
     "data": {
      "text/plain": [
       "'nahknahsrA'"
      ]
     },
     "execution_count": 33,
     "metadata": {},
     "output_type": "execute_result"
    }
   ],
   "source": [
    "s[::-1] # get wholw data in reverse"
   ]
  },
  {
   "cell_type": "markdown",
   "id": "b624429e",
   "metadata": {},
   "source": [
    "# Q and A"
   ]
  },
  {
   "cell_type": "markdown",
   "id": "987d2979",
   "metadata": {},
   "source": [
    "# Question 1- How can we store a quote (') as a string in a varible"
   ]
  },
  {
   "cell_type": "code",
   "execution_count": 35,
   "id": "4691a4bf",
   "metadata": {},
   "outputs": [
    {
     "name": "stdout",
     "output_type": "stream",
     "text": [
      "he said, i love programing\n"
     ]
    }
   ],
   "source": [
    "# Answer 1- To store quote(') as a string in a varible you can use double quotes (\") to enclodse the string For exanple\n",
    "a= \"he said, i love programing\"\n",
    "print(a)"
   ]
  },
  {
   "cell_type": "markdown",
   "id": "70514ab0",
   "metadata": {},
   "source": [
    "# Question 2- Refer the below variable: x='a' Here,is a character type or string type varible? Support your answer with an explanation"
   ]
  },
  {
   "cell_type": "markdown",
   "id": "a3e37111",
   "metadata": {},
   "source": [
    "# Answer 2- In python, both a single character and a string of character are represented using the same type of data the string Therefore,In the variable x='a' , x is a string varible containing a string character varible It is actually a string of length one so,In short the varible 'x' is a string type varible containing a single character 'a'"
   ]
  },
  {
   "cell_type": "markdown",
   "id": "f37522f0",
   "metadata": {},
   "source": [
    "# Question 3- Apply the following funcation on this varible welcome to python foundation course\n",
    "- 1-find()\n",
    "- 2-count()\n",
    "- 3-len()\n",
    "- 4-concatenation"
   ]
  },
  {
   "cell_type": "markdown",
   "id": "aaaabb90",
   "metadata": {},
   "source": [
    "# Answer 3- Funcation Apply 1- The find() funcation is used to find the index of the fist occurrence of a substring with in a string"
   ]
  },
  {
   "cell_type": "code",
   "execution_count": 36,
   "id": "a7f1dc6c",
   "metadata": {},
   "outputs": [
    {
     "data": {
      "text/plain": [
       "'he said, i love programing'"
      ]
     },
     "execution_count": 36,
     "metadata": {},
     "output_type": "execute_result"
    }
   ],
   "source": [
    "a"
   ]
  },
  {
   "cell_type": "code",
   "execution_count": 37,
   "id": "7515402f",
   "metadata": {},
   "outputs": [
    {
     "data": {
      "text/plain": [
       "3"
      ]
     },
     "execution_count": 37,
     "metadata": {},
     "output_type": "execute_result"
    }
   ],
   "source": [
    "a.find('s')"
   ]
  },
  {
   "cell_type": "code",
   "execution_count": 38,
   "id": "56425701",
   "metadata": {},
   "outputs": [
    {
     "data": {
      "text/plain": [
       "2"
      ]
     },
     "execution_count": 38,
     "metadata": {},
     "output_type": "execute_result"
    }
   ],
   "source": [
    "a.count('a')"
   ]
  },
  {
   "cell_type": "code",
   "execution_count": 39,
   "id": "fcb5dee6",
   "metadata": {},
   "outputs": [
    {
     "data": {
      "text/plain": [
       "26"
      ]
     },
     "execution_count": 39,
     "metadata": {},
     "output_type": "execute_result"
    }
   ],
   "source": [
    "len(a)"
   ]
  },
  {
   "cell_type": "code",
   "execution_count": 40,
   "id": "2f8b9260",
   "metadata": {},
   "outputs": [],
   "source": [
    "A=\"Arshan\"\n",
    "K=\"Khan\""
   ]
  },
  {
   "cell_type": "code",
   "execution_count": 41,
   "id": "5264f74c",
   "metadata": {},
   "outputs": [
    {
     "data": {
      "text/plain": [
       "'Arshan'"
      ]
     },
     "execution_count": 41,
     "metadata": {},
     "output_type": "execute_result"
    }
   ],
   "source": [
    "A"
   ]
  },
  {
   "cell_type": "code",
   "execution_count": 42,
   "id": "74676990",
   "metadata": {},
   "outputs": [
    {
     "data": {
      "text/plain": [
       "'Khan'"
      ]
     },
     "execution_count": 42,
     "metadata": {},
     "output_type": "execute_result"
    }
   ],
   "source": [
    "K"
   ]
  },
  {
   "cell_type": "code",
   "execution_count": 43,
   "id": "ee13c354",
   "metadata": {},
   "outputs": [],
   "source": [
    "result = A+ \" \" + K"
   ]
  },
  {
   "cell_type": "code",
   "execution_count": 44,
   "id": "5024137e",
   "metadata": {},
   "outputs": [
    {
     "data": {
      "text/plain": [
       "'Arshan Khan'"
      ]
     },
     "execution_count": 44,
     "metadata": {},
     "output_type": "execute_result"
    }
   ],
   "source": [
    "result"
   ]
  },
  {
   "cell_type": "markdown",
   "id": "1d951d9d",
   "metadata": {},
   "source": [
    "# Question 4- For the varible word =panji@12256 calculate the following a- total number of aphabetes in lowercase b- total number of aphabetes in uppercase c- total number of aphabetes in string"
   ]
  },
  {
   "cell_type": "code",
   "execution_count": 45,
   "id": "fa61eb31",
   "metadata": {},
   "outputs": [],
   "source": [
    "w= 'panaji@12256'"
   ]
  },
  {
   "cell_type": "code",
   "execution_count": 46,
   "id": "75534fa3",
   "metadata": {},
   "outputs": [
    {
     "data": {
      "text/plain": [
       "'panaji@12256'"
      ]
     },
     "execution_count": 46,
     "metadata": {},
     "output_type": "execute_result"
    }
   ],
   "source": [
    "w"
   ]
  },
  {
   "cell_type": "code",
   "execution_count": 47,
   "id": "438b378c",
   "metadata": {},
   "outputs": [
    {
     "data": {
      "text/plain": [
       "'panaji@12256'"
      ]
     },
     "execution_count": 47,
     "metadata": {},
     "output_type": "execute_result"
    }
   ],
   "source": [
    "w.lower()"
   ]
  },
  {
   "cell_type": "code",
   "execution_count": 54,
   "id": "1b31d8d2",
   "metadata": {},
   "outputs": [
    {
     "data": {
      "text/plain": [
       "'PANAJI@12256'"
      ]
     },
     "execution_count": 54,
     "metadata": {},
     "output_type": "execute_result"
    }
   ],
   "source": [
    "w.upper()"
   ]
  },
  {
   "cell_type": "code",
   "execution_count": 55,
   "id": "657d07e8",
   "metadata": {},
   "outputs": [
    {
     "data": {
      "text/plain": [
       "12"
      ]
     },
     "execution_count": 55,
     "metadata": {},
     "output_type": "execute_result"
    }
   ],
   "source": [
    "len(w)"
   ]
  },
  {
   "cell_type": "markdown",
   "id": "be511f3a",
   "metadata": {},
   "source": [
    "# Qiestion 5- Write a code to store a numerical value in side a variable then convet it into string\n",
    "\n",
    "# Answer 5- In this ,we fist store the numerical value '79' in the varible 'num' we then use the 'str' funcation to convert the numerical value to a string and store the result in the value of 'num_str' finally we print out the value of 'num'_str' to verify that the conversion was succesful"
   ]
  },
  {
   "cell_type": "code",
   "execution_count": 56,
   "id": "321a9b8f",
   "metadata": {},
   "outputs": [],
   "source": [
    "num='79'"
   ]
  },
  {
   "cell_type": "code",
   "execution_count": 57,
   "id": "96d83892",
   "metadata": {},
   "outputs": [],
   "source": [
    "num_str=str(num)"
   ]
  },
  {
   "cell_type": "code",
   "execution_count": 58,
   "id": "cb8e0078",
   "metadata": {},
   "outputs": [
    {
     "name": "stdout",
     "output_type": "stream",
     "text": [
      "num is of type: <class 'str'> 79: 79\n"
     ]
    }
   ],
   "source": [
    "print(\"num is of type:\",type(num), \"79:\",num)"
   ]
  },
  {
   "cell_type": "code",
   "execution_count": 59,
   "id": "3e5978b6",
   "metadata": {},
   "outputs": [
    {
     "name": "stdout",
     "output_type": "stream",
     "text": [
      "num_str is of type: <class 'str'> 79: 79\n"
     ]
    }
   ],
   "source": [
    "print(\"num_str is of type:\",type(num_str),\"79:\",num_str)"
   ]
  },
  {
   "cell_type": "markdown",
   "id": "ea5ab9f9",
   "metadata": {},
   "source": [
    "# MCQ"
   ]
  },
  {
   "cell_type": "markdown",
   "id": "b41c06ec",
   "metadata": {},
   "source": [
    "# Q1-What is the result of the following code snippet?\n",
    "\n",
    "my_string = \"hello world\"\n",
    "\n",
    "print(my_string[3])\n",
    "\n",
    "\n",
    "\"h\"\n",
    "\n",
    "\n",
    " \"e\"\n",
    "\n",
    "\n",
    "#  \"l\"\n",
    "\n",
    "\n",
    "\"o\"\n",
    "\n",
    "# Explanation: In python string, indexing starts from 0th position thus it will print the second “l”."
   ]
  },
  {
   "cell_type": "markdown",
   "id": "40f72b23",
   "metadata": {},
   "source": [
    "# 2.What is the result of the following code snippet?\n",
    "\n",
    "my_string = \"hello world\"\n",
    "\n",
    "print(my_string[2:5])\n",
    "\n",
    "\n",
    "\"hel\"\n",
    "\n",
    "\n",
    "\"llo\"\n",
    "\n",
    "\n",
    " \"lo \"\n",
    "\n",
    "\n",
    "# \"llo \"\n",
    "\n",
    "# Explanation: Here, the output will be from position 2 to position 4 that is “hel”."
   ]
  },
  {
   "cell_type": "markdown",
   "id": "97ac7e3b",
   "metadata": {},
   "source": [
    "# 3.What is the result of the following code snippet?\n",
    "\n",
    "my_string = \"hello world\"\n",
    "\n",
    "print(my_string[-3:])\n",
    "\n",
    "\n",
    "\"hello\"\n",
    "\n",
    "\n",
    "\"wor\"\n",
    "\n",
    "\n",
    "# \"rld\"\n",
    "\n",
    "\n",
    "\"orld\"\n",
    "\n",
    "# Explanation: This will print the following position -3, -2 and -1 that is \"rld\"."
   ]
  },
  {
   "cell_type": "markdown",
   "id": "65e03d0e",
   "metadata": {},
   "source": [
    "# 4.What is the result of the following code snippet?\n",
    "\n",
    "my_string = \"hello world\"\n",
    "\n",
    "print(len(my_string))\n",
    "\n",
    "\n",
    "# 11\n",
    "\n",
    "\n",
    "12\n",
    "\n",
    "\n",
    "10\n",
    "\n",
    "\n",
    "13\n",
    "\n",
    "# Explanation: This will print the number of elements present in the strings, that will include alphabets, numeric and special characters."
   ]
  },
  {
   "cell_type": "markdown",
   "id": "7afb2551",
   "metadata": {},
   "source": [
    "# 5.What is the result of the following code snippet?\n",
    "\n",
    "my_string = \"hello world\"\n",
    "\n",
    "print(my_string[:5])\n",
    "\n",
    "\n",
    "# \"hello\"\n",
    "\n",
    "\n",
    " \"world\"\n",
    "\n",
    "\n",
    " \"ello \"\n",
    "\n",
    "\n",
    "\"hello \"\n",
    "\n",
    "# Explanation: Since, the initial position is blank then the default initial index will be 0. Thus, the slicing operation will happen from 0 to 5 index."
   ]
  },
  {
   "cell_type": "markdown",
   "id": "a3417fa5",
   "metadata": {},
   "source": [
    "# List"
   ]
  },
  {
   "cell_type": "code",
   "execution_count": 62,
   "id": "bc0e0bf7",
   "metadata": {},
   "outputs": [],
   "source": [
    "l= [] # for list we used  square bracket"
   ]
  },
  {
   "cell_type": "code",
   "execution_count": 63,
   "id": "4f7cfe06",
   "metadata": {},
   "outputs": [
    {
     "data": {
      "text/plain": [
       "list"
      ]
     },
     "execution_count": 63,
     "metadata": {},
     "output_type": "execute_result"
    }
   ],
   "source": [
    "type(l)"
   ]
  },
  {
   "cell_type": "code",
   "execution_count": 67,
   "id": "3859906b",
   "metadata": {},
   "outputs": [],
   "source": [
    "a=[1,2,3,4,5,6,7,8,9,True,4+9j,\"Arshan\"] # we save any type of data"
   ]
  },
  {
   "cell_type": "code",
   "execution_count": 68,
   "id": "dcd6bb1e",
   "metadata": {},
   "outputs": [
    {
     "data": {
      "text/plain": [
       "[1, 2, 3, 4, 5, 6, 7, 8, 9, True, (4+9j), 'Arshan']"
      ]
     },
     "execution_count": 68,
     "metadata": {},
     "output_type": "execute_result"
    }
   ],
   "source": [
    "a"
   ]
  },
  {
   "cell_type": "code",
   "execution_count": 69,
   "id": "12b1183b",
   "metadata": {},
   "outputs": [],
   "source": [
    "l1=['Ayan',5,45.67,True]"
   ]
  },
  {
   "cell_type": "code",
   "execution_count": 70,
   "id": "a53c1f4a",
   "metadata": {},
   "outputs": [
    {
     "data": {
      "text/plain": [
       "45.67"
      ]
     },
     "execution_count": 70,
     "metadata": {},
     "output_type": "execute_result"
    }
   ],
   "source": [
    "l1[2]"
   ]
  },
  {
   "cell_type": "code",
   "execution_count": 71,
   "id": "43cfa076",
   "metadata": {},
   "outputs": [
    {
     "data": {
      "text/plain": [
       "True"
      ]
     },
     "execution_count": 71,
     "metadata": {},
     "output_type": "execute_result"
    }
   ],
   "source": [
    "l1[3]"
   ]
  },
  {
   "cell_type": "code",
   "execution_count": 72,
   "id": "bc8a28fb",
   "metadata": {},
   "outputs": [
    {
     "data": {
      "text/plain": [
       "'Ayan'"
      ]
     },
     "execution_count": 72,
     "metadata": {},
     "output_type": "execute_result"
    }
   ],
   "source": [
    "l1[0]"
   ]
  },
  {
   "cell_type": "code",
   "execution_count": 73,
   "id": "ad1e3cba",
   "metadata": {},
   "outputs": [
    {
     "data": {
      "text/plain": [
       "True"
      ]
     },
     "execution_count": 73,
     "metadata": {},
     "output_type": "execute_result"
    }
   ],
   "source": [
    "l1[-1]"
   ]
  },
  {
   "cell_type": "code",
   "execution_count": 74,
   "id": "37bc9d13",
   "metadata": {},
   "outputs": [
    {
     "ename": "IndexError",
     "evalue": "list index out of range",
     "output_type": "error",
     "traceback": [
      "\u001b[1;31m---------------------------------------------------------------------------\u001b[0m",
      "\u001b[1;31mIndexError\u001b[0m                                Traceback (most recent call last)",
      "Cell \u001b[1;32mIn[74], line 1\u001b[0m\n\u001b[1;32m----> 1\u001b[0m l1[\u001b[38;5;241m100\u001b[39m]\n",
      "\u001b[1;31mIndexError\u001b[0m: list index out of range"
     ]
    }
   ],
   "source": [
    "l1[100]"
   ]
  },
  {
   "cell_type": "code",
   "execution_count": 77,
   "id": "35f44cc3",
   "metadata": {},
   "outputs": [
    {
     "data": {
      "text/plain": [
       "[True, 45.67, 5, 'Ayan']"
      ]
     },
     "execution_count": 77,
     "metadata": {},
     "output_type": "execute_result"
    }
   ],
   "source": [
    "l1[::-1] # tampary changes"
   ]
  },
  {
   "cell_type": "code",
   "execution_count": 76,
   "id": "3203a4c0",
   "metadata": {},
   "outputs": [
    {
     "data": {
      "text/plain": [
       "['Ayan', 5, 45.67, True]"
      ]
     },
     "execution_count": 76,
     "metadata": {},
     "output_type": "execute_result"
    }
   ],
   "source": [
    "l1"
   ]
  },
  {
   "cell_type": "code",
   "execution_count": 78,
   "id": "43c0adf9",
   "metadata": {},
   "outputs": [],
   "source": [
    "l1[1]=100"
   ]
  },
  {
   "cell_type": "code",
   "execution_count": 80,
   "id": "9fd4b569",
   "metadata": {},
   "outputs": [
    {
     "data": {
      "text/plain": [
       "['Ayan', 100, 45.67, True]"
      ]
     },
     "execution_count": 80,
     "metadata": {},
     "output_type": "execute_result"
    }
   ],
   "source": [
    "l1 # change data"
   ]
  },
  {
   "cell_type": "code",
   "execution_count": 81,
   "id": "ffc028af",
   "metadata": {},
   "outputs": [],
   "source": [
    "s=\"string\""
   ]
  },
  {
   "cell_type": "code",
   "execution_count": 83,
   "id": "dfef6f44",
   "metadata": {},
   "outputs": [
    {
     "ename": "TypeError",
     "evalue": "'str' object does not support item assignment",
     "output_type": "error",
     "traceback": [
      "\u001b[1;31m---------------------------------------------------------------------------\u001b[0m",
      "\u001b[1;31mTypeError\u001b[0m                                 Traceback (most recent call last)",
      "Cell \u001b[1;32mIn[83], line 1\u001b[0m\n\u001b[1;32m----> 1\u001b[0m s[\u001b[38;5;241m0\u001b[39m]\u001b[38;5;241m=\u001b[39m\u001b[38;5;124m'\u001b[39m\u001b[38;5;124ma\u001b[39m\u001b[38;5;124m'\u001b[39m\n",
      "\u001b[1;31mTypeError\u001b[0m: 'str' object does not support item assignment"
     ]
    }
   ],
   "source": [
    "s[0]='a' # we can not  change data in string"
   ]
  },
  {
   "cell_type": "markdown",
   "id": "dd6401b2",
   "metadata": {},
   "source": [
    "# mutable=change to allow data like list \n",
    "# inmultable= can not change data in string"
   ]
  },
  {
   "cell_type": "markdown",
   "id": "1a38bc13",
   "metadata": {},
   "source": [
    "# List Funcation"
   ]
  },
  {
   "cell_type": "code",
   "execution_count": 1,
   "id": "a7fe2d66",
   "metadata": {},
   "outputs": [],
   "source": [
    "l=[3,4,5,54.45,\"Ayan\",True]"
   ]
  },
  {
   "cell_type": "code",
   "execution_count": 2,
   "id": "7360e4c3",
   "metadata": {},
   "outputs": [
    {
     "data": {
      "text/plain": [
       "list"
      ]
     },
     "execution_count": 2,
     "metadata": {},
     "output_type": "execute_result"
    }
   ],
   "source": [
    "type(l)"
   ]
  },
  {
   "cell_type": "code",
   "execution_count": 3,
   "id": "0db13dd7",
   "metadata": {},
   "outputs": [
    {
     "data": {
      "text/plain": [
       "[3, 4, 5, 54.45, 'Ayan', True, 3, 4, 5, 54.45, 'Ayan', True]"
      ]
     },
     "execution_count": 3,
     "metadata": {},
     "output_type": "execute_result"
    }
   ],
   "source": [
    "l*2"
   ]
  },
  {
   "cell_type": "code",
   "execution_count": 4,
   "id": "dc84928a",
   "metadata": {},
   "outputs": [
    {
     "data": {
      "text/plain": [
       "[3,\n",
       " 4,\n",
       " 5,\n",
       " 54.45,\n",
       " 'Ayan',\n",
       " True,\n",
       " 3,\n",
       " 4,\n",
       " 5,\n",
       " 54.45,\n",
       " 'Ayan',\n",
       " True,\n",
       " 3,\n",
       " 4,\n",
       " 5,\n",
       " 54.45,\n",
       " 'Ayan',\n",
       " True]"
      ]
     },
     "execution_count": 4,
     "metadata": {},
     "output_type": "execute_result"
    }
   ],
   "source": [
    "l*3"
   ]
  },
  {
   "cell_type": "code",
   "execution_count": 5,
   "id": "73977fcb",
   "metadata": {},
   "outputs": [],
   "source": [
    "s=\"ayan\""
   ]
  },
  {
   "cell_type": "code",
   "execution_count": 6,
   "id": "4a745039",
   "metadata": {},
   "outputs": [
    {
     "data": {
      "text/plain": [
       "'ayanayanayan'"
      ]
     },
     "execution_count": 6,
     "metadata": {},
     "output_type": "execute_result"
    }
   ],
   "source": [
    "s*3"
   ]
  },
  {
   "cell_type": "code",
   "execution_count": 7,
   "id": "476ea95c",
   "metadata": {},
   "outputs": [
    {
     "data": {
      "text/plain": [
       "[3, 4, 5, 54.45, 'Ayan', True]"
      ]
     },
     "execution_count": 7,
     "metadata": {},
     "output_type": "execute_result"
    }
   ],
   "source": [
    "l"
   ]
  },
  {
   "cell_type": "code",
   "execution_count": 8,
   "id": "d327e3d9",
   "metadata": {},
   "outputs": [],
   "source": [
    "l1=[3,4,5,6,7]"
   ]
  },
  {
   "cell_type": "code",
   "execution_count": 10,
   "id": "a581f922",
   "metadata": {},
   "outputs": [
    {
     "data": {
      "text/plain": [
       "[3, 4, 5, 54.45, 'Ayan', True, 3, 4, 5, 6, 7]"
      ]
     },
     "execution_count": 10,
     "metadata": {},
     "output_type": "execute_result"
    }
   ],
   "source": [
    "l+l1 # append the data"
   ]
  },
  {
   "cell_type": "code",
   "execution_count": 12,
   "id": "b68d2026",
   "metadata": {},
   "outputs": [
    {
     "ename": "TypeError",
     "evalue": "can only concatenate list (not \"int\") to list",
     "output_type": "error",
     "traceback": [
      "\u001b[1;31m---------------------------------------------------------------------------\u001b[0m",
      "\u001b[1;31mTypeError\u001b[0m                                 Traceback (most recent call last)",
      "Cell \u001b[1;32mIn[12], line 1\u001b[0m\n\u001b[1;32m----> 1\u001b[0m l\u001b[38;5;241m+\u001b[39m\u001b[38;5;241m2\u001b[39m\n",
      "\u001b[1;31mTypeError\u001b[0m: can only concatenate list (not \"int\") to list"
     ]
    }
   ],
   "source": [
    "l+2 # you can not add any int ans string it is work on list"
   ]
  },
  {
   "cell_type": "code",
   "execution_count": 13,
   "id": "05949f1d",
   "metadata": {},
   "outputs": [
    {
     "data": {
      "text/plain": [
       "6"
      ]
     },
     "execution_count": 13,
     "metadata": {},
     "output_type": "execute_result"
    }
   ],
   "source": [
    "len(l)"
   ]
  },
  {
   "cell_type": "code",
   "execution_count": 15,
   "id": "a922787c",
   "metadata": {},
   "outputs": [
    {
     "ename": "TypeError",
     "evalue": "object of type 'int' has no len()",
     "output_type": "error",
     "traceback": [
      "\u001b[1;31m---------------------------------------------------------------------------\u001b[0m",
      "\u001b[1;31mTypeError\u001b[0m                                 Traceback (most recent call last)",
      "Cell \u001b[1;32mIn[15], line 1\u001b[0m\n\u001b[1;32m----> 1\u001b[0m \u001b[38;5;28mlen\u001b[39m(\u001b[38;5;241m234\u001b[39m)\n",
      "\u001b[1;31mTypeError\u001b[0m: object of type 'int' has no len()"
     ]
    }
   ],
   "source": [
    "len(234) # in int not work"
   ]
  },
  {
   "cell_type": "code",
   "execution_count": 22,
   "id": "c5ec0c36",
   "metadata": {},
   "outputs": [
    {
     "data": {
      "text/plain": [
       "True"
      ]
     },
     "execution_count": 22,
     "metadata": {},
     "output_type": "execute_result"
    }
   ],
   "source": [
    "'Ayan' in l # find in l"
   ]
  },
  {
   "cell_type": "code",
   "execution_count": 19,
   "id": "9e5d0b49",
   "metadata": {},
   "outputs": [
    {
     "data": {
      "text/plain": [
       "False"
      ]
     },
     "execution_count": 19,
     "metadata": {},
     "output_type": "execute_result"
    }
   ],
   "source": [
    "110 in l"
   ]
  },
  {
   "cell_type": "code",
   "execution_count": 21,
   "id": "db162a58",
   "metadata": {},
   "outputs": [
    {
     "data": {
      "text/plain": [
       "7"
      ]
     },
     "execution_count": 21,
     "metadata": {},
     "output_type": "execute_result"
    }
   ],
   "source": [
    "max(l1)"
   ]
  },
  {
   "cell_type": "code",
   "execution_count": 23,
   "id": "c8c218a8",
   "metadata": {},
   "outputs": [
    {
     "ename": "TypeError",
     "evalue": "'>' not supported between instances of 'str' and 'float'",
     "output_type": "error",
     "traceback": [
      "\u001b[1;31m---------------------------------------------------------------------------\u001b[0m",
      "\u001b[1;31mTypeError\u001b[0m                                 Traceback (most recent call last)",
      "Cell \u001b[1;32mIn[23], line 1\u001b[0m\n\u001b[1;32m----> 1\u001b[0m \u001b[38;5;28mmax\u001b[39m(l)\n",
      "\u001b[1;31mTypeError\u001b[0m: '>' not supported between instances of 'str' and 'float'"
     ]
    }
   ],
   "source": [
    "max(l) # comparision does not work in different data types"
   ]
  },
  {
   "cell_type": "code",
   "execution_count": 24,
   "id": "47999bef",
   "metadata": {},
   "outputs": [],
   "source": [
    "l2=['Ayan','Arshan','zara']"
   ]
  },
  {
   "cell_type": "code",
   "execution_count": 26,
   "id": "041ecc53",
   "metadata": {},
   "outputs": [
    {
     "data": {
      "text/plain": [
       "'zara'"
      ]
     },
     "execution_count": 26,
     "metadata": {},
     "output_type": "execute_result"
    }
   ],
   "source": [
    "max(l2) # it comprision on string"
   ]
  },
  {
   "cell_type": "code",
   "execution_count": 27,
   "id": "d51f53a2",
   "metadata": {},
   "outputs": [
    {
     "data": {
      "text/plain": [
       "'Arshan'"
      ]
     },
     "execution_count": 27,
     "metadata": {},
     "output_type": "execute_result"
    }
   ],
   "source": [
    "min(l2)"
   ]
  },
  {
   "cell_type": "code",
   "execution_count": 28,
   "id": "7ec5086f",
   "metadata": {},
   "outputs": [],
   "source": [
    "l3=[True,False]"
   ]
  },
  {
   "cell_type": "code",
   "execution_count": 30,
   "id": "1f79788f",
   "metadata": {},
   "outputs": [
    {
     "data": {
      "text/plain": [
       "True"
      ]
     },
     "execution_count": 30,
     "metadata": {},
     "output_type": "execute_result"
    }
   ],
   "source": [
    "max(l3)"
   ]
  },
  {
   "cell_type": "code",
   "execution_count": 31,
   "id": "e4e0f334",
   "metadata": {},
   "outputs": [
    {
     "data": {
      "text/plain": [
       "False"
      ]
     },
     "execution_count": 31,
     "metadata": {},
     "output_type": "execute_result"
    }
   ],
   "source": [
    "min(l3)"
   ]
  },
  {
   "cell_type": "code",
   "execution_count": 34,
   "id": "9d5917a8",
   "metadata": {},
   "outputs": [],
   "source": [
    "l2.append(45) # append in end"
   ]
  },
  {
   "cell_type": "code",
   "execution_count": 33,
   "id": "3e19c02c",
   "metadata": {},
   "outputs": [
    {
     "data": {
      "text/plain": [
       "['Ayan', 'Arshan', 'zara', 45]"
      ]
     },
     "execution_count": 33,
     "metadata": {},
     "output_type": "execute_result"
    }
   ],
   "source": [
    "l2"
   ]
  },
  {
   "cell_type": "code",
   "execution_count": 37,
   "id": "b9820172",
   "metadata": {},
   "outputs": [],
   "source": [
    "l2.insert(1,55) # insert in between"
   ]
  },
  {
   "cell_type": "code",
   "execution_count": 36,
   "id": "0b4fb2d7",
   "metadata": {},
   "outputs": [
    {
     "data": {
      "text/plain": [
       "['Ayan', 55, 'Arshan', 'zara', 45, 45]"
      ]
     },
     "execution_count": 36,
     "metadata": {},
     "output_type": "execute_result"
    }
   ],
   "source": [
    "l2"
   ]
  },
  {
   "cell_type": "code",
   "execution_count": 38,
   "id": "400534e1",
   "metadata": {},
   "outputs": [
    {
     "data": {
      "text/plain": [
       "45"
      ]
     },
     "execution_count": 38,
     "metadata": {},
     "output_type": "execute_result"
    }
   ],
   "source": [
    "l2.pop() # delete one value random"
   ]
  },
  {
   "cell_type": "code",
   "execution_count": 39,
   "id": "b76ce448",
   "metadata": {},
   "outputs": [
    {
     "data": {
      "text/plain": [
       "['Ayan', 55, 55, 'Arshan', 'zara', 45]"
      ]
     },
     "execution_count": 39,
     "metadata": {},
     "output_type": "execute_result"
    }
   ],
   "source": [
    "l2"
   ]
  },
  {
   "cell_type": "code",
   "execution_count": 41,
   "id": "0ce360cc",
   "metadata": {},
   "outputs": [
    {
     "data": {
      "text/plain": [
       "45"
      ]
     },
     "execution_count": 41,
     "metadata": {},
     "output_type": "execute_result"
    }
   ],
   "source": [
    "l2.pop()"
   ]
  },
  {
   "cell_type": "code",
   "execution_count": 42,
   "id": "1c9ed338",
   "metadata": {},
   "outputs": [
    {
     "data": {
      "text/plain": [
       "['Ayan', 55, 55, 'Arshan', 'zara']"
      ]
     },
     "execution_count": 42,
     "metadata": {},
     "output_type": "execute_result"
    }
   ],
   "source": [
    "l2"
   ]
  },
  {
   "cell_type": "code",
   "execution_count": 44,
   "id": "d35741b2",
   "metadata": {},
   "outputs": [
    {
     "data": {
      "text/plain": [
       "55"
      ]
     },
     "execution_count": 44,
     "metadata": {},
     "output_type": "execute_result"
    }
   ],
   "source": [
    "l2.pop(2)"
   ]
  },
  {
   "cell_type": "code",
   "execution_count": 47,
   "id": "08774176",
   "metadata": {},
   "outputs": [
    {
     "data": {
      "text/plain": [
       "['Ayan', 55, 'Arshan', 'zara']"
      ]
     },
     "execution_count": 47,
     "metadata": {},
     "output_type": "execute_result"
    }
   ],
   "source": [
    "l2 # delete perticularly values with indexing"
   ]
  },
  {
   "cell_type": "code",
   "execution_count": 48,
   "id": "8b7b2648",
   "metadata": {},
   "outputs": [
    {
     "data": {
      "text/plain": [
       "['zara', 'Arshan', 55, 'Ayan']"
      ]
     },
     "execution_count": 48,
     "metadata": {},
     "output_type": "execute_result"
    }
   ],
   "source": [
    "l2[::-1]"
   ]
  },
  {
   "cell_type": "code",
   "execution_count": 49,
   "id": "5e6608da",
   "metadata": {},
   "outputs": [],
   "source": [
    "l2.reverse() # perpanent"
   ]
  },
  {
   "cell_type": "code",
   "execution_count": 50,
   "id": "ea0e8307",
   "metadata": {},
   "outputs": [
    {
     "data": {
      "text/plain": [
       "['zara', 'Arshan', 55, 'Ayan']"
      ]
     },
     "execution_count": 50,
     "metadata": {},
     "output_type": "execute_result"
    }
   ],
   "source": [
    "l2"
   ]
  },
  {
   "cell_type": "code",
   "execution_count": 51,
   "id": "65403e06",
   "metadata": {},
   "outputs": [
    {
     "ename": "TypeError",
     "evalue": "'<' not supported between instances of 'int' and 'str'",
     "output_type": "error",
     "traceback": [
      "\u001b[1;31m---------------------------------------------------------------------------\u001b[0m",
      "\u001b[1;31mTypeError\u001b[0m                                 Traceback (most recent call last)",
      "Cell \u001b[1;32mIn[51], line 1\u001b[0m\n\u001b[1;32m----> 1\u001b[0m l2\u001b[38;5;241m.\u001b[39msort()\n",
      "\u001b[1;31mTypeError\u001b[0m: '<' not supported between instances of 'int' and 'str'"
     ]
    }
   ],
   "source": [
    "l2.sort() "
   ]
  },
  {
   "cell_type": "code",
   "execution_count": 52,
   "id": "860d9560",
   "metadata": {},
   "outputs": [
    {
     "data": {
      "text/plain": [
       "[3, 4, 5, 6, 7]"
      ]
     },
     "execution_count": 52,
     "metadata": {},
     "output_type": "execute_result"
    }
   ],
   "source": [
    "l1"
   ]
  },
  {
   "cell_type": "code",
   "execution_count": 53,
   "id": "a93bf5c0",
   "metadata": {},
   "outputs": [],
   "source": [
    "l4=[7,8,3,5,6,9,5,3,4,6,7]"
   ]
  },
  {
   "cell_type": "code",
   "execution_count": 54,
   "id": "551fe46c",
   "metadata": {},
   "outputs": [],
   "source": [
    "l4.sort()"
   ]
  },
  {
   "cell_type": "code",
   "execution_count": 56,
   "id": "af93d6ff",
   "metadata": {},
   "outputs": [
    {
     "data": {
      "text/plain": [
       "[3, 3, 4, 5, 5, 6, 6, 7, 7, 8, 9]"
      ]
     },
     "execution_count": 56,
     "metadata": {},
     "output_type": "execute_result"
    }
   ],
   "source": [
    "l4 # sort teh value in int"
   ]
  },
  {
   "cell_type": "code",
   "execution_count": 57,
   "id": "3fbd386a",
   "metadata": {},
   "outputs": [],
   "source": [
    "l5=['Ayan','zara','Arshan']"
   ]
  },
  {
   "cell_type": "code",
   "execution_count": 58,
   "id": "18114d52",
   "metadata": {},
   "outputs": [],
   "source": [
    "l5.sort()"
   ]
  },
  {
   "cell_type": "code",
   "execution_count": 59,
   "id": "413aeeeb",
   "metadata": {},
   "outputs": [
    {
     "data": {
      "text/plain": [
       "['Arshan', 'Ayan', 'zara']"
      ]
     },
     "execution_count": 59,
     "metadata": {},
     "output_type": "execute_result"
    }
   ],
   "source": [
    "l5"
   ]
  },
  {
   "cell_type": "code",
   "execution_count": 60,
   "id": "0828f018",
   "metadata": {},
   "outputs": [
    {
     "data": {
      "text/plain": [
       "[3, 3, 4, 5, 5, 6, 6, 7, 7, 8, 9]"
      ]
     },
     "execution_count": 60,
     "metadata": {},
     "output_type": "execute_result"
    }
   ],
   "source": [
    "l4"
   ]
  },
  {
   "cell_type": "code",
   "execution_count": 61,
   "id": "6c373f39",
   "metadata": {},
   "outputs": [],
   "source": [
    "l4.sort(reverse=True)"
   ]
  },
  {
   "cell_type": "code",
   "execution_count": 63,
   "id": "4b5dd70b",
   "metadata": {},
   "outputs": [
    {
     "data": {
      "text/plain": [
       "[9, 8, 7, 7, 6, 6, 5, 5, 4, 3, 3]"
      ]
     },
     "execution_count": 63,
     "metadata": {},
     "output_type": "execute_result"
    }
   ],
   "source": [
    "l4 # sort in reverse"
   ]
  },
  {
   "cell_type": "code",
   "execution_count": 64,
   "id": "681911bd",
   "metadata": {},
   "outputs": [],
   "source": [
    "l6=[l1,l2]"
   ]
  },
  {
   "cell_type": "code",
   "execution_count": 65,
   "id": "ceca5035",
   "metadata": {},
   "outputs": [
    {
     "data": {
      "text/plain": [
       "[[3, 4, 5, 6, 7], ['zara', 'Arshan', 55, 'Ayan']]"
      ]
     },
     "execution_count": 65,
     "metadata": {},
     "output_type": "execute_result"
    }
   ],
   "source": [
    "l6"
   ]
  },
  {
   "cell_type": "code",
   "execution_count": 67,
   "id": "28dea80d",
   "metadata": {},
   "outputs": [
    {
     "data": {
      "text/plain": [
       "2"
      ]
     },
     "execution_count": 67,
     "metadata": {},
     "output_type": "execute_result"
    }
   ],
   "source": [
    "len(l6) # two list"
   ]
  },
  {
   "cell_type": "code",
   "execution_count": 68,
   "id": "c13f1a34",
   "metadata": {},
   "outputs": [],
   "source": [
    "l7=[l1,l2,l3,'Ayan',4,4545.45,True,5+6j]"
   ]
  },
  {
   "cell_type": "code",
   "execution_count": 69,
   "id": "053a4308",
   "metadata": {},
   "outputs": [
    {
     "data": {
      "text/plain": [
       "[[3, 4, 5, 6, 7],\n",
       " ['zara', 'Arshan', 55, 'Ayan'],\n",
       " [True, False],\n",
       " 'Ayan',\n",
       " 4,\n",
       " 4545.45,\n",
       " True,\n",
       " (5+6j)]"
      ]
     },
     "execution_count": 69,
     "metadata": {},
     "output_type": "execute_result"
    }
   ],
   "source": [
    "l7"
   ]
  },
  {
   "cell_type": "code",
   "execution_count": 71,
   "id": "72b4271e",
   "metadata": {},
   "outputs": [
    {
     "data": {
      "text/plain": [
       "55"
      ]
     },
     "execution_count": 71,
     "metadata": {},
     "output_type": "execute_result"
    }
   ],
   "source": [
    "l7[1][2]"
   ]
  },
  {
   "cell_type": "markdown",
   "id": "108bbe5e",
   "metadata": {},
   "source": [
    "# Q and A"
   ]
  },
  {
   "cell_type": "markdown",
   "id": "607be473",
   "metadata": {},
   "source": [
    "# Question 1- What is the syntax for adding an element to a list in python"
   ]
  },
  {
   "cell_type": "markdown",
   "id": "a003c924",
   "metadata": {},
   "source": [
    "Answer 1- In python you can use the \"append()\" method of the list"
   ]
  },
  {
   "cell_type": "code",
   "execution_count": 72,
   "id": "1d1a2d7d",
   "metadata": {},
   "outputs": [],
   "source": [
    "a = [1, 2, 3, 4, 5, 6]"
   ]
  },
  {
   "cell_type": "code",
   "execution_count": 73,
   "id": "8dd4a696",
   "metadata": {},
   "outputs": [],
   "source": [
    "a.append(7)"
   ]
  },
  {
   "cell_type": "code",
   "execution_count": 74,
   "id": "e2426b9f",
   "metadata": {},
   "outputs": [
    {
     "data": {
      "text/plain": [
       "[1, 2, 3, 4, 5, 6, 7]"
      ]
     },
     "execution_count": 74,
     "metadata": {},
     "output_type": "execute_result"
    }
   ],
   "source": [
    "a"
   ]
  },
  {
   "cell_type": "markdown",
   "id": "73532689",
   "metadata": {},
   "source": [
    "# Question 2- What is the difference between 'remove()' and 'pop()' function in python"
   ]
  },
  {
   "cell_type": "markdown",
   "id": "79715641",
   "metadata": {},
   "source": [
    "# Answer 2- The 'remove()' method is used to remove the fist occurrence of a specified element from a list"
   ]
  },
  {
   "cell_type": "code",
   "execution_count": 75,
   "id": "03c10d6b",
   "metadata": {},
   "outputs": [],
   "source": [
    "b = [1, 2, 3, 4, 5]"
   ]
  },
  {
   "cell_type": "code",
   "execution_count": 76,
   "id": "f2afe77c",
   "metadata": {},
   "outputs": [],
   "source": [
    "b.remove(4)"
   ]
  },
  {
   "cell_type": "code",
   "execution_count": 77,
   "id": "41c3481a",
   "metadata": {},
   "outputs": [
    {
     "data": {
      "text/plain": [
       "[1, 2, 3, 5]"
      ]
     },
     "execution_count": 77,
     "metadata": {},
     "output_type": "execute_result"
    }
   ],
   "source": [
    "b"
   ]
  },
  {
   "cell_type": "markdown",
   "id": "de5d093f",
   "metadata": {},
   "source": [
    "# The'pop' method is used to remove and return an element from a specific index in a list"
   ]
  },
  {
   "cell_type": "code",
   "execution_count": 78,
   "id": "eaa0cf57",
   "metadata": {},
   "outputs": [],
   "source": [
    "c= [6, 7, 8, 9, 0]"
   ]
  },
  {
   "cell_type": "code",
   "execution_count": 79,
   "id": "62b5df17",
   "metadata": {},
   "outputs": [],
   "source": [
    "remove = c.pop(4)"
   ]
  },
  {
   "cell_type": "code",
   "execution_count": 80,
   "id": "944692a3",
   "metadata": {},
   "outputs": [
    {
     "data": {
      "text/plain": [
       "[6, 7, 8, 9]"
      ]
     },
     "execution_count": 80,
     "metadata": {},
     "output_type": "execute_result"
    }
   ],
   "source": [
    "c"
   ]
  },
  {
   "cell_type": "markdown",
   "id": "3fd522ff",
   "metadata": {},
   "source": [
    "# Question 3- Write a pythin code to sort a list in descending order"
   ]
  },
  {
   "cell_type": "markdown",
   "id": "18fab209",
   "metadata": {},
   "source": [
    "Answer 3- In python, you can use the 'sort()' method of the list and set the 'reverse' parameter to 'True'"
   ]
  },
  {
   "cell_type": "code",
   "execution_count": 81,
   "id": "d84fee1a",
   "metadata": {},
   "outputs": [],
   "source": [
    "z= [5,8,9,3,6,1,3,0]"
   ]
  },
  {
   "cell_type": "code",
   "execution_count": 82,
   "id": "7c56568b",
   "metadata": {},
   "outputs": [],
   "source": [
    "z.sort()"
   ]
  },
  {
   "cell_type": "code",
   "execution_count": 83,
   "id": "d28653a9",
   "metadata": {},
   "outputs": [
    {
     "data": {
      "text/plain": [
       "[0, 1, 3, 3, 5, 6, 8, 9]"
      ]
     },
     "execution_count": 83,
     "metadata": {},
     "output_type": "execute_result"
    }
   ],
   "source": [
    "z"
   ]
  },
  {
   "cell_type": "code",
   "execution_count": 84,
   "id": "80a69187",
   "metadata": {},
   "outputs": [],
   "source": [
    "z.sort(reverse=True)"
   ]
  },
  {
   "cell_type": "code",
   "execution_count": 85,
   "id": "3416cc19",
   "metadata": {},
   "outputs": [
    {
     "data": {
      "text/plain": [
       "[9, 8, 6, 5, 3, 3, 1, 0]"
      ]
     },
     "execution_count": 85,
     "metadata": {},
     "output_type": "execute_result"
    }
   ],
   "source": [
    "z"
   ]
  },
  {
   "cell_type": "markdown",
   "id": "5e46ab7c",
   "metadata": {},
   "source": [
    "# Question 4- Write a python code to count the number of occurrences of an element in a list"
   ]
  },
  {
   "cell_type": "markdown",
   "id": "bc1a21b4",
   "metadata": {},
   "source": [
    "# Answer 4- To count the number of occurrences of an element in a list in python you can used the 'count()' method of the list"
   ]
  },
  {
   "cell_type": "code",
   "execution_count": 86,
   "id": "76287097",
   "metadata": {},
   "outputs": [
    {
     "data": {
      "text/plain": [
       "[1, 2, 3, 4, 5, 6, 7]"
      ]
     },
     "execution_count": 86,
     "metadata": {},
     "output_type": "execute_result"
    }
   ],
   "source": [
    "a"
   ]
  },
  {
   "cell_type": "code",
   "execution_count": 88,
   "id": "ee403001",
   "metadata": {},
   "outputs": [
    {
     "data": {
      "text/plain": [
       "1"
      ]
     },
     "execution_count": 88,
     "metadata": {},
     "output_type": "execute_result"
    }
   ],
   "source": [
    "a.count(3)"
   ]
  },
  {
   "cell_type": "code",
   "execution_count": 89,
   "id": "de016502",
   "metadata": {},
   "outputs": [],
   "source": [
    "y =[1,2,1,4,1,8,1,9]"
   ]
  },
  {
   "cell_type": "code",
   "execution_count": 90,
   "id": "c274cb10",
   "metadata": {},
   "outputs": [
    {
     "data": {
      "text/plain": [
       "4"
      ]
     },
     "execution_count": 90,
     "metadata": {},
     "output_type": "execute_result"
    }
   ],
   "source": [
    "y.count(1)"
   ]
  },
  {
   "cell_type": "markdown",
   "id": "4e3f089d",
   "metadata": {},
   "source": [
    "# Question 5- Write a python code to reverce a list\n",
    "\n",
    "# Answer 5- Tp reverse a list in python you can used the 'reverse()' method of the list"
   ]
  },
  {
   "cell_type": "code",
   "execution_count": 91,
   "id": "56c950c6",
   "metadata": {},
   "outputs": [
    {
     "data": {
      "text/plain": [
       "[1, 2, 3, 4, 5, 6, 7]"
      ]
     },
     "execution_count": 91,
     "metadata": {},
     "output_type": "execute_result"
    }
   ],
   "source": [
    "a"
   ]
  },
  {
   "cell_type": "code",
   "execution_count": 92,
   "id": "667a8381",
   "metadata": {},
   "outputs": [],
   "source": [
    "a.reverse()"
   ]
  },
  {
   "cell_type": "code",
   "execution_count": 93,
   "id": "3b224299",
   "metadata": {},
   "outputs": [
    {
     "data": {
      "text/plain": [
       "[7, 6, 5, 4, 3, 2, 1]"
      ]
     },
     "execution_count": 93,
     "metadata": {},
     "output_type": "execute_result"
    }
   ],
   "source": [
    "a"
   ]
  },
  {
   "cell_type": "markdown",
   "id": "1dc73705",
   "metadata": {},
   "source": [
    "# MCQ"
   ]
  },
  {
   "cell_type": "markdown",
   "id": "d66d4abc",
   "metadata": {},
   "source": [
    "# 1.Which of the following list functions in Python returns the number of times a specified element appears in the list?\n",
    "\n",
    "\n",
    "append()\n",
    "\n",
    "\n",
    "# count()\n",
    "\n",
    "\n",
    "extend()\n",
    "\n",
    "\n",
    "remove()"
   ]
  },
  {
   "cell_type": "markdown",
   "id": "cbc674b3",
   "metadata": {},
   "source": [
    "# 2.Which of the following list functions in Python is used to add elements of one list to another list?\n",
    "\n",
    "\n",
    "append()\n",
    "\n",
    "\n",
    "count()\n",
    "\n",
    "\n",
    "# extend()\n",
    "\n",
    "\n",
    "remove()\n",
    "\n",
    "Explanation: The extend() function is used to add elements of one list to another list."
   ]
  },
  {
   "cell_type": "markdown",
   "id": "d0dcb691",
   "metadata": {},
   "source": [
    "# 3.Which of the following list functions in Python is used to insert an element at a specified position in a list?\n",
    "\n",
    "\n",
    "# insert()\n",
    "\n",
    "\n",
    "remove()\n",
    "\n",
    "\n",
    "sort()\n",
    "\n",
    "\n",
    "pop()\n",
    "\n",
    "# Explanation: The insert() function is used to insert an element at a specified position in a list."
   ]
  },
  {
   "cell_type": "markdown",
   "id": "40cdf827",
   "metadata": {},
   "source": [
    "# 4.Which of the following list functions in Python is used to remove the last element of a list?\n",
    "\n",
    "\n",
    "append()\n",
    "\n",
    "\n",
    "count()\n",
    "\n",
    "\n",
    "extend()\n",
    "\n",
    "\n",
    "# pop()\n",
    "\n",
    "# Explanation: The pop() function removes the last element of a list."
   ]
  },
  {
   "cell_type": "markdown",
   "id": "2fe26c95",
   "metadata": {},
   "source": [
    "# 5.Which of the following list functions in Python is used to sort a list in ascending order?\n",
    "\n",
    "\n",
    "append()\n",
    "\n",
    "\n",
    "count()\n",
    "\n",
    "\n",
    "extend()\n",
    "\n",
    "\n",
    "# sort()\n",
    "\n",
    "# Explanation: The sort() function is used to sort a list in ascending order."
   ]
  },
  {
   "cell_type": "markdown",
   "id": "83294ec3",
   "metadata": {},
   "source": [
    "# 6.Which of the following list functions in Python is used to reverse the order of elements in a list?\n",
    "\n",
    "\n",
    "append()\n",
    "\n",
    "\n",
    "count()\n",
    "\n",
    "\n",
    "extend()\n",
    "\n",
    "\n",
    "# reverse()\n",
    "\n",
    "# Explanation: The reverse() function is used to reverse the order of elements in a list."
   ]
  },
  {
   "cell_type": "markdown",
   "id": "1a570ba4",
   "metadata": {},
   "source": [
    "# Q and A"
   ]
  },
  {
   "cell_type": "markdown",
   "id": "a72ac2fc",
   "metadata": {},
   "source": [
    "# Question 1- Create a list and add an element to the end of the list"
   ]
  },
  {
   "cell_type": "code",
   "execution_count": 84,
   "id": "5ec8f26a",
   "metadata": {},
   "outputs": [],
   "source": [
    "m= [1, 2, 3, 4, 5]"
   ]
  },
  {
   "cell_type": "code",
   "execution_count": 85,
   "id": "eae8473a",
   "metadata": {},
   "outputs": [
    {
     "name": "stdout",
     "output_type": "stream",
     "text": [
      "[1, 2, 3, 4, 5, 6]\n"
     ]
    }
   ],
   "source": [
    "m.append(6)\n",
    "print(m)"
   ]
  },
  {
   "cell_type": "markdown",
   "id": "1c2e0643",
   "metadata": {},
   "source": [
    "# Question 2- For the above create list print the last element"
   ]
  },
  {
   "cell_type": "code",
   "execution_count": 86,
   "id": "4ad976a1",
   "metadata": {},
   "outputs": [
    {
     "data": {
      "text/plain": [
       "6"
      ]
     },
     "execution_count": 86,
     "metadata": {},
     "output_type": "execute_result"
    }
   ],
   "source": [
    "m[-1]"
   ]
  },
  {
   "cell_type": "markdown",
   "id": "d7cc4480",
   "metadata": {},
   "source": [
    "# Question 3- Reverse the above created a list"
   ]
  },
  {
   "cell_type": "code",
   "execution_count": 87,
   "id": "dc70a829",
   "metadata": {},
   "outputs": [
    {
     "data": {
      "text/plain": [
       "[6, 5, 4, 3, 2, 1]"
      ]
     },
     "execution_count": 87,
     "metadata": {},
     "output_type": "execute_result"
    }
   ],
   "source": [
    "m[::-1]"
   ]
  },
  {
   "cell_type": "code",
   "execution_count": 88,
   "id": "f62df449",
   "metadata": {},
   "outputs": [],
   "source": [
    "m.reverse()"
   ]
  },
  {
   "cell_type": "code",
   "execution_count": 89,
   "id": "ceb531c4",
   "metadata": {},
   "outputs": [
    {
     "name": "stdout",
     "output_type": "stream",
     "text": [
      "[6, 5, 4, 3, 2, 1]\n"
     ]
    }
   ],
   "source": [
    "print(m)"
   ]
  },
  {
   "cell_type": "markdown",
   "id": "de96e77b",
   "metadata": {},
   "source": [
    "# Q5-We used the 'short()' method to sort the element in the list in accending order"
   ]
  },
  {
   "cell_type": "code",
   "execution_count": 90,
   "id": "406bd11e",
   "metadata": {},
   "outputs": [],
   "source": [
    "k= [5, 2, 1, 6, 4, 3]"
   ]
  },
  {
   "cell_type": "code",
   "execution_count": 91,
   "id": "383416ae",
   "metadata": {},
   "outputs": [],
   "source": [
    "k.sort()"
   ]
  },
  {
   "cell_type": "code",
   "execution_count": 92,
   "id": "f76ffd15",
   "metadata": {},
   "outputs": [
    {
     "data": {
      "text/plain": [
       "[1, 2, 3, 4, 5, 6]"
      ]
     },
     "execution_count": 92,
     "metadata": {},
     "output_type": "execute_result"
    }
   ],
   "source": [
    "k"
   ]
  },
  {
   "cell_type": "markdown",
   "id": "b891be40",
   "metadata": {},
   "source": [
    "# Question 6- create a list of you top three favorite movies the print the second movie title"
   ]
  },
  {
   "cell_type": "code",
   "execution_count": 93,
   "id": "e1ee0888",
   "metadata": {},
   "outputs": [],
   "source": [
    "fm= ['pathan' , 'the dark knight' , 'dangal']"
   ]
  },
  {
   "cell_type": "code",
   "execution_count": 94,
   "id": "7cb48d19",
   "metadata": {},
   "outputs": [
    {
     "data": {
      "text/plain": [
       "'the dark knight'"
      ]
     },
     "execution_count": 94,
     "metadata": {},
     "output_type": "execute_result"
    }
   ],
   "source": [
    "fm[1]"
   ]
  },
  {
   "cell_type": "markdown",
   "id": "2991a4e5",
   "metadata": {},
   "source": [
    "# Question 7- Create a list of your favorite animals then add a new to the list and print the update list"
   ]
  },
  {
   "cell_type": "code",
   "execution_count": 95,
   "id": "cb532d15",
   "metadata": {},
   "outputs": [],
   "source": [
    "fa= ['lion', 'tiger', 'elephant']"
   ]
  },
  {
   "cell_type": "code",
   "execution_count": 96,
   "id": "b4edb616",
   "metadata": {},
   "outputs": [],
   "source": [
    "\n",
    "fa.append('rabbit')"
   ]
  },
  {
   "cell_type": "code",
   "execution_count": 97,
   "id": "7140de9e",
   "metadata": {},
   "outputs": [
    {
     "data": {
      "text/plain": [
       "['lion', 'tiger', 'elephant', 'rabbit']"
      ]
     },
     "execution_count": 97,
     "metadata": {},
     "output_type": "execute_result"
    }
   ],
   "source": [
    "fa"
   ]
  },
  {
   "cell_type": "markdown",
   "id": "c6b40f3f",
   "metadata": {},
   "source": [
    "# Question 8- Create a list of your favorite then use the index() method to find position of a specific city on the list and print it"
   ]
  },
  {
   "cell_type": "code",
   "execution_count": 98,
   "id": "20f86092",
   "metadata": {},
   "outputs": [],
   "source": [
    "fc= ['london' , 'delhi', 'paris', 'lucknow', 'bareilly']"
   ]
  },
  {
   "cell_type": "code",
   "execution_count": 99,
   "id": "3578b1dd",
   "metadata": {},
   "outputs": [],
   "source": [
    "position= fc.index('paris')"
   ]
  },
  {
   "cell_type": "code",
   "execution_count": 100,
   "id": "55df1d92",
   "metadata": {},
   "outputs": [
    {
     "name": "stdout",
     "output_type": "stream",
     "text": [
      "index: 2\n"
     ]
    }
   ],
   "source": [
    "print('index:',position)"
   ]
  },
  {
   "cell_type": "markdown",
   "id": "20272d73",
   "metadata": {},
   "source": [
    "# MCQ"
   ]
  },
  {
   "cell_type": "markdown",
   "id": "72e6f3eb",
   "metadata": {},
   "source": [
    "# 1.Which of the following creates an empty list in Python?\n",
    "\n",
    "\n",
    "# my_list = []\n",
    "\n",
    "\n",
    "my_list = ()\n",
    "\n",
    "\n",
    "my_list = {}\n",
    "\n",
    "\n",
    "my_list = set()\n",
    "\n",
    "# Explanation: An empty list can be created in Python using empty square brackets."
   ]
  },
  {
   "cell_type": "markdown",
   "id": "6e8b91cf",
   "metadata": {},
   "source": [
    "# 2.Which method is used to add an element to the end of a list in Python?\n",
    "\n",
    " \n",
    "\n",
    "\n",
    "add()\n",
    "\n",
    "\n",
    "push()\n",
    "\n",
    "\n",
    "# append()\n",
    "\n",
    "\n",
    "extend()\n",
    "\n",
    "# Explanation: The append() method is used to add an element to the end of a list in Python."
   ]
  },
  {
   "cell_type": "markdown",
   "id": "e1dca3c0",
   "metadata": {},
   "source": [
    "# Which method is used to remove the first occurrence of an element from a list in Python?\n",
    "\n",
    "\n",
    "delete()\n",
    "\n",
    "\n",
    "# remove()\n",
    "\n",
    "\n",
    " pop()\n",
    "\n",
    "\n",
    "clear()\n",
    "\n",
    "# Explanation: The remove() method is used to remove the first occurrence of an element from a list in Python."
   ]
  },
  {
   "cell_type": "markdown",
   "id": "9b175cb2",
   "metadata": {},
   "source": [
    "# What is the output of the following code?\n",
    "\n",
    "my_list = [1, 2, 3, 4] \n",
    "\n",
    "my_list.pop() \n",
    "\n",
    "print(my_list)\n",
    "\n",
    "\n",
    "# [1, 2, 3]\n",
    "\n",
    "\n",
    "[1, 2, 3, 4]\n",
    "\n",
    "\n",
    "[2, 3, 4]\n",
    "\n",
    "\n",
    "[]\n",
    "\n",
    "# Explanation: The pop() method removes and returns the last element from the list. In this case, the last element is 4, which gets removed from the list. So the list becomes [1, 2, 3], which is printed."
   ]
  },
  {
   "cell_type": "markdown",
   "id": "d979672a",
   "metadata": {},
   "source": [
    "# What is the output of the following code?\n",
    "\n",
    "my_list = [1, 2, 3] \n",
    "\n",
    "my_list.append([4, 5]) \n",
    "\n",
    "print(my_list)\n",
    "\n",
    "\n",
    "[1, 2, 3, 4, 5]\n",
    "\n",
    "\n",
    "# [1, 2, 3, [4, 5]]\n",
    "\n",
    "\n",
    "[1, 2, 3, 4], [1, 2, 3, 5]\n",
    "\n",
    "\n",
    "[1, 2, 3], [4, 5]\n",
    "\n",
    "# Explanation: The append() method adds the argument passed to it as a single element to the end of the list. In this case, the argument passed is [4, 5], which is added as a single element to the end of the list. So the resulting list is [1, 2, 3, [4, 5]]."
   ]
  },
  {
   "cell_type": "markdown",
   "id": "65e10264",
   "metadata": {},
   "source": [
    "#  What is the output of the following code?\n",
    "\n",
    "my_list = [1, 2, 3] \n",
    "\n",
    "my_list.extend([4, 5]) \n",
    "\n",
    "print(my_list)\n",
    "\n",
    "\n",
    "#  [1, 2, 3, 4, 5]\n",
    "\n",
    "\n",
    " [1, 2, 3, [4, 5]]\n",
    "\n",
    "\n",
    "[1, 2, 3, 4], [1, 2, 3, 5]\n",
    "\n",
    "\n",
    "[1, 2, 3], [4, 5]\n",
    "\n",
    "# Explanation: The extend() method adds the elements of the argument passed to it to the end of the list. In this case, the argument passed is [4, 5], which has two elements, 4 and 5. So these two elements are added to the end of the list."
   ]
  },
  {
   "cell_type": "markdown",
   "id": "8ce2f64f",
   "metadata": {},
   "source": [
    "# Tuples"
   ]
  },
  {
   "cell_type": "code",
   "execution_count": 94,
   "id": "6629b85a",
   "metadata": {},
   "outputs": [],
   "source": [
    "t=(2,3,True,45.345,'ayan') # () this bracket show tuple"
   ]
  },
  {
   "cell_type": "code",
   "execution_count": 95,
   "id": "6793882e",
   "metadata": {},
   "outputs": [
    {
     "data": {
      "text/plain": [
       "tuple"
      ]
     },
     "execution_count": 95,
     "metadata": {},
     "output_type": "execute_result"
    }
   ],
   "source": [
    "type(t)"
   ]
  },
  {
   "cell_type": "code",
   "execution_count": 98,
   "id": "7c859c13",
   "metadata": {},
   "outputs": [
    {
     "data": {
      "text/plain": [
       "[3, 4, 5, 54.45, 'Ayan', True]"
      ]
     },
     "execution_count": 98,
     "metadata": {},
     "output_type": "execute_result"
    }
   ],
   "source": [
    "l"
   ]
  },
  {
   "cell_type": "code",
   "execution_count": 99,
   "id": "920d6aa8",
   "metadata": {},
   "outputs": [
    {
     "data": {
      "text/plain": [
       "list"
      ]
     },
     "execution_count": 99,
     "metadata": {},
     "output_type": "execute_result"
    }
   ],
   "source": [
    "type(l)"
   ]
  },
  {
   "cell_type": "code",
   "execution_count": 101,
   "id": "a95ea7ca",
   "metadata": {},
   "outputs": [
    {
     "data": {
      "text/plain": [
       "'ayan'"
      ]
     },
     "execution_count": 101,
     "metadata": {},
     "output_type": "execute_result"
    }
   ],
   "source": [
    "t[4]"
   ]
  },
  {
   "cell_type": "code",
   "execution_count": 102,
   "id": "a4aef41c",
   "metadata": {},
   "outputs": [
    {
     "data": {
      "text/plain": [
       "'Ayan'"
      ]
     },
     "execution_count": 102,
     "metadata": {},
     "output_type": "execute_result"
    }
   ],
   "source": [
    "l[4]"
   ]
  },
  {
   "cell_type": "code",
   "execution_count": 103,
   "id": "5d143489",
   "metadata": {},
   "outputs": [],
   "source": [
    "# differece between tuple and list\n",
    "# 1-change data"
   ]
  },
  {
   "cell_type": "code",
   "execution_count": 110,
   "id": "a9f1f9a3",
   "metadata": {},
   "outputs": [
    {
     "ename": "TypeError",
     "evalue": "'tuple' object does not support item assignment",
     "output_type": "error",
     "traceback": [
      "\u001b[1;31m---------------------------------------------------------------------------\u001b[0m",
      "\u001b[1;31mTypeError\u001b[0m                                 Traceback (most recent call last)",
      "Cell \u001b[1;32mIn[110], line 1\u001b[0m\n\u001b[1;32m----> 1\u001b[0m t[\u001b[38;5;241m4\u001b[39m]\u001b[38;5;241m=\u001b[39m\u001b[38;5;124m\"\u001b[39m\u001b[38;5;124mArshan\u001b[39m\u001b[38;5;124m\"\u001b[39m\n",
      "\u001b[1;31mTypeError\u001b[0m: 'tuple' object does not support item assignment"
     ]
    }
   ],
   "source": [
    "t[4]=\"Arshan\" # tuple are immutable entity"
   ]
  },
  {
   "cell_type": "code",
   "execution_count": 107,
   "id": "200abbc3",
   "metadata": {},
   "outputs": [],
   "source": [
    "l[4]='Arshan'"
   ]
  },
  {
   "cell_type": "code",
   "execution_count": 111,
   "id": "1074d9db",
   "metadata": {},
   "outputs": [
    {
     "data": {
      "text/plain": [
       "[3, 4, 5, 54.45, 'Arshan', True]"
      ]
     },
     "execution_count": 111,
     "metadata": {},
     "output_type": "execute_result"
    }
   ],
   "source": [
    "l # list are mutable entity"
   ]
  },
  {
   "cell_type": "code",
   "execution_count": 112,
   "id": "f796664f",
   "metadata": {},
   "outputs": [
    {
     "data": {
      "text/plain": [
       "[2, 3, True, 45.345, 'ayan']"
      ]
     },
     "execution_count": 112,
     "metadata": {},
     "output_type": "execute_result"
    }
   ],
   "source": [
    "list(t) # convert in list"
   ]
  },
  {
   "cell_type": "code",
   "execution_count": 113,
   "id": "8aedc919",
   "metadata": {},
   "outputs": [
    {
     "data": {
      "text/plain": [
       "(2, 3, True, 45.345, 'ayan')"
      ]
     },
     "execution_count": 113,
     "metadata": {},
     "output_type": "execute_result"
    }
   ],
   "source": [
    "t"
   ]
  },
  {
   "cell_type": "code",
   "execution_count": 114,
   "id": "57f66240",
   "metadata": {},
   "outputs": [
    {
     "data": {
      "text/plain": [
       "(3, 4, 5, 54.45, 'Arshan', True)"
      ]
     },
     "execution_count": 114,
     "metadata": {},
     "output_type": "execute_result"
    }
   ],
   "source": [
    "tuple(l)"
   ]
  },
  {
   "cell_type": "code",
   "execution_count": 115,
   "id": "eefffa56",
   "metadata": {},
   "outputs": [
    {
     "data": {
      "text/plain": [
       "(2, 3, True, 45.345, 'ayan')"
      ]
     },
     "execution_count": 115,
     "metadata": {},
     "output_type": "execute_result"
    }
   ],
   "source": [
    "t"
   ]
  },
  {
   "cell_type": "code",
   "execution_count": 119,
   "id": "9e7839ff",
   "metadata": {},
   "outputs": [
    {
     "data": {
      "text/plain": [
       "1"
      ]
     },
     "execution_count": 119,
     "metadata": {},
     "output_type": "execute_result"
    }
   ],
   "source": [
    "t.count(2) # how many time present in tuple"
   ]
  },
  {
   "cell_type": "code",
   "execution_count": 121,
   "id": "2cef2c08",
   "metadata": {},
   "outputs": [
    {
     "data": {
      "text/plain": [
       "4"
      ]
     },
     "execution_count": 121,
     "metadata": {},
     "output_type": "execute_result"
    }
   ],
   "source": [
    "t.index('ayan') # index tell index of any varible"
   ]
  },
  {
   "cell_type": "code",
   "execution_count": 122,
   "id": "4532ce80",
   "metadata": {},
   "outputs": [],
   "source": [
    "t1=('ayan',5,3,2,5,6,7,88,9,65,44,2,6,6,'ayan')"
   ]
  },
  {
   "cell_type": "code",
   "execution_count": 123,
   "id": "620ab77f",
   "metadata": {},
   "outputs": [
    {
     "data": {
      "text/plain": [
       "2"
      ]
     },
     "execution_count": 123,
     "metadata": {},
     "output_type": "execute_result"
    }
   ],
   "source": [
    "t1.count('ayan')"
   ]
  },
  {
   "cell_type": "code",
   "execution_count": 125,
   "id": "00c01216",
   "metadata": {},
   "outputs": [
    {
     "data": {
      "text/plain": [
       "0"
      ]
     },
     "execution_count": 125,
     "metadata": {},
     "output_type": "execute_result"
    }
   ],
   "source": [
    "t1.index('ayan') # index tell first courencess"
   ]
  },
  {
   "cell_type": "markdown",
   "id": "e0788003",
   "metadata": {},
   "source": [
    "# Q And A"
   ]
  },
  {
   "cell_type": "markdown",
   "id": "97876aea",
   "metadata": {},
   "source": [
    "# Question 1- What is a tuple in python?"
   ]
  },
  {
   "cell_type": "markdown",
   "id": "f3f7db00",
   "metadata": {},
   "source": [
    "# Answer 1- A tuple is an ordered collection of element which can be of data type, tuple are similar to lists in python but tere are some key differnce is that tuple are immutable, which mean that once a tuple is created, you cannot modify its element"
   ]
  },
  {
   "cell_type": "code",
   "execution_count": 127,
   "id": "e84d1d2a",
   "metadata": {},
   "outputs": [],
   "source": [
    "t= (1,2,3, 56.876, \"arshan\" , True)"
   ]
  },
  {
   "cell_type": "code",
   "execution_count": 128,
   "id": "b19326b4",
   "metadata": {},
   "outputs": [
    {
     "data": {
      "text/plain": [
       "tuple"
      ]
     },
     "execution_count": 128,
     "metadata": {},
     "output_type": "execute_result"
    }
   ],
   "source": [
    "type(t)"
   ]
  },
  {
   "cell_type": "markdown",
   "id": "6297f742",
   "metadata": {},
   "source": [
    "# Question 2- How do you create a tuple in python?"
   ]
  },
  {
   "cell_type": "markdown",
   "id": "2bbaf7db",
   "metadata": {},
   "source": [
    "# Answer 2- You can create a tuple in python by a sequence of element in parentheses '()' and seprarating them with commas."
   ]
  },
  {
   "cell_type": "code",
   "execution_count": 129,
   "id": "226102c9",
   "metadata": {},
   "outputs": [
    {
     "data": {
      "text/plain": [
       "(1, 2, 3, 56.876, 'arshan', True)"
      ]
     },
     "execution_count": 129,
     "metadata": {},
     "output_type": "execute_result"
    }
   ],
   "source": [
    "t"
   ]
  },
  {
   "cell_type": "code",
   "execution_count": 130,
   "id": "6eff15ad",
   "metadata": {},
   "outputs": [],
   "source": [
    "t2 = ( 1,4, 77.56, \"ayan\")"
   ]
  },
  {
   "cell_type": "code",
   "execution_count": 131,
   "id": "e9aa4581",
   "metadata": {},
   "outputs": [
    {
     "data": {
      "text/plain": [
       "tuple"
      ]
     },
     "execution_count": 131,
     "metadata": {},
     "output_type": "execute_result"
    }
   ],
   "source": [
    "type(t2)"
   ]
  },
  {
   "cell_type": "markdown",
   "id": "01676165",
   "metadata": {},
   "source": [
    "# Question 3- What is the differnce between a tuple and a list in python?\n",
    "\n",
    "# Answer 3- The main differnce between a tuple and a list is that tuples are immutable which list are mutable. this means that once a tuple created , you cannot change its element, while list you can modify their element after they have been created\n",
    "\n",
    "# 1- Syntex - tuples are created using parentheses'()' while list are created using squre bracked'[]'"
   ]
  },
  {
   "cell_type": "code",
   "execution_count": 132,
   "id": "a9f9d39e",
   "metadata": {},
   "outputs": [],
   "source": [
    "a = (1,2,3,4,5)"
   ]
  },
  {
   "cell_type": "code",
   "execution_count": 133,
   "id": "c3a3869a",
   "metadata": {},
   "outputs": [
    {
     "data": {
      "text/plain": [
       "tuple"
      ]
     },
     "execution_count": 133,
     "metadata": {},
     "output_type": "execute_result"
    }
   ],
   "source": [
    "type(a)"
   ]
  },
  {
   "cell_type": "code",
   "execution_count": 134,
   "id": "6a845d8c",
   "metadata": {},
   "outputs": [],
   "source": [
    "l9 = [1,2,3,4,5]"
   ]
  },
  {
   "cell_type": "code",
   "execution_count": 135,
   "id": "2e8c2d2a",
   "metadata": {},
   "outputs": [
    {
     "data": {
      "text/plain": [
       "list"
      ]
     },
     "execution_count": 135,
     "metadata": {},
     "output_type": "execute_result"
    }
   ],
   "source": [
    "type(l9)"
   ]
  },
  {
   "cell_type": "markdown",
   "id": "6c9d2c30",
   "metadata": {},
   "source": [
    "# 2- Mutability:Tuples are immutable meaning you cannot modify their element. list are mutable meaning you cann add,remove and modify their element after thay have created"
   ]
  },
  {
   "cell_type": "markdown",
   "id": "0e613191",
   "metadata": {},
   "source": [
    "# Question 4 - Can a tuple be changed in python?"
   ]
  },
  {
   "cell_type": "markdown",
   "id": "82022fe0",
   "metadata": {},
   "source": [
    "# Answer 4- NO, a tuple cannot changed in python once it has been created. Tuple are immutable which mean you can not modify a tuple"
   ]
  },
  {
   "cell_type": "code",
   "execution_count": 136,
   "id": "1bd6ad28",
   "metadata": {},
   "outputs": [
    {
     "data": {
      "text/plain": [
       "(1, 2, 3, 56.876, 'arshan', True)"
      ]
     },
     "execution_count": 136,
     "metadata": {},
     "output_type": "execute_result"
    }
   ],
   "source": [
    "t"
   ]
  },
  {
   "cell_type": "markdown",
   "id": "b4d9f570",
   "metadata": {},
   "source": [
    "# Question 5 - How do you acces element in a tuple?"
   ]
  },
  {
   "cell_type": "markdown",
   "id": "3ebde923",
   "metadata": {},
   "source": [
    "# Answer 5- You can can asses element using indexing or slicing"
   ]
  },
  {
   "cell_type": "code",
   "execution_count": 137,
   "id": "918bb3d1",
   "metadata": {},
   "outputs": [
    {
     "data": {
      "text/plain": [
       "(1, 2, 3, 56.876, 'arshan', True)"
      ]
     },
     "execution_count": 137,
     "metadata": {},
     "output_type": "execute_result"
    }
   ],
   "source": [
    "t"
   ]
  },
  {
   "cell_type": "code",
   "execution_count": 138,
   "id": "04f9b19e",
   "metadata": {},
   "outputs": [
    {
     "data": {
      "text/plain": [
       "'arshan'"
      ]
     },
     "execution_count": 138,
     "metadata": {},
     "output_type": "execute_result"
    }
   ],
   "source": [
    "t[4]"
   ]
  },
  {
   "cell_type": "code",
   "execution_count": 139,
   "id": "3bb470b3",
   "metadata": {},
   "outputs": [
    {
     "data": {
      "text/plain": [
       "True"
      ]
     },
     "execution_count": 139,
     "metadata": {},
     "output_type": "execute_result"
    }
   ],
   "source": [
    "t[-1]"
   ]
  },
  {
   "cell_type": "code",
   "execution_count": 140,
   "id": "cf9fc750",
   "metadata": {},
   "outputs": [
    {
     "data": {
      "text/plain": [
       "3"
      ]
     },
     "execution_count": 140,
     "metadata": {},
     "output_type": "execute_result"
    }
   ],
   "source": [
    "t[2]"
   ]
  },
  {
   "cell_type": "code",
   "execution_count": 141,
   "id": "4c6b3e37",
   "metadata": {},
   "outputs": [
    {
     "data": {
      "text/plain": [
       "'arshan'"
      ]
     },
     "execution_count": 141,
     "metadata": {},
     "output_type": "execute_result"
    }
   ],
   "source": [
    "t[-2]"
   ]
  },
  {
   "cell_type": "markdown",
   "id": "d1833a05",
   "metadata": {},
   "source": [
    "To access a range of element in a tuple you can use slicing notation with the stard and index separated by a colon':' the slice notation will include all element from the start index up to but not including the end index"
   ]
  },
  {
   "cell_type": "code",
   "execution_count": 142,
   "id": "f5739303",
   "metadata": {},
   "outputs": [
    {
     "data": {
      "text/plain": [
       "(1, 2, 3, 56.876, 'arshan', True)"
      ]
     },
     "execution_count": 142,
     "metadata": {},
     "output_type": "execute_result"
    }
   ],
   "source": [
    "t"
   ]
  },
  {
   "cell_type": "code",
   "execution_count": 143,
   "id": "1d049601",
   "metadata": {},
   "outputs": [
    {
     "data": {
      "text/plain": [
       "(2, 3)"
      ]
     },
     "execution_count": 143,
     "metadata": {},
     "output_type": "execute_result"
    }
   ],
   "source": [
    "t[1:3]"
   ]
  },
  {
   "cell_type": "code",
   "execution_count": 144,
   "id": "17b8f95c",
   "metadata": {},
   "outputs": [
    {
     "data": {
      "text/plain": [
       "(1, 2, 3, 56.876)"
      ]
     },
     "execution_count": 144,
     "metadata": {},
     "output_type": "execute_result"
    }
   ],
   "source": [
    "t[:4]"
   ]
  },
  {
   "cell_type": "code",
   "execution_count": 145,
   "id": "55139231",
   "metadata": {},
   "outputs": [
    {
     "data": {
      "text/plain": [
       "(3, 56.876, 'arshan', True)"
      ]
     },
     "execution_count": 145,
     "metadata": {},
     "output_type": "execute_result"
    }
   ],
   "source": [
    "t[2:]"
   ]
  },
  {
   "cell_type": "markdown",
   "id": "678d3870",
   "metadata": {},
   "source": [
    "# Question 6- How do you unpack a tuple in python?"
   ]
  },
  {
   "cell_type": "markdown",
   "id": "fa4e701d",
   "metadata": {},
   "source": [
    "# Answer 6- Youc can unpack a tuple by assigning its individual element to seprarate varibles this allow you to easily acces each element of a tuple"
   ]
  },
  {
   "cell_type": "code",
   "execution_count": 146,
   "id": "6ba84bd8",
   "metadata": {},
   "outputs": [],
   "source": [
    "z = (1,2,3)"
   ]
  },
  {
   "cell_type": "code",
   "execution_count": 147,
   "id": "1c8cc8da",
   "metadata": {},
   "outputs": [],
   "source": [
    "a, b, c = z"
   ]
  },
  {
   "cell_type": "code",
   "execution_count": 148,
   "id": "544e6787",
   "metadata": {},
   "outputs": [
    {
     "data": {
      "text/plain": [
       "1"
      ]
     },
     "execution_count": 148,
     "metadata": {},
     "output_type": "execute_result"
    }
   ],
   "source": [
    "a"
   ]
  },
  {
   "cell_type": "code",
   "execution_count": 149,
   "id": "d69309dc",
   "metadata": {},
   "outputs": [
    {
     "data": {
      "text/plain": [
       "2"
      ]
     },
     "execution_count": 149,
     "metadata": {},
     "output_type": "execute_result"
    }
   ],
   "source": [
    "b"
   ]
  },
  {
   "cell_type": "code",
   "execution_count": 150,
   "id": "c00844da",
   "metadata": {},
   "outputs": [
    {
     "data": {
      "text/plain": [
       "3"
      ]
     },
     "execution_count": 150,
     "metadata": {},
     "output_type": "execute_result"
    }
   ],
   "source": [
    "c"
   ]
  },
  {
   "cell_type": "markdown",
   "id": "ae7be073",
   "metadata": {},
   "source": [
    "you can also used ('*') operator to unpack a varible number of element into a single varible"
   ]
  },
  {
   "cell_type": "code",
   "execution_count": 151,
   "id": "26fbb3ef",
   "metadata": {},
   "outputs": [],
   "source": [
    "g = (1,2,3,4,5)"
   ]
  },
  {
   "cell_type": "code",
   "execution_count": 152,
   "id": "950b2059",
   "metadata": {},
   "outputs": [],
   "source": [
    "a, b, *rest = g"
   ]
  },
  {
   "cell_type": "code",
   "execution_count": 153,
   "id": "d610eb1c",
   "metadata": {},
   "outputs": [
    {
     "data": {
      "text/plain": [
       "1"
      ]
     },
     "execution_count": 153,
     "metadata": {},
     "output_type": "execute_result"
    }
   ],
   "source": [
    "a"
   ]
  },
  {
   "cell_type": "code",
   "execution_count": 154,
   "id": "400c1e01",
   "metadata": {},
   "outputs": [
    {
     "data": {
      "text/plain": [
       "2"
      ]
     },
     "execution_count": 154,
     "metadata": {},
     "output_type": "execute_result"
    }
   ],
   "source": [
    "b"
   ]
  },
  {
   "cell_type": "code",
   "execution_count": 155,
   "id": "c42b5a4a",
   "metadata": {},
   "outputs": [
    {
     "data": {
      "text/plain": [
       "[3, 4, 5]"
      ]
     },
     "execution_count": 155,
     "metadata": {},
     "output_type": "execute_result"
    }
   ],
   "source": [
    "rest"
   ]
  },
  {
   "cell_type": "markdown",
   "id": "d5d0591e",
   "metadata": {},
   "source": [
    "# MCQ"
   ]
  },
  {
   "cell_type": "markdown",
   "id": "44bd6c4a",
   "metadata": {},
   "source": [
    "# 1.Which of the following is true about tuples in Python?\n",
    "\n",
    "\n",
    "Tuples are mutable\n",
    "\n",
    "\n",
    "# Tuples are ordered\n",
    "\n",
    "\n",
    "Tuples can contain duplicate elements\n",
    "\n",
    "\n",
    "Tuples can be accessed using indices and keys\n",
    "\n",
    "# Explanation: Tuples are ordered sequences of elements, similar to lists. However, unlike lists, tuples are immutable, which means that their elements cannot be modified once they are created. Tuples can also contain duplicate elements and can be accessed using indices.\n",
    "\n",
    "# 2.Which of the following statements is true about creating a tuple in Python?\n",
    "\n",
    "\n",
    "A tuple is created using square brackets\n",
    "\n",
    "\n",
    "# A tuple is created using parentheses\n",
    "\n",
    "\n",
    "A tuple is created using curly braces\n",
    "\n",
    "\n",
    "A tuple is created using angle brackets\n",
    "\n",
    " \n",
    "\n",
    "# Explanation: To create a tuple in Python, you use parentheses around a comma-separated sequence of values.\n",
    "\n",
    "# 3.Which of the following statements is true about accessing elements in a tuple in Python?\n",
    "\n",
    "\n",
    "# Elements in a tuple are accessed using square brackets\n",
    "\n",
    "\n",
    "Elements in a tuple are accessed using parentheses\n",
    "\n",
    "\n",
    "Elements in a tuple are accessed using curly braces\n",
    "\n",
    "\n",
    "Elements in a tuple are accessed using angle brackets\n",
    "\n",
    "# Explanation: Just like in lists, elements in a tuple are accessed using square brackets and an index number.\n",
    "\n",
    "# 4.Which of the following statements is true about iterating over a tuple in Python?\n",
    "\n",
    "\n",
    "You cannot iterate over a tuple in Python\n",
    "\n",
    "\n",
    "# You can iterate over a tuple using a for loop\n",
    "\n",
    "\n",
    "You can iterate over a tuple using a while loop\n",
    "\n",
    "\n",
    "You can iterate over a tuple using a do-while loop\n",
    "\n",
    "# Explanation: You can iterate over a tuple in Python using a for loop, just like you would with a list or any other iterable object.\n",
    "\n",
    "# 5.Which of the following statements is true about slicing a tuple in Python?\n",
    "\n",
    "\n",
    "You cannot slice a tuple in Python\n",
    "\n",
    "\n",
    "You can slice a tuple using a colon operator\n",
    "\n",
    "\n",
    "# You can slice a tuple using square brackets and an index range\n",
    "\n",
    "\n",
    "You can slice a tuple using parentheses and an index range\n",
    "\n",
    " \n",
    "\n",
    "# Explanation: You can slice a tuple in Python using square brackets and an index range, just like you would with a list or any other sequence.\n",
    "\n",
    "# 6.Which of the following statements is true about sorting a tuple in Python?\n",
    "\n",
    "\n",
    "You cannot sort a tuple in Python\n",
    "\n",
    "\n",
    "# You can sort a tuple using the sorted() function\n",
    "\n",
    "\n",
    "You can sort a tuple using the sort() method\n",
    "\n",
    "\n",
    "You can sort a tuple using the reverse() method\n",
    "\n",
    "# Explanation: You cannot sort a tuple in place using the sort() method, since tuples are immutable. However, you can sort a tuple using the sorted() function, which returns a new sorted list.\n",
    "\n",
    "# 7.Which of the following statements is true about adding elements to a tuple in Python?\n",
    "\n",
    "\n",
    "You can add elements to a tuple using the append() method\n",
    "\n",
    "\n",
    "You can add elements to a tuple using the extend() method\n",
    "\n",
    "\n",
    "You can add elements to a tuple using the insert() method\n",
    "\n",
    "\n",
    "# You cannot add elements to a tuple in Python\n",
    "\n",
    "# Explanation: Tuples are immutable, which means that you cannot add or remove elements from a tuple once it is created"
   ]
  },
  {
   "cell_type": "markdown",
   "id": "539084f9",
   "metadata": {},
   "source": [
    "# Sets"
   ]
  },
  {
   "cell_type": "code",
   "execution_count": 1,
   "id": "7ebcbb72",
   "metadata": {},
   "outputs": [],
   "source": [
    "s={}"
   ]
  },
  {
   "cell_type": "code",
   "execution_count": 2,
   "id": "71007db4",
   "metadata": {},
   "outputs": [
    {
     "data": {
      "text/plain": [
       "dict"
      ]
     },
     "execution_count": 2,
     "metadata": {},
     "output_type": "execute_result"
    }
   ],
   "source": [
    "type(s)"
   ]
  },
  {
   "cell_type": "code",
   "execution_count": 5,
   "id": "7c1e444c",
   "metadata": {},
   "outputs": [],
   "source": [
    "s1={1,2,3,4,4,3,1,1,1,2,3,4.5,'ayan',True}"
   ]
  },
  {
   "cell_type": "code",
   "execution_count": 6,
   "id": "158ef468",
   "metadata": {},
   "outputs": [
    {
     "data": {
      "text/plain": [
       "set"
      ]
     },
     "execution_count": 6,
     "metadata": {},
     "output_type": "execute_result"
    }
   ],
   "source": [
    "type(s1)"
   ]
  },
  {
   "cell_type": "code",
   "execution_count": 9,
   "id": "02eb901b",
   "metadata": {},
   "outputs": [
    {
     "data": {
      "text/plain": [
       "{1, 2, 3, 4, 4.5, 'ayan'}"
      ]
     },
     "execution_count": 9,
     "metadata": {},
     "output_type": "execute_result"
    }
   ],
   "source": [
    "s1 # no duplicated data\n",
    "# set remove duplicated data"
   ]
  },
  {
   "cell_type": "code",
   "execution_count": 13,
   "id": "156c1e3b",
   "metadata": {},
   "outputs": [],
   "source": [
    "s2={'Ayan','ayan','ayan'}"
   ]
  },
  {
   "cell_type": "code",
   "execution_count": 14,
   "id": "a429487d",
   "metadata": {},
   "outputs": [
    {
     "data": {
      "text/plain": [
       "{'Ayan', 'ayan'}"
      ]
     },
     "execution_count": 14,
     "metadata": {},
     "output_type": "execute_result"
    }
   ],
   "source": [
    "s2 # case sensitive "
   ]
  },
  {
   "cell_type": "code",
   "execution_count": 15,
   "id": "d00b1b02",
   "metadata": {},
   "outputs": [],
   "source": [
    "s2.add('arshan')"
   ]
  },
  {
   "cell_type": "code",
   "execution_count": 16,
   "id": "2747850a",
   "metadata": {},
   "outputs": [
    {
     "data": {
      "text/plain": [
       "{'Ayan', 'arshan', 'ayan'}"
      ]
     },
     "execution_count": 16,
     "metadata": {},
     "output_type": "execute_result"
    }
   ],
   "source": [
    "s2"
   ]
  },
  {
   "cell_type": "code",
   "execution_count": 17,
   "id": "546cc40b",
   "metadata": {},
   "outputs": [
    {
     "data": {
      "text/plain": [
       "'arshan'"
      ]
     },
     "execution_count": 17,
     "metadata": {},
     "output_type": "execute_result"
    }
   ],
   "source": [
    "s2.pop()"
   ]
  },
  {
   "cell_type": "code",
   "execution_count": 18,
   "id": "e47ef940",
   "metadata": {},
   "outputs": [
    {
     "data": {
      "text/plain": [
       "{'Ayan', 'ayan'}"
      ]
     },
     "execution_count": 18,
     "metadata": {},
     "output_type": "execute_result"
    }
   ],
   "source": [
    "s2"
   ]
  },
  {
   "cell_type": "code",
   "execution_count": 20,
   "id": "9f021c1a",
   "metadata": {},
   "outputs": [
    {
     "ename": "TypeError",
     "evalue": "unhashable type: 'list'",
     "output_type": "error",
     "traceback": [
      "\u001b[1;31m---------------------------------------------------------------------------\u001b[0m",
      "\u001b[1;31mTypeError\u001b[0m                                 Traceback (most recent call last)",
      "Cell \u001b[1;32mIn[20], line 1\u001b[0m\n\u001b[1;32m----> 1\u001b[0m s2\u001b[38;5;241m.\u001b[39madd([\u001b[38;5;241m1\u001b[39m,\u001b[38;5;241m2\u001b[39m,\u001b[38;5;241m3\u001b[39m,\u001b[38;5;241m4\u001b[39m,\u001b[38;5;241m5\u001b[39m])\n",
      "\u001b[1;31mTypeError\u001b[0m: unhashable type: 'list'"
     ]
    }
   ],
   "source": [
    "s2.add([1,2,3,4,5]) # list not add in set because of immutable"
   ]
  },
  {
   "cell_type": "code",
   "execution_count": 21,
   "id": "ac81cc0e",
   "metadata": {},
   "outputs": [],
   "source": [
    "s2.add((1,2,33,4,5))"
   ]
  },
  {
   "cell_type": "code",
   "execution_count": 23,
   "id": "406f7b73",
   "metadata": {},
   "outputs": [
    {
     "data": {
      "text/plain": [
       "{(1, 2, 33, 4, 5), 'Ayan', 'ayan'}"
      ]
     },
     "execution_count": 23,
     "metadata": {},
     "output_type": "execute_result"
    }
   ],
   "source": [
    "s2 "
   ]
  },
  {
   "cell_type": "code",
   "execution_count": 25,
   "id": "1645660a",
   "metadata": {},
   "outputs": [
    {
     "ename": "TypeError",
     "evalue": "unhashable type: 'set'",
     "output_type": "error",
     "traceback": [
      "\u001b[1;31m---------------------------------------------------------------------------\u001b[0m",
      "\u001b[1;31mTypeError\u001b[0m                                 Traceback (most recent call last)",
      "Cell \u001b[1;32mIn[25], line 1\u001b[0m\n\u001b[1;32m----> 1\u001b[0m s2\u001b[38;5;241m.\u001b[39madd({\u001b[38;5;241m1\u001b[39m,\u001b[38;5;241m2\u001b[39m,\u001b[38;5;241m3\u001b[39m,\u001b[38;5;241m4\u001b[39m,\u001b[38;5;241m5\u001b[39m})\n",
      "\u001b[1;31mTypeError\u001b[0m: unhashable type: 'set'"
     ]
    }
   ],
   "source": [
    "s2.add({1,2,3,4,5}) # set is also not add in set"
   ]
  },
  {
   "cell_type": "code",
   "execution_count": 26,
   "id": "fddaa9aa",
   "metadata": {},
   "outputs": [],
   "source": [
    "s2.clear() # delete the set"
   ]
  },
  {
   "cell_type": "code",
   "execution_count": 27,
   "id": "44812123",
   "metadata": {},
   "outputs": [
    {
     "data": {
      "text/plain": [
       "set()"
      ]
     },
     "execution_count": 27,
     "metadata": {},
     "output_type": "execute_result"
    }
   ],
   "source": [
    "s2"
   ]
  },
  {
   "cell_type": "code",
   "execution_count": 28,
   "id": "8646c041",
   "metadata": {},
   "outputs": [],
   "source": [
    "l=[1,2,3,4,5,5,4,3,2,1]"
   ]
  },
  {
   "cell_type": "code",
   "execution_count": 30,
   "id": "70eefb10",
   "metadata": {},
   "outputs": [
    {
     "data": {
      "text/plain": [
       "{1, 2, 3, 4, 5}"
      ]
     },
     "execution_count": 30,
     "metadata": {},
     "output_type": "execute_result"
    }
   ],
   "source": [
    "set(l) # remove duplicated"
   ]
  },
  {
   "cell_type": "code",
   "execution_count": 31,
   "id": "9fdeb880",
   "metadata": {},
   "outputs": [
    {
     "data": {
      "text/plain": [
       "{1, 2, 3, 4, 4.5, 'ayan'}"
      ]
     },
     "execution_count": 31,
     "metadata": {},
     "output_type": "execute_result"
    }
   ],
   "source": [
    "s1"
   ]
  },
  {
   "cell_type": "code",
   "execution_count": 32,
   "id": "0071582f",
   "metadata": {},
   "outputs": [],
   "source": [
    "s1.remove(4) "
   ]
  },
  {
   "cell_type": "code",
   "execution_count": 33,
   "id": "296865db",
   "metadata": {},
   "outputs": [
    {
     "data": {
      "text/plain": [
       "{1, 2, 3, 4.5, 'ayan'}"
      ]
     },
     "execution_count": 33,
     "metadata": {},
     "output_type": "execute_result"
    }
   ],
   "source": [
    "s1"
   ]
  },
  {
   "cell_type": "code",
   "execution_count": 34,
   "id": "bc40798c",
   "metadata": {},
   "outputs": [],
   "source": [
    "s1.discard(3)"
   ]
  },
  {
   "cell_type": "code",
   "execution_count": 35,
   "id": "b8ba1718",
   "metadata": {},
   "outputs": [
    {
     "data": {
      "text/plain": [
       "{1, 2, 4.5, 'ayan'}"
      ]
     },
     "execution_count": 35,
     "metadata": {},
     "output_type": "execute_result"
    }
   ],
   "source": [
    "s1 # bo"
   ]
  },
  {
   "cell_type": "code",
   "execution_count": 36,
   "id": "7b8bba30",
   "metadata": {},
   "outputs": [
    {
     "ename": "KeyError",
     "evalue": "100",
     "output_type": "error",
     "traceback": [
      "\u001b[1;31m---------------------------------------------------------------------------\u001b[0m",
      "\u001b[1;31mKeyError\u001b[0m                                  Traceback (most recent call last)",
      "Cell \u001b[1;32mIn[36], line 1\u001b[0m\n\u001b[1;32m----> 1\u001b[0m s1\u001b[38;5;241m.\u001b[39mremove(\u001b[38;5;241m100\u001b[39m)\n",
      "\u001b[1;31mKeyError\u001b[0m: 100"
     ]
    }
   ],
   "source": [
    "s1.remove(100) # if not present then show error"
   ]
  },
  {
   "cell_type": "code",
   "execution_count": 38,
   "id": "2eec4590",
   "metadata": {},
   "outputs": [],
   "source": [
    "s1.discard(100) # if not present then not show error"
   ]
  },
  {
   "cell_type": "code",
   "execution_count": 39,
   "id": "57cec9fa",
   "metadata": {},
   "outputs": [
    {
     "ename": "TypeError",
     "evalue": "'set' object is not subscriptable",
     "output_type": "error",
     "traceback": [
      "\u001b[1;31m---------------------------------------------------------------------------\u001b[0m",
      "\u001b[1;31mTypeError\u001b[0m                                 Traceback (most recent call last)",
      "Cell \u001b[1;32mIn[39], line 1\u001b[0m\n\u001b[1;32m----> 1\u001b[0m s1[\u001b[38;5;241m0\u001b[39m]\n",
      "\u001b[1;31mTypeError\u001b[0m: 'set' object is not subscriptable"
     ]
    }
   ],
   "source": [
    "s1[0] # indexing does work bescause set save rendom data"
   ]
  },
  {
   "cell_type": "markdown",
   "id": "2e84419b",
   "metadata": {},
   "source": [
    "# Q and A"
   ]
  },
  {
   "cell_type": "markdown",
   "id": "6df091f8",
   "metadata": {},
   "source": [
    "# Question 1 - What is a set in python?"
   ]
  },
  {
   "cell_type": "code",
   "execution_count": 156,
   "id": "17e531e8",
   "metadata": {},
   "outputs": [],
   "source": [
    "a = {1, 2, 3, 4, 5}"
   ]
  },
  {
   "cell_type": "code",
   "execution_count": 157,
   "id": "07f6a8f3",
   "metadata": {},
   "outputs": [
    {
     "data": {
      "text/plain": [
       "set"
      ]
     },
     "execution_count": 157,
     "metadata": {},
     "output_type": "execute_result"
    }
   ],
   "source": [
    "type(a)"
   ]
  },
  {
   "cell_type": "markdown",
   "id": "6556d370",
   "metadata": {},
   "source": [
    "# Question 2- How do you create a set in python?\n",
    "\n",
    "# Answer 2- These are a few differance ways to create a set\n",
    "\n",
    "# 1- Using curly braces{} and separating each element with a comma"
   ]
  },
  {
   "cell_type": "code",
   "execution_count": 158,
   "id": "6f895cb5",
   "metadata": {},
   "outputs": [],
   "source": [
    "a = {1,2,3,4,5}"
   ]
  },
  {
   "cell_type": "markdown",
   "id": "c915b55c",
   "metadata": {},
   "source": [
    "# 2- Using the built-in set() funcation and passing in an iterable, such as a list or tuple"
   ]
  },
  {
   "cell_type": "code",
   "execution_count": 159,
   "id": "8543d495",
   "metadata": {},
   "outputs": [],
   "source": [
    "z=[1,2,3,45]"
   ]
  },
  {
   "cell_type": "code",
   "execution_count": 160,
   "id": "ffb70b31",
   "metadata": {},
   "outputs": [],
   "source": [
    "a= set(z)"
   ]
  },
  {
   "cell_type": "code",
   "execution_count": 161,
   "id": "5e510bfd",
   "metadata": {},
   "outputs": [
    {
     "data": {
      "text/plain": [
       "{1, 2, 3, 45}"
      ]
     },
     "execution_count": 161,
     "metadata": {},
     "output_type": "execute_result"
    }
   ],
   "source": [
    "a"
   ]
  },
  {
   "cell_type": "markdown",
   "id": "d3e551c4",
   "metadata": {},
   "source": [
    "# 3- using the set() funcation with no arguments to create an empty set"
   ]
  },
  {
   "cell_type": "markdown",
   "id": "f19d0fde",
   "metadata": {},
   "source": [
    "a=set()"
   ]
  },
  {
   "cell_type": "code",
   "execution_count": 162,
   "id": "75bf04d2",
   "metadata": {},
   "outputs": [
    {
     "data": {
      "text/plain": [
       "{1, 2, 3, 45}"
      ]
     },
     "execution_count": 162,
     "metadata": {},
     "output_type": "execute_result"
    }
   ],
   "source": [
    "a"
   ]
  },
  {
   "cell_type": "markdown",
   "id": "4dcf182c",
   "metadata": {},
   "source": [
    "# Question 3- How do you add element to a set in python?\n",
    "\n",
    "# Answer 3- You can add a elenment to a set using the 'add()' method"
   ]
  },
  {
   "cell_type": "code",
   "execution_count": 164,
   "id": "dfb6b7ec",
   "metadata": {},
   "outputs": [],
   "source": [
    "b= {1,2,3,4,5,6,7,8,9}"
   ]
  },
  {
   "cell_type": "code",
   "execution_count": 165,
   "id": "a5fd787d",
   "metadata": {},
   "outputs": [],
   "source": [
    "b.add(0)"
   ]
  },
  {
   "cell_type": "code",
   "execution_count": 166,
   "id": "184aa186",
   "metadata": {},
   "outputs": [
    {
     "data": {
      "text/plain": [
       "{0, 1, 2, 3, 4, 5, 6, 7, 8, 9}"
      ]
     },
     "execution_count": 166,
     "metadata": {},
     "output_type": "execute_result"
    }
   ],
   "source": [
    "b"
   ]
  },
  {
   "cell_type": "markdown",
   "id": "8d790cb4",
   "metadata": {},
   "source": [
    "# If you try to add an element that already exists in the set, it will not be added again. this because sets only contain unique elements\n",
    "\n",
    "# Question 4- How do you remove elements from a set in python?\n",
    "\n",
    "# Answer 4- You have three method to remove elements\n",
    "\n",
    "# 1- Using the 'remove()' method remove the specific element from the set"
   ]
  },
  {
   "cell_type": "code",
   "execution_count": 167,
   "id": "adccc0e7",
   "metadata": {},
   "outputs": [],
   "source": [
    "r = {1,2,3,4,5}"
   ]
  },
  {
   "cell_type": "code",
   "execution_count": 168,
   "id": "6011cb22",
   "metadata": {},
   "outputs": [],
   "source": [
    "r.remove(4)"
   ]
  },
  {
   "cell_type": "code",
   "execution_count": 169,
   "id": "aa60fed5",
   "metadata": {},
   "outputs": [
    {
     "data": {
      "text/plain": [
       "{1, 2, 3, 5}"
      ]
     },
     "execution_count": 169,
     "metadata": {},
     "output_type": "execute_result"
    }
   ],
   "source": [
    "r"
   ]
  },
  {
   "cell_type": "markdown",
   "id": "d1f9a2dc",
   "metadata": {},
   "source": [
    "# 2- Using the 'discard()' method to remove the specified element from the set if it is present. if the element not present in set, it does not raise an error"
   ]
  },
  {
   "cell_type": "code",
   "execution_count": 170,
   "id": "009c94b0",
   "metadata": {},
   "outputs": [
    {
     "data": {
      "text/plain": [
       "{1, 2, 3, 5}"
      ]
     },
     "execution_count": 170,
     "metadata": {},
     "output_type": "execute_result"
    }
   ],
   "source": [
    "r"
   ]
  },
  {
   "cell_type": "code",
   "execution_count": 171,
   "id": "e53e5698",
   "metadata": {},
   "outputs": [],
   "source": [
    "r.discard(3)"
   ]
  },
  {
   "cell_type": "code",
   "execution_count": 172,
   "id": "b79da466",
   "metadata": {},
   "outputs": [
    {
     "data": {
      "text/plain": [
       "{1, 2, 5}"
      ]
     },
     "execution_count": 172,
     "metadata": {},
     "output_type": "execute_result"
    }
   ],
   "source": [
    "r"
   ]
  },
  {
   "cell_type": "markdown",
   "id": "cdf49e56",
   "metadata": {},
   "source": [
    "# 3- Using 'pop()' method to remove and return an arbitrary element from the set"
   ]
  },
  {
   "cell_type": "code",
   "execution_count": 173,
   "id": "d9b20b98",
   "metadata": {},
   "outputs": [
    {
     "data": {
      "text/plain": [
       "{1, 2, 5}"
      ]
     },
     "execution_count": 173,
     "metadata": {},
     "output_type": "execute_result"
    }
   ],
   "source": [
    "r"
   ]
  },
  {
   "cell_type": "code",
   "execution_count": 174,
   "id": "04f5973a",
   "metadata": {},
   "outputs": [
    {
     "data": {
      "text/plain": [
       "1"
      ]
     },
     "execution_count": 174,
     "metadata": {},
     "output_type": "execute_result"
    }
   ],
   "source": [
    "r.pop()"
   ]
  },
  {
   "cell_type": "code",
   "execution_count": 175,
   "id": "6663eac7",
   "metadata": {},
   "outputs": [
    {
     "data": {
      "text/plain": [
       "{2, 5}"
      ]
     },
     "execution_count": 175,
     "metadata": {},
     "output_type": "execute_result"
    }
   ],
   "source": [
    "r"
   ]
  },
  {
   "cell_type": "markdown",
   "id": "89dc08a9",
   "metadata": {},
   "source": [
    "# Question 5- How do you get the length of a set in python?\n",
    "\n",
    "# Answer 5- To get the length of a set, you can use the build- in \"len()\" funcation"
   ]
  },
  {
   "cell_type": "code",
   "execution_count": 176,
   "id": "81714bd6",
   "metadata": {},
   "outputs": [
    {
     "data": {
      "text/plain": [
       "5"
      ]
     },
     "execution_count": 176,
     "metadata": {},
     "output_type": "execute_result"
    }
   ],
   "source": [
    "g = {1,2,3,4,5}\n",
    "len(g)"
   ]
  },
  {
   "cell_type": "markdown",
   "id": "7f0f797e",
   "metadata": {},
   "source": [
    "# MCQ"
   ]
  },
  {
   "cell_type": "markdown",
   "id": "1111e65c",
   "metadata": {},
   "source": [
    "# 1.What is a set in Python?\n",
    "\n",
    "\n",
    "An ordered collection of elements\n",
    "\n",
    "\n",
    "# An unordered collection of unique elements\n",
    "\n",
    "\n",
    "A collection of elements with duplicate values\n",
    "\n",
    "\n",
    "A collection of elements with mixed data types\n",
    "\n",
    "# Explanation: A set is a collection of unique and unordered elements in Python. It is defined using curly braces {} or the set() function. Sets cannot contain duplicate elements.\n",
    "\n",
    "# 2.Which operator is used to perform set intersection in Python?\n",
    "\n",
    "\n",
    "# &\n",
    "\n",
    "\n",
    "|\n",
    "\n",
    "\n",
    "-\n",
    "\n",
    "\n",
    "^\n",
    "\n",
    "# Explanation: The & operator is used to perform set intersection in Python. It returns a new set that contains only the elements that are present in both sets.\n",
    "\n",
    "# 3.Which method is used to add elements to a set in Python?\n",
    "\n",
    "\n",
    "append()\n",
    "\n",
    "\n",
    "extend()\n",
    "\n",
    "\n",
    "# add()\n",
    "\n",
    "\n",
    "insert()\n",
    "\n",
    "# Explanation: The add() method is used to add a single element to a set in Python.\n",
    "\n",
    "# 4.Which method is used to remove elements from a set in Python?\n",
    "\n",
    "\n",
    "remove()\n",
    "\n",
    "\n",
    "pop()\n",
    "\n",
    "\n",
    "discard()\n",
    "\n",
    "\n",
    "# all of the above\n",
    "\n",
    "# Explanation: The remove(), pop(), and discard() methods can be used to remove elements from a set in Python. The remove() method raises an error if the element does not exist in the set, while the pop() method removes a random element from the set. The discard() method removes an element from the set if it exists, but does not raise an error if the element does not exist.\n",
    "\n",
    "# 5.Which of the following is NOT a valid set in Python?\n",
    "\n",
    "\n",
    "{1, 2, 3, 4}\n",
    "\n",
    "\n",
    "{1, \"apple\", 2.5}\n",
    "\n",
    "\n",
    "# {[1, 2], (3, 4)}\n",
    "\n",
    "\n",
    "set()\n",
    "\n",
    "# Explanation: Sets can only contain hashable elements, which means that they cannot contain mutable objects like lists or dictionaries. Therefore, option C is not a valid set in Python.\n",
    "\n",
    "# 6.Which of the following is a valid way to create an empty set in Python?\n",
    "\n",
    "\n",
    "{}\n",
    "\n",
    "\n",
    "# set()\n",
    "\n",
    "\n",
    "{None}\n",
    "\n",
    "\n",
    "None of the above\n",
    "\n",
    "# Explanation: The set() function is used to create an empty set in Python. Using {} will create an empty dictionary, not an empty set.\n",
    "\n"
   ]
  },
  {
   "cell_type": "markdown",
   "id": "548cdf62",
   "metadata": {},
   "source": [
    "# Dictnery "
   ]
  },
  {
   "cell_type": "code",
   "execution_count": 43,
   "id": "210997f1",
   "metadata": {},
   "outputs": [],
   "source": [
    "s={} # curly brases reconsised dict"
   ]
  },
  {
   "cell_type": "code",
   "execution_count": 41,
   "id": "9652d96a",
   "metadata": {},
   "outputs": [
    {
     "data": {
      "text/plain": [
       "dict"
      ]
     },
     "execution_count": 41,
     "metadata": {},
     "output_type": "execute_result"
    }
   ],
   "source": [
    "type(s)"
   ]
  },
  {
   "cell_type": "code",
   "execution_count": 45,
   "id": "d81ffc09",
   "metadata": {},
   "outputs": [],
   "source": [
    "s1={1,2,3,4,5}"
   ]
  },
  {
   "cell_type": "code",
   "execution_count": 46,
   "id": "b16935fb",
   "metadata": {},
   "outputs": [
    {
     "data": {
      "text/plain": [
       "{1, 2, 3, 4, 5}"
      ]
     },
     "execution_count": 46,
     "metadata": {},
     "output_type": "execute_result"
    }
   ],
   "source": [
    "s1"
   ]
  },
  {
   "cell_type": "code",
   "execution_count": 48,
   "id": "3f67d2ee",
   "metadata": {},
   "outputs": [
    {
     "data": {
      "text/plain": [
       "set"
      ]
     },
     "execution_count": 48,
     "metadata": {},
     "output_type": "execute_result"
    }
   ],
   "source": [
    "type(s1) # in both we using curly brases"
   ]
  },
  {
   "cell_type": "code",
   "execution_count": 49,
   "id": "b37675df",
   "metadata": {},
   "outputs": [],
   "source": [
    "d={'a':1} # always key value pair"
   ]
  },
  {
   "cell_type": "code",
   "execution_count": 50,
   "id": "6c99fbbf",
   "metadata": {},
   "outputs": [
    {
     "data": {
      "text/plain": [
       "{'a': 1}"
      ]
     },
     "execution_count": 50,
     "metadata": {},
     "output_type": "execute_result"
    }
   ],
   "source": [
    "d"
   ]
  },
  {
   "cell_type": "code",
   "execution_count": 51,
   "id": "7368775d",
   "metadata": {},
   "outputs": [],
   "source": [
    "d1={'name':'ayan'}"
   ]
  },
  {
   "cell_type": "code",
   "execution_count": 52,
   "id": "1011d16b",
   "metadata": {},
   "outputs": [
    {
     "data": {
      "text/plain": [
       "{'name': 'ayan'}"
      ]
     },
     "execution_count": 52,
     "metadata": {},
     "output_type": "execute_result"
    }
   ],
   "source": [
    "d1"
   ]
  },
  {
   "cell_type": "code",
   "execution_count": 54,
   "id": "61e837b1",
   "metadata": {},
   "outputs": [
    {
     "data": {
      "text/plain": [
       "'ayan'"
      ]
     },
     "execution_count": 54,
     "metadata": {},
     "output_type": "execute_result"
    }
   ],
   "source": [
    "d1['name'] # useing the key we get the data"
   ]
  },
  {
   "cell_type": "code",
   "execution_count": 57,
   "id": "065f99d4",
   "metadata": {},
   "outputs": [
    {
     "ename": "SyntaxError",
     "evalue": "invalid syntax (1800437513.py, line 1)",
     "output_type": "error",
     "traceback": [
      "\u001b[1;36m  Cell \u001b[1;32mIn[57], line 1\u001b[1;36m\u001b[0m\n\u001b[1;33m    d3={@2344:'ayan'} # any special case caracter does not work\u001b[0m\n\u001b[1;37m        ^\u001b[0m\n\u001b[1;31mSyntaxError\u001b[0m\u001b[1;31m:\u001b[0m invalid syntax\n"
     ]
    }
   ],
   "source": [
    "d3={@2344:'ayan'} # any special case caracter does not work"
   ]
  },
  {
   "cell_type": "code",
   "execution_count": 62,
   "id": "a5e2353a",
   "metadata": {},
   "outputs": [
    {
     "ename": "TypeError",
     "evalue": "unhashable type: 'list'",
     "output_type": "error",
     "traceback": [
      "\u001b[1;31m---------------------------------------------------------------------------\u001b[0m",
      "\u001b[1;31mTypeError\u001b[0m                                 Traceback (most recent call last)",
      "Cell \u001b[1;32mIn[62], line 1\u001b[0m\n\u001b[1;32m----> 1\u001b[0m d4\u001b[38;5;241m=\u001b[39m{[\u001b[38;5;241m1\u001b[39m,\u001b[38;5;241m2\u001b[39m,\u001b[38;5;241m3\u001b[39m]:\u001b[38;5;124m'\u001b[39m\u001b[38;5;124mayan\u001b[39m\u001b[38;5;124m'\u001b[39m}\n",
      "\u001b[1;31mTypeError\u001b[0m: unhashable type: 'list'"
     ]
    }
   ],
   "source": [
    "d4={[1,2,3]:'ayan'} #we can't used list and set"
   ]
  },
  {
   "cell_type": "code",
   "execution_count": 61,
   "id": "40609829",
   "metadata": {},
   "outputs": [],
   "source": [
    "d5={(1,2,3):'ayan'} #tuples work in dict"
   ]
  },
  {
   "cell_type": "code",
   "execution_count": 64,
   "id": "cd96b014",
   "metadata": {},
   "outputs": [],
   "source": [
    "d6={True:'ayan'} # it is work"
   ]
  },
  {
   "cell_type": "code",
   "execution_count": 72,
   "id": "e795bd4a",
   "metadata": {},
   "outputs": [],
   "source": [
    "d7={'name':'ayan','name':'zara'} # key never duplicated always unique"
   ]
  },
  {
   "cell_type": "code",
   "execution_count": 73,
   "id": "8ebc2abe",
   "metadata": {},
   "outputs": [
    {
     "data": {
      "text/plain": [
       "{'name': 'zara'}"
      ]
     },
     "execution_count": 73,
     "metadata": {},
     "output_type": "execute_result"
    }
   ],
   "source": [
    "d7"
   ]
  },
  {
   "cell_type": "code",
   "execution_count": 74,
   "id": "1d31ce5e",
   "metadata": {},
   "outputs": [
    {
     "data": {
      "text/plain": [
       "dict_keys(['name'])"
      ]
     },
     "execution_count": 74,
     "metadata": {},
     "output_type": "execute_result"
    }
   ],
   "source": [
    "d7.keys()"
   ]
  },
  {
   "cell_type": "code",
   "execution_count": 75,
   "id": "7a402941",
   "metadata": {},
   "outputs": [
    {
     "data": {
      "text/plain": [
       "dict_values(['zara'])"
      ]
     },
     "execution_count": 75,
     "metadata": {},
     "output_type": "execute_result"
    }
   ],
   "source": [
    "d7.values()"
   ]
  },
  {
   "cell_type": "code",
   "execution_count": 76,
   "id": "7bd5677d",
   "metadata": {},
   "outputs": [
    {
     "data": {
      "text/plain": [
       "dict_items([('name', 'zara')])"
      ]
     },
     "execution_count": 76,
     "metadata": {},
     "output_type": "execute_result"
    }
   ],
   "source": [
    "d7.items()"
   ]
  },
  {
   "cell_type": "markdown",
   "id": "2ec7de25",
   "metadata": {},
   "source": [
    "# Conditionals\n",
    "# If and Else"
   ]
  },
  {
   "cell_type": "code",
   "execution_count": 77,
   "id": "51497479",
   "metadata": {},
   "outputs": [],
   "source": [
    "a=1000"
   ]
  },
  {
   "cell_type": "code",
   "execution_count": 78,
   "id": "10cd6959",
   "metadata": {},
   "outputs": [
    {
     "name": "stdout",
     "output_type": "stream",
     "text": [
      "i will buy\n"
     ]
    }
   ],
   "source": [
    "price =400\n",
    "if price<=500:\n",
    "    print(\"i will buy\")"
   ]
  },
  {
   "cell_type": "code",
   "execution_count": 80,
   "id": "db464a7d",
   "metadata": {},
   "outputs": [
    {
     "name": "stdout",
     "output_type": "stream",
     "text": [
      "enter price500\n",
      "I wil buy\n"
     ]
    }
   ],
   "source": [
    "price=int(input('enter price'))\n",
    "if price<=500:\n",
    "    print(\"I wil buy\")\n",
    "else:\n",
    "    print('i will not buy')"
   ]
  },
  {
   "cell_type": "code",
   "execution_count": 83,
   "id": "65839acd",
   "metadata": {},
   "outputs": [
    {
     "name": "stdout",
     "output_type": "stream",
     "text": [
      "enter a price1000\n",
      "i will buy tshirt\n"
     ]
    }
   ],
   "source": [
    "price=int(input('enter a price'))\n",
    "if price <100:\n",
    "    print('i will buy t shirt')\n",
    "elif price >500:\n",
    "    print('i will buy tshirt')\n",
    "else:\n",
    "    print('i wont buy anything')"
   ]
  },
  {
   "cell_type": "markdown",
   "id": "2d08ae40",
   "metadata": {},
   "source": [
    "# Nested Condision"
   ]
  },
  {
   "cell_type": "code",
   "execution_count": 84,
   "id": "26855f2d",
   "metadata": {},
   "outputs": [
    {
     "name": "stdout",
     "output_type": "stream",
     "text": [
      "enter a number-64343\n",
      "this number was negative number\n"
     ]
    }
   ],
   "source": [
    "a=int(input('enter a number'))\n",
    "if a>0:\n",
    "    print('this number was positive')\n",
    "elif a<0:\n",
    "    print('this number was negative number')\n",
    "else:\n",
    "    print('number is zero')"
   ]
  },
  {
   "cell_type": "code",
   "execution_count": 86,
   "id": "0f2219cc",
   "metadata": {},
   "outputs": [],
   "source": [
    "# nested mean if ka ander if in a simple form"
   ]
  },
  {
   "cell_type": "code",
   "execution_count": 89,
   "id": "8689c1d8",
   "metadata": {},
   "outputs": [
    {
     "name": "stdout",
     "output_type": "stream",
     "text": [
      "entar a number0\n",
      "number is even\n"
     ]
    }
   ],
   "source": [
    "a=int(input('entar a number'))\n",
    "if a%2==0:\n",
    "    print('number is even')\n",
    "else:\n",
    "    print('the number is odd')"
   ]
  },
  {
   "cell_type": "code",
   "execution_count": 90,
   "id": "9e4ff1b9",
   "metadata": {},
   "outputs": [
    {
     "name": "stdout",
     "output_type": "stream",
     "text": [
      "entar a number0\n",
      "the input number is zero\n"
     ]
    }
   ],
   "source": [
    "n=int(input('entar a number'))\n",
    "if n%2==0:\n",
    "    if n==0:\n",
    "        print('the input number is zero')\n",
    "    else:\n",
    "        print('number is even')\n",
    "else:\n",
    "    print('the number is odd')"
   ]
  },
  {
   "cell_type": "code",
   "execution_count": 96,
   "id": "3a4214ab",
   "metadata": {},
   "outputs": [
    {
     "name": "stdout",
     "output_type": "stream",
     "text": [
      "enter your age19\n",
      "are you a citizenyes\n",
      "do you have a voter id cardno\n",
      "you are a citizen\n",
      "you dont have voter id\n"
     ]
    }
   ],
   "source": [
    "age=int(input('enter your age'))\n",
    "citizen=input('are you a citizen')\n",
    "voter_id=input('do you have a voter id card')\n",
    "if age>18:\n",
    "    if citizen=='yes':\n",
    "        print('you are a citizen')\n",
    "        if voter_id=='yes':\n",
    "            print('you have a voter id')\n",
    "        else:\n",
    "            print('you dont have voter id')\n",
    "    else:\n",
    "        print('you are not a citizen')\n",
    "else:\n",
    "    print('you are eligible')"
   ]
  },
  {
   "cell_type": "code",
   "execution_count": 6,
   "id": "212ff8c0",
   "metadata": {},
   "outputs": [
    {
     "name": "stdout",
     "output_type": "stream",
     "text": [
      "1\n",
      "2\n",
      "3\n",
      "this ia my else\n"
     ]
    }
   ],
   "source": [
    "# while loop\n",
    "n=4\n",
    "i=1\n",
    "while i<n :\n",
    "    print(i)\n",
    "    i=i+1\n",
    "else:\n",
    "    print('this ia my else') # when while sussesfully compleed then else will essuated"
   ]
  },
  {
   "cell_type": "code",
   "execution_count": 8,
   "id": "a5605bae",
   "metadata": {},
   "outputs": [
    {
     "name": "stdout",
     "output_type": "stream",
     "text": [
      "1\n",
      "2\n"
     ]
    }
   ],
   "source": [
    "# while loop\n",
    "n=4\n",
    "i=1\n",
    "while i<n :\n",
    "    print(i)\n",
    "    i=i+1\n",
    "    if i==3:\n",
    "        break\n",
    "else:\n",
    "    print('this ia my else') # when while geat a break then will else doest not exsulted"
   ]
  },
  {
   "cell_type": "code",
   "execution_count": 9,
   "id": "388b9013",
   "metadata": {},
   "outputs": [],
   "source": [
    "# fool Loop"
   ]
  },
  {
   "cell_type": "code",
   "execution_count": 1,
   "id": "2db9c707",
   "metadata": {},
   "outputs": [],
   "source": [
    "a=\"arshankhan\""
   ]
  },
  {
   "cell_type": "code",
   "execution_count": 4,
   "id": "5ea39588",
   "metadata": {},
   "outputs": [
    {
     "name": "stdout",
     "output_type": "stream",
     "text": [
      "a\n",
      "r\n",
      "s\n",
      "h\n",
      "a\n",
      "n\n",
      "k\n",
      "h\n",
      "a\n",
      "n\n"
     ]
    }
   ],
   "source": [
    "for i in a: # i is a local variable\n",
    "    print(i)"
   ]
  },
  {
   "cell_type": "code",
   "execution_count": 3,
   "id": "7536858f",
   "metadata": {},
   "outputs": [
    {
     "name": "stdout",
     "output_type": "stream",
     "text": [
      "A\n",
      "R\n",
      "S\n",
      "H\n",
      "A\n",
      "N\n",
      "K\n",
      "H\n",
      "A\n",
      "N\n"
     ]
    }
   ],
   "source": [
    "for i in a:\n",
    "    print(i.upper())"
   ]
  },
  {
   "cell_type": "markdown",
   "id": "423c2c11",
   "metadata": {},
   "source": [
    "# Exception Handling"
   ]
  },
  {
   "cell_type": "code",
   "execution_count": 6,
   "id": "802cb37a",
   "metadata": {},
   "outputs": [
    {
     "ename": "SyntaxError",
     "evalue": "unterminated string literal (detected at line 1) (3782251904.py, line 1)",
     "output_type": "error",
     "traceback": [
      "\u001b[1;36m  Cell \u001b[1;32mIn[6], line 1\u001b[1;36m\u001b[0m\n\u001b[1;33m    print('it is a error)\u001b[0m\n\u001b[1;37m          ^\u001b[0m\n\u001b[1;31mSyntaxError\u001b[0m\u001b[1;31m:\u001b[0m unterminated string literal (detected at line 1)\n"
     ]
    }
   ],
   "source": [
    "print('it is a error)"
   ]
  },
  {
   "cell_type": "code",
   "execution_count": 7,
   "id": "d0abcb58",
   "metadata": {},
   "outputs": [
    {
     "name": "stdout",
     "output_type": "stream",
     "text": [
      "enter a number5\n"
     ]
    }
   ],
   "source": [
    "a =int(input('enter a number'))"
   ]
  },
  {
   "cell_type": "code",
   "execution_count": 9,
   "id": "057681c2",
   "metadata": {},
   "outputs": [],
   "source": [
    "b=7/a"
   ]
  },
  {
   "cell_type": "code",
   "execution_count": 10,
   "id": "8c2333b3",
   "metadata": {},
   "outputs": [
    {
     "data": {
      "text/plain": [
       "1.4"
      ]
     },
     "execution_count": 10,
     "metadata": {},
     "output_type": "execute_result"
    }
   ],
   "source": [
    "b"
   ]
  },
  {
   "cell_type": "code",
   "execution_count": 11,
   "id": "a5668226",
   "metadata": {},
   "outputs": [
    {
     "name": "stdout",
     "output_type": "stream",
     "text": [
      "0\n"
     ]
    }
   ],
   "source": [
    "b=int(input())"
   ]
  },
  {
   "cell_type": "code",
   "execution_count": 13,
   "id": "8d418836",
   "metadata": {},
   "outputs": [
    {
     "ename": "ZeroDivisionError",
     "evalue": "division by zero",
     "output_type": "error",
     "traceback": [
      "\u001b[1;31m---------------------------------------------------------------------------\u001b[0m",
      "\u001b[1;31mZeroDivisionError\u001b[0m                         Traceback (most recent call last)",
      "Cell \u001b[1;32mIn[13], line 1\u001b[0m\n\u001b[1;32m----> 1\u001b[0m c\u001b[38;5;241m=\u001b[39m\u001b[38;5;241m7\u001b[39m\u001b[38;5;241m/\u001b[39mb\n",
      "\u001b[1;31mZeroDivisionError\u001b[0m: division by zero"
     ]
    }
   ],
   "source": [
    "c=7/b # this is zerodivisionerror"
   ]
  },
  {
   "cell_type": "code",
   "execution_count": 17,
   "id": "8130a413",
   "metadata": {},
   "outputs": [
    {
     "name": "stdout",
     "output_type": "stream",
     "text": [
      "enter a number0\n",
      "this is a wrong input\n"
     ]
    }
   ],
   "source": [
    "try:               # try is reserved key word\n",
    "    a=int(input('enter a number'))\n",
    "    b=7/a\n",
    "    print(b)\n",
    "except :\n",
    "    print('this is a wrong input')"
   ]
  },
  {
   "cell_type": "code",
   "execution_count": 19,
   "id": "8a3ce161",
   "metadata": {},
   "outputs": [
    {
     "name": "stdout",
     "output_type": "stream",
     "text": [
      "enter a number0\n",
      "this is a wrong input\n",
      "this will be exculted always\n"
     ]
    }
   ],
   "source": [
    "try:               # try is reserved key word\n",
    "    a=int(input('enter a number'))\n",
    "    b=7/a\n",
    "    print(b)\n",
    "except :\n",
    "    print('this is a wrong input')\n",
    "finally:\n",
    "    print('this will be exculted always') # finally is always exculted"
   ]
  },
  {
   "cell_type": "code",
   "execution_count": 23,
   "id": "b0dc1eb5",
   "metadata": {},
   "outputs": [
    {
     "name": "stdout",
     "output_type": "stream",
     "text": [
      "enter a number0\n",
      "this is a wrong input division by zero\n",
      "this will be exculted always\n"
     ]
    }
   ],
   "source": [
    "try:               # try is reserved key word\n",
    "    a=int(input('enter a number'))\n",
    "    b=7/a\n",
    "    print(b)\n",
    "except Exception as e:                        # exception we used for get the what is error and it is a sub class\n",
    "    \n",
    "    print('this is a wrong input',e)\n",
    "finally:\n",
    "    print('this will be exculted always')"
   ]
  },
  {
   "cell_type": "code",
   "execution_count": 24,
   "id": "bf23e51d",
   "metadata": {},
   "outputs": [
    {
     "name": "stdout",
     "output_type": "stream",
     "text": [
      "enter a number0\n",
      "Zerodivision error \n",
      "this will be exculted always\n"
     ]
    }
   ],
   "source": [
    "# don't write direct except \n",
    "try:               # try is reserved key word\n",
    "    a=int(input('enter a number'))\n",
    "    b=7/a\n",
    "    print(b)\n",
    "except ValueError as e:\n",
    "    print('this is a value division error')\n",
    "except ZeroDivisionError as e:\n",
    "    print('Zerodivision error ')\n",
    "except Exception as e:                        # exception we used for get the what is error and it is a sub class\n",
    "    \n",
    "    print('this is a wrong input',e)\n",
    "finally:\n",
    "    print('this will be exculted always')"
   ]
  },
  {
   "cell_type": "markdown",
   "id": "82f86ed4",
   "metadata": {},
   "source": [
    "# Funcation"
   ]
  },
  {
   "cell_type": "code",
   "execution_count": 2,
   "id": "13c25f5e",
   "metadata": {},
   "outputs": [],
   "source": [
    "def test():          # funcation denoted by def\n",
    "    print('this is my first funcation')"
   ]
  },
  {
   "cell_type": "code",
   "execution_count": 3,
   "id": "74a7deb1",
   "metadata": {},
   "outputs": [
    {
     "name": "stdout",
     "output_type": "stream",
     "text": [
      "this is my first funcation\n"
     ]
    }
   ],
   "source": [
    "test() "
   ]
  },
  {
   "cell_type": "code",
   "execution_count": 4,
   "id": "39a6a7c4",
   "metadata": {},
   "outputs": [],
   "source": [
    "def test1(a,b):\n",
    "    print(a,b)"
   ]
  },
  {
   "cell_type": "code",
   "execution_count": 5,
   "id": "15b975d9",
   "metadata": {},
   "outputs": [
    {
     "name": "stdout",
     "output_type": "stream",
     "text": [
      "2 3\n"
     ]
    }
   ],
   "source": [
    "test1(2,3)"
   ]
  },
  {
   "cell_type": "code",
   "execution_count": 6,
   "id": "2216ef6a",
   "metadata": {},
   "outputs": [
    {
     "name": "stdout",
     "output_type": "stream",
     "text": [
      "ayan khan\n"
     ]
    }
   ],
   "source": [
    "test1('ayan','khan')"
   ]
  },
  {
   "cell_type": "code",
   "execution_count": 7,
   "id": "0943688d",
   "metadata": {},
   "outputs": [
    {
     "name": "stdout",
     "output_type": "stream",
     "text": [
      "khan ayan\n"
     ]
    }
   ],
   "source": [
    "test1(b='ayan',a='khan')"
   ]
  },
  {
   "cell_type": "code",
   "execution_count": 8,
   "id": "a46cce30",
   "metadata": {},
   "outputs": [],
   "source": [
    "def test2(a):\n",
    "    print(a)"
   ]
  },
  {
   "cell_type": "code",
   "execution_count": 9,
   "id": "7c7ca18a",
   "metadata": {},
   "outputs": [
    {
     "name": "stdout",
     "output_type": "stream",
     "text": [
      "ayan\n"
     ]
    }
   ],
   "source": [
    "test2('ayan')"
   ]
  },
  {
   "cell_type": "code",
   "execution_count": 10,
   "id": "2deedc80",
   "metadata": {},
   "outputs": [
    {
     "name": "stdout",
     "output_type": "stream",
     "text": [
      "ayan\n"
     ]
    },
    {
     "ename": "TypeError",
     "evalue": "unsupported operand type(s) for +: 'NoneType' and 'str'",
     "output_type": "error",
     "traceback": [
      "\u001b[1;31m---------------------------------------------------------------------------\u001b[0m",
      "\u001b[1;31mTypeError\u001b[0m                                 Traceback (most recent call last)",
      "Cell \u001b[1;32mIn[10], line 1\u001b[0m\n\u001b[1;32m----> 1\u001b[0m test2(\u001b[38;5;124m'\u001b[39m\u001b[38;5;124mayan\u001b[39m\u001b[38;5;124m'\u001b[39m) \u001b[38;5;241m+\u001b[39m\u001b[38;5;124m'\u001b[39m\u001b[38;5;124mkhan\u001b[39m\u001b[38;5;124m'\u001b[39m\n",
      "\u001b[1;31mTypeError\u001b[0m: unsupported operand type(s) for +: 'NoneType' and 'str'"
     ]
    }
   ],
   "source": [
    "test2('ayan') +'khan' # we using print that the reseon we con not concatinate"
   ]
  },
  {
   "cell_type": "code",
   "execution_count": 13,
   "id": "1b5bc506",
   "metadata": {},
   "outputs": [
    {
     "name": "stdout",
     "output_type": "stream",
     "text": [
      "ayan\n"
     ]
    },
    {
     "data": {
      "text/plain": [
       "NoneType"
      ]
     },
     "execution_count": 13,
     "metadata": {},
     "output_type": "execute_result"
    }
   ],
   "source": [
    "type(test2('ayan')) # this is notype"
   ]
  },
  {
   "cell_type": "code",
   "execution_count": 14,
   "id": "d45184e9",
   "metadata": {},
   "outputs": [],
   "source": [
    "def test3(a):\n",
    "    return a"
   ]
  },
  {
   "cell_type": "code",
   "execution_count": 18,
   "id": "2a9715b4",
   "metadata": {},
   "outputs": [
    {
     "data": {
      "text/plain": [
       "'ayankhan'"
      ]
     },
     "execution_count": 18,
     "metadata": {},
     "output_type": "execute_result"
    }
   ],
   "source": [
    "test3('ayan') +'khan' # dont used print only used return"
   ]
  },
  {
   "cell_type": "code",
   "execution_count": 19,
   "id": "bad6bcaa",
   "metadata": {},
   "outputs": [
    {
     "data": {
      "text/plain": [
       "str"
      ]
     },
     "execution_count": 19,
     "metadata": {},
     "output_type": "execute_result"
    }
   ],
   "source": [
    "type(test3('ayan'))"
   ]
  },
  {
   "cell_type": "code",
   "execution_count": 20,
   "id": "232fecb2",
   "metadata": {},
   "outputs": [],
   "source": [
    "def test4(a,b,c):\n",
    "    return a,b,c"
   ]
  },
  {
   "cell_type": "code",
   "execution_count": 21,
   "id": "9b6ac5ad",
   "metadata": {},
   "outputs": [
    {
     "data": {
      "text/plain": [
       "('ayan', 'khan', 52625)"
      ]
     },
     "execution_count": 21,
     "metadata": {},
     "output_type": "execute_result"
    }
   ],
   "source": [
    "test4('ayan','khan',52625)"
   ]
  },
  {
   "cell_type": "code",
   "execution_count": 22,
   "id": "7ea93ad3",
   "metadata": {},
   "outputs": [],
   "source": [
    "x,y,z=test4('ayan','khan',52625)"
   ]
  },
  {
   "cell_type": "code",
   "execution_count": 23,
   "id": "a2f8c69b",
   "metadata": {},
   "outputs": [
    {
     "data": {
      "text/plain": [
       "'ayan'"
      ]
     },
     "execution_count": 23,
     "metadata": {},
     "output_type": "execute_result"
    }
   ],
   "source": [
    "x"
   ]
  },
  {
   "cell_type": "code",
   "execution_count": 24,
   "id": "464e6bd5",
   "metadata": {},
   "outputs": [
    {
     "data": {
      "text/plain": [
       "'khan'"
      ]
     },
     "execution_count": 24,
     "metadata": {},
     "output_type": "execute_result"
    }
   ],
   "source": [
    "y"
   ]
  },
  {
   "cell_type": "code",
   "execution_count": 25,
   "id": "2788c3fb",
   "metadata": {},
   "outputs": [
    {
     "data": {
      "text/plain": [
       "52625"
      ]
     },
     "execution_count": 25,
     "metadata": {},
     "output_type": "execute_result"
    }
   ],
   "source": [
    "z"
   ]
  },
  {
   "cell_type": "code",
   "execution_count": 27,
   "id": "ab3a7c3a",
   "metadata": {},
   "outputs": [],
   "source": [
    "def test5(a='ayan',b=452):\n",
    "    return a,b"
   ]
  },
  {
   "cell_type": "code",
   "execution_count": 28,
   "id": "f1b13a53",
   "metadata": {},
   "outputs": [
    {
     "data": {
      "text/plain": [
       "('arshan', 'khan')"
      ]
     },
     "execution_count": 28,
     "metadata": {},
     "output_type": "execute_result"
    }
   ],
   "source": [
    "test5('arshan','khan')"
   ]
  },
  {
   "cell_type": "code",
   "execution_count": 34,
   "id": "05017293",
   "metadata": {},
   "outputs": [],
   "source": [
    "def test6(l):\n",
    "    \"\"\"This is a funcation which take list as a input and give you all the element one by one\"\"\"\n",
    "    for i in l:         # always maintain docstring \n",
    "        print(i)"
   ]
  },
  {
   "cell_type": "code",
   "execution_count": 31,
   "id": "75fb9e5d",
   "metadata": {},
   "outputs": [
    {
     "name": "stdout",
     "output_type": "stream",
     "text": [
      "[34, 5, 453, 54, 5]\n",
      "[34, 5, 453, 54, 5]\n",
      "[34, 5, 453, 54, 5]\n",
      "[34, 5, 453, 54, 5]\n",
      "[34, 5, 453, 54, 5]\n"
     ]
    }
   ],
   "source": [
    "test6([34,5,453,54,5])"
   ]
  },
  {
   "cell_type": "code",
   "execution_count": 35,
   "id": "ad25995e",
   "metadata": {},
   "outputs": [],
   "source": [
    "def test7(*args):                 # (*) mean it can we obtain infinite number and args is not a key work\n",
    "    return args"
   ]
  },
  {
   "cell_type": "code",
   "execution_count": 37,
   "id": "14001213",
   "metadata": {},
   "outputs": [
    {
     "data": {
      "text/plain": [
       "(1, 2, 3, 4, 5, 6, 7, 8, 9, 0)"
      ]
     },
     "execution_count": 37,
     "metadata": {},
     "output_type": "execute_result"
    }
   ],
   "source": [
    "test7(1,2,3,4,5,6,7,8,9,0)"
   ]
  },
  {
   "cell_type": "code",
   "execution_count": 38,
   "id": "ad7bc665",
   "metadata": {},
   "outputs": [],
   "source": [
    "def teat8(*ayan):      \n",
    "    return ayan"
   ]
  },
  {
   "cell_type": "code",
   "execution_count": 39,
   "id": "f627def8",
   "metadata": {},
   "outputs": [
    {
     "data": {
      "text/plain": [
       "(1432, 14, 23, 4123, 4213, 412234, 1, 243)"
      ]
     },
     "execution_count": 39,
     "metadata": {},
     "output_type": "execute_result"
    }
   ],
   "source": [
    "teat8(1432,14,23,4123,4213,412234,1,243)"
   ]
  },
  {
   "cell_type": "code",
   "execution_count": 41,
   "id": "e24429d9",
   "metadata": {},
   "outputs": [],
   "source": [
    "def test9(*args,name='ayan'):\n",
    "    return args , name"
   ]
  },
  {
   "cell_type": "code",
   "execution_count": 43,
   "id": "9ab79b19",
   "metadata": {},
   "outputs": [
    {
     "data": {
      "text/plain": [
       "((1243, 421, 42, 134, 23423), 'arshsn')"
      ]
     },
     "execution_count": 43,
     "metadata": {},
     "output_type": "execute_result"
    }
   ],
   "source": [
    "test9(1243,421,42,134,23423,name='arshsn') # always give a name"
   ]
  },
  {
   "cell_type": "code",
   "execution_count": 46,
   "id": "ae8191ad",
   "metadata": {},
   "outputs": [],
   "source": [
    "def test12(**kwargs):      #(**)means always give key:value pair value\n",
    "    return kwargs"
   ]
  },
  {
   "cell_type": "code",
   "execution_count": 47,
   "id": "12921576",
   "metadata": {},
   "outputs": [
    {
     "ename": "TypeError",
     "evalue": "test12() takes 0 positional arguments but 5 were given",
     "output_type": "error",
     "traceback": [
      "\u001b[1;31m---------------------------------------------------------------------------\u001b[0m",
      "\u001b[1;31mTypeError\u001b[0m                                 Traceback (most recent call last)",
      "Cell \u001b[1;32mIn[47], line 1\u001b[0m\n\u001b[1;32m----> 1\u001b[0m test12(\u001b[38;5;241m123\u001b[39m,\u001b[38;5;241m3412\u001b[39m,\u001b[38;5;241m4\u001b[39m,\u001b[38;5;241m4124\u001b[39m,\u001b[38;5;241m1\u001b[39m)\n",
      "\u001b[1;31mTypeError\u001b[0m: test12() takes 0 positional arguments but 5 were given"
     ]
    }
   ],
   "source": [
    "test12(123,3412,4,4124,1)"
   ]
  },
  {
   "cell_type": "code",
   "execution_count": 49,
   "id": "31321bc0",
   "metadata": {},
   "outputs": [
    {
     "data": {
      "text/plain": [
       "{'name': 'ayan', 'mail_id': 'arshankahn3315@gmail.com'}"
      ]
     },
     "execution_count": 49,
     "metadata": {},
     "output_type": "execute_result"
    }
   ],
   "source": [
    "test12(name='ayan',mail_id='arshankahn3315@gmail.com') # we can give multiply argument"
   ]
  },
  {
   "cell_type": "markdown",
   "id": "b3ed032b",
   "metadata": {},
   "source": [
    "# Lambda function  "
   ]
  },
  {
   "cell_type": "code",
   "execution_count": 50,
   "id": "61076796",
   "metadata": {},
   "outputs": [],
   "source": [
    "# lambda funcation means anomouys funcation"
   ]
  },
  {
   "cell_type": "code",
   "execution_count": 51,
   "id": "60a8ebf5",
   "metadata": {},
   "outputs": [],
   "source": [
    "n=lambda a,b:a*b"
   ]
  },
  {
   "cell_type": "code",
   "execution_count": 52,
   "id": "8a4acad4",
   "metadata": {},
   "outputs": [
    {
     "data": {
      "text/plain": [
       "20"
      ]
     },
     "execution_count": 52,
     "metadata": {},
     "output_type": "execute_result"
    }
   ],
   "source": [
    "n(4,5)"
   ]
  },
  {
   "cell_type": "code",
   "execution_count": 56,
   "id": "6b7b3988",
   "metadata": {},
   "outputs": [],
   "source": [
    "s=lambda a:a**2 # square"
   ]
  },
  {
   "cell_type": "code",
   "execution_count": 54,
   "id": "2ae42376",
   "metadata": {},
   "outputs": [
    {
     "data": {
      "text/plain": [
       "16"
      ]
     },
     "execution_count": 54,
     "metadata": {},
     "output_type": "execute_result"
    }
   ],
   "source": [
    "s(4)"
   ]
  },
  {
   "cell_type": "code",
   "execution_count": 57,
   "id": "2f1e4842",
   "metadata": {},
   "outputs": [],
   "source": [
    "v=lambda **kwargs:kwargs"
   ]
  },
  {
   "cell_type": "code",
   "execution_count": 58,
   "id": "447893d6",
   "metadata": {},
   "outputs": [
    {
     "data": {
      "text/plain": [
       "{'a': 'ayan', 'b': '344', 'c': '545'}"
      ]
     },
     "execution_count": 58,
     "metadata": {},
     "output_type": "execute_result"
    }
   ],
   "source": [
    "v(a='ayan',b='344',c='545')"
   ]
  },
  {
   "cell_type": "code",
   "execution_count": 60,
   "id": "02203ac7",
   "metadata": {},
   "outputs": [],
   "source": [
    "def test14(l):\n",
    "    l1=[]\n",
    "    for i in l:\n",
    "        l1.append(i+2)\n",
    "    return l1"
   ]
  },
  {
   "cell_type": "code",
   "execution_count": 63,
   "id": "051a9673",
   "metadata": {},
   "outputs": [
    {
     "data": {
      "text/plain": [
       "[3, 4, 5, 6, 46, 558, 6]"
      ]
     },
     "execution_count": 63,
     "metadata": {},
     "output_type": "execute_result"
    }
   ],
   "source": [
    "test14([1,2,3,4,44,556,4])"
   ]
  },
  {
   "cell_type": "markdown",
   "id": "8f0d9e1b",
   "metadata": {},
   "source": [
    "# Generator Funcation"
   ]
  },
  {
   "cell_type": "code",
   "execution_count": 64,
   "id": "ac37db6b",
   "metadata": {},
   "outputs": [
    {
     "data": {
      "text/plain": [
       "range(0, 10)"
      ]
     },
     "execution_count": 64,
     "metadata": {},
     "output_type": "execute_result"
    }
   ],
   "source": [
    "range(10)"
   ]
  },
  {
   "cell_type": "code",
   "execution_count": 65,
   "id": "89d63073",
   "metadata": {},
   "outputs": [
    {
     "name": "stdout",
     "output_type": "stream",
     "text": [
      "0\n",
      "1\n",
      "2\n",
      "3\n",
      "4\n",
      "5\n",
      "6\n",
      "7\n",
      "8\n",
      "9\n"
     ]
    }
   ],
   "source": [
    "for i in range(10):\n",
    "    print(i)"
   ]
  },
  {
   "cell_type": "markdown",
   "id": "de9ae0f0",
   "metadata": {},
   "source": [
    "# Fibonacci number : each number is equal to the sum of the preceding two numbers"
   ]
  },
  {
   "cell_type": "code",
   "execution_count": 69,
   "id": "770ee5b2",
   "metadata": {},
   "outputs": [],
   "source": [
    "def test_fib(n):\n",
    "    a,b=0,1\n",
    "    for i in range(n):\n",
    "        yield a              #where we used yield suppose it is a generator funcation\n",
    "        a,b=b,a+b"
   ]
  },
  {
   "cell_type": "code",
   "execution_count": 67,
   "id": "2f26dcb2",
   "metadata": {},
   "outputs": [
    {
     "data": {
      "text/plain": [
       "<generator object test_fib at 0x0000024E738676A0>"
      ]
     },
     "execution_count": 67,
     "metadata": {},
     "output_type": "execute_result"
    }
   ],
   "source": [
    "test_fib(10)"
   ]
  },
  {
   "cell_type": "code",
   "execution_count": 68,
   "id": "f142422c",
   "metadata": {},
   "outputs": [
    {
     "name": "stdout",
     "output_type": "stream",
     "text": [
      "0\n",
      "1\n",
      "1\n",
      "2\n",
      "3\n",
      "5\n",
      "8\n",
      "13\n",
      "21\n",
      "34\n"
     ]
    }
   ],
   "source": [
    "for i in test_fib(10):\n",
    "    print(i)"
   ]
  },
  {
   "cell_type": "code",
   "execution_count": 70,
   "id": "131556f5",
   "metadata": {},
   "outputs": [],
   "source": [
    "def test_fib():\n",
    "    a,b=0,1\n",
    "    while True:\n",
    "        \n",
    "        yield a              #where we used yield suppose it is a generator funcation\n",
    "        a,b=b,a+b"
   ]
  },
  {
   "cell_type": "code",
   "execution_count": null,
   "id": "d2dbf153",
   "metadata": {},
   "outputs": [],
   "source": [
    "fib=test_fib()"
   ]
  },
  {
   "cell_type": "code",
   "execution_count": null,
   "id": "7b5daab4",
   "metadata": {},
   "outputs": [],
   "source": []
  },
  {
   "cell_type": "code",
   "execution_count": 71,
   "id": "bd3daf91",
   "metadata": {},
   "outputs": [],
   "source": [
    "a='ayan'"
   ]
  },
  {
   "cell_type": "code",
   "execution_count": 72,
   "id": "c7032d81",
   "metadata": {},
   "outputs": [
    {
     "name": "stdout",
     "output_type": "stream",
     "text": [
      "a\n",
      "y\n",
      "a\n",
      "n\n"
     ]
    }
   ],
   "source": [
    "for i in a:\n",
    "    print(i)"
   ]
  },
  {
   "cell_type": "code",
   "execution_count": 73,
   "id": "56f9db67",
   "metadata": {},
   "outputs": [
    {
     "ename": "TypeError",
     "evalue": "'str' object is not an iterator",
     "output_type": "error",
     "traceback": [
      "\u001b[1;31m---------------------------------------------------------------------------\u001b[0m",
      "\u001b[1;31mTypeError\u001b[0m                                 Traceback (most recent call last)",
      "Cell \u001b[1;32mIn[73], line 1\u001b[0m\n\u001b[1;32m----> 1\u001b[0m \u001b[38;5;28mnext\u001b[39m(a)\n",
      "\u001b[1;31mTypeError\u001b[0m: 'str' object is not an iterator"
     ]
    }
   ],
   "source": [
    "next(a)"
   ]
  },
  {
   "cell_type": "code",
   "execution_count": 76,
   "id": "c100428b",
   "metadata": {},
   "outputs": [],
   "source": [
    "s1=iter(a)"
   ]
  },
  {
   "cell_type": "code",
   "execution_count": 78,
   "id": "dd66041f",
   "metadata": {},
   "outputs": [
    {
     "data": {
      "text/plain": [
       "'a'"
      ]
     },
     "execution_count": 78,
     "metadata": {},
     "output_type": "execute_result"
    }
   ],
   "source": [
    "next(s1)"
   ]
  },
  {
   "cell_type": "code",
   "execution_count": 79,
   "id": "8cc135e9",
   "metadata": {},
   "outputs": [
    {
     "data": {
      "text/plain": [
       "'y'"
      ]
     },
     "execution_count": 79,
     "metadata": {},
     "output_type": "execute_result"
    }
   ],
   "source": [
    "next(s1)"
   ]
  },
  {
   "cell_type": "code",
   "execution_count": 80,
   "id": "6897b901",
   "metadata": {},
   "outputs": [],
   "source": [
    "b=45"
   ]
  },
  {
   "cell_type": "code",
   "execution_count": 82,
   "id": "69b07009",
   "metadata": {},
   "outputs": [
    {
     "ename": "TypeError",
     "evalue": "'int' object is not iterable",
     "output_type": "error",
     "traceback": [
      "\u001b[1;31m---------------------------------------------------------------------------\u001b[0m",
      "\u001b[1;31mTypeError\u001b[0m                                 Traceback (most recent call last)",
      "Cell \u001b[1;32mIn[82], line 1\u001b[0m\n\u001b[1;32m----> 1\u001b[0m \u001b[38;5;28miter\u001b[39m(\u001b[38;5;241m45\u001b[39m)\n",
      "\u001b[1;31mTypeError\u001b[0m: 'int' object is not iterable"
     ]
    }
   ],
   "source": [
    "iter(45) # int is a iterable and string is itrator"
   ]
  },
  {
   "cell_type": "code",
   "execution_count": 84,
   "id": "9ee9d9ef",
   "metadata": {},
   "outputs": [],
   "source": [
    "# iterator is when we can go next next kar ka"
   ]
  },
  {
   "cell_type": "code",
   "execution_count": 83,
   "id": "f0a0f6e4",
   "metadata": {},
   "outputs": [],
   "source": [
    "# iterable we cannot go next in this "
   ]
  },
  {
   "cell_type": "code",
   "execution_count": 85,
   "id": "ada1ccb9",
   "metadata": {},
   "outputs": [],
   "source": [
    "def count_test(n):\n",
    "    count=1\n",
    "    while count<n:\n",
    "        yield count\n",
    "        count =count+1"
   ]
  },
  {
   "cell_type": "code",
   "execution_count": 86,
   "id": "d39f9429",
   "metadata": {},
   "outputs": [],
   "source": [
    "c=count_test(5)"
   ]
  },
  {
   "cell_type": "code",
   "execution_count": 87,
   "id": "cd8c10af",
   "metadata": {},
   "outputs": [
    {
     "name": "stdout",
     "output_type": "stream",
     "text": [
      "1\n",
      "2\n",
      "3\n",
      "4\n"
     ]
    }
   ],
   "source": [
    "for i in c:\n",
    "    print(i)"
   ]
  },
  {
   "cell_type": "markdown",
   "id": "47ecd949",
   "metadata": {},
   "source": [
    "# Map Funcation"
   ]
  },
  {
   "cell_type": "code",
   "execution_count": 88,
   "id": "f48d7bc7",
   "metadata": {},
   "outputs": [],
   "source": [
    "l=[1,2,3,4,5,6]"
   ]
  },
  {
   "cell_type": "code",
   "execution_count": 89,
   "id": "15ce6d40",
   "metadata": {},
   "outputs": [],
   "source": [
    "def test(l):\n",
    "    l1=[]\n",
    "    for i in l:\n",
    "        l1.append(i**2)\n",
    "    return l1"
   ]
  },
  {
   "cell_type": "code",
   "execution_count": 90,
   "id": "2a86878d",
   "metadata": {},
   "outputs": [
    {
     "data": {
      "text/plain": [
       "[1, 4, 9, 16, 25, 36]"
      ]
     },
     "execution_count": 90,
     "metadata": {},
     "output_type": "execute_result"
    }
   ],
   "source": [
    "test(l)"
   ]
  },
  {
   "cell_type": "code",
   "execution_count": 91,
   "id": "4861ab7d",
   "metadata": {},
   "outputs": [],
   "source": [
    "def sq(x):\n",
    "    return x**2"
   ]
  },
  {
   "cell_type": "code",
   "execution_count": 94,
   "id": "f33d7dfd",
   "metadata": {},
   "outputs": [
    {
     "data": {
      "text/plain": [
       "[1, 4, 9, 16, 25, 36]"
      ]
     },
     "execution_count": 94,
     "metadata": {},
     "output_type": "execute_result"
    }
   ],
   "source": [
    "list(map(sq,l)) #map take two paramenter 1 is funcaion 2nd is iterable"
   ]
  },
  {
   "cell_type": "code",
   "execution_count": 95,
   "id": "c2ffa0fe",
   "metadata": {},
   "outputs": [
    {
     "data": {
      "text/plain": [
       "[1, 4, 9, 16, 25, 36]"
      ]
     },
     "execution_count": 95,
     "metadata": {},
     "output_type": "execute_result"
    }
   ],
   "source": [
    "list(map(lambda x:x**2,l))"
   ]
  },
  {
   "cell_type": "code",
   "execution_count": 96,
   "id": "9d5741b5",
   "metadata": {},
   "outputs": [
    {
     "data": {
      "text/plain": [
       "[7, 9, 11, 13, 15]"
      ]
     },
     "execution_count": 96,
     "metadata": {},
     "output_type": "execute_result"
    }
   ],
   "source": [
    "l1=[1,2,3,4,5]\n",
    "l2=[6,7,8,9,10]\n",
    "\n",
    "list(map(lambda x,y:x+y,l1,l2))"
   ]
  },
  {
   "cell_type": "code",
   "execution_count": 98,
   "id": "4ed9c160",
   "metadata": {},
   "outputs": [
    {
     "data": {
      "text/plain": [
       "['A', 'R', 'S', 'H', 'A', 'N', 'K', 'H', 'A', 'N']"
      ]
     },
     "execution_count": 98,
     "metadata": {},
     "output_type": "execute_result"
    }
   ],
   "source": [
    "a=\"arshankhan\"\n",
    "list(map(lambda s:s.upper(),a))"
   ]
  },
  {
   "cell_type": "markdown",
   "id": "e3809c2e",
   "metadata": {},
   "source": [
    "# Reduce Funcation"
   ]
  },
  {
   "cell_type": "code",
   "execution_count": 100,
   "id": "073780be",
   "metadata": {},
   "outputs": [],
   "source": [
    "from functools import reduce"
   ]
  },
  {
   "cell_type": "code",
   "execution_count": 101,
   "id": "ec197536",
   "metadata": {},
   "outputs": [],
   "source": [
    "l=[1,2,3,4,5]"
   ]
  },
  {
   "cell_type": "code",
   "execution_count": 103,
   "id": "fda0e95f",
   "metadata": {},
   "outputs": [
    {
     "data": {
      "text/plain": [
       "15"
      ]
     },
     "execution_count": 103,
     "metadata": {},
     "output_type": "execute_result"
    }
   ],
   "source": [
    "reduce(lambda x,y:x+y,l) #adding 2 number and again adding sum of two number and therird numbe"
   ]
  },
  {
   "cell_type": "code",
   "execution_count": 108,
   "id": "6fe274d3",
   "metadata": {},
   "outputs": [
    {
     "ename": "TypeError",
     "evalue": "<lambda>() missing 1 required positional argument: 'z'",
     "output_type": "error",
     "traceback": [
      "\u001b[1;31m---------------------------------------------------------------------------\u001b[0m",
      "\u001b[1;31mTypeError\u001b[0m                                 Traceback (most recent call last)",
      "Cell \u001b[1;32mIn[108], line 1\u001b[0m\n\u001b[1;32m----> 1\u001b[0m reduce(\u001b[38;5;28;01mlambda\u001b[39;00m x,y,z:x\u001b[38;5;241m+\u001b[39my\u001b[38;5;241m+\u001b[39mz,l)\n",
      "\u001b[1;31mTypeError\u001b[0m: <lambda>() missing 1 required positional argument: 'z'"
     ]
    }
   ],
   "source": [
    "reduce(lambda x,y,z:x+y+z,l) # you can not give third number in here"
   ]
  },
  {
   "cell_type": "markdown",
   "id": "c2071d63",
   "metadata": {},
   "source": [
    "# Filter funcation"
   ]
  },
  {
   "cell_type": "code",
   "execution_count": 109,
   "id": "2cf22496",
   "metadata": {},
   "outputs": [
    {
     "data": {
      "text/plain": [
       "[1, 2, 3, 4, 5]"
      ]
     },
     "execution_count": 109,
     "metadata": {},
     "output_type": "execute_result"
    }
   ],
   "source": [
    "l"
   ]
  },
  {
   "cell_type": "code",
   "execution_count": 110,
   "id": "578d843f",
   "metadata": {},
   "outputs": [
    {
     "data": {
      "text/plain": [
       "[2, 4]"
      ]
     },
     "execution_count": 110,
     "metadata": {},
     "output_type": "execute_result"
    }
   ],
   "source": [
    "list(filter(lambda x:x%2==0,l))"
   ]
  },
  {
   "cell_type": "code",
   "execution_count": 111,
   "id": "32689750",
   "metadata": {},
   "outputs": [
    {
     "data": {
      "text/plain": [
       "[1, 3, 5]"
      ]
     },
     "execution_count": 111,
     "metadata": {},
     "output_type": "execute_result"
    }
   ],
   "source": [
    "list(filter(lambda x:x%2!=0,l))"
   ]
  },
  {
   "cell_type": "markdown",
   "id": "8a7c584f",
   "metadata": {},
   "source": [
    "# Q and A"
   ]
  },
  {
   "cell_type": "markdown",
   "id": "948d436f",
   "metadata": {},
   "source": [
    "# Question-1-Create a python program to sort the given list of tuples based on integer value using a lambda function.\n",
    "\n",
    "# Answer-1-"
   ]
  },
  {
   "cell_type": "code",
   "execution_count": 1,
   "id": "da46fdf7",
   "metadata": {},
   "outputs": [],
   "source": [
    "cricket = [('Sachin Tendulkar', 343357), ('Ricky Ponting', 27483), ('Jack Kallis', 25534), ('Virat Kohli', 24936)]"
   ]
  },
  {
   "cell_type": "code",
   "execution_count": 2,
   "id": "df3a764f",
   "metadata": {},
   "outputs": [],
   "source": [
    "sorted_cricket = sorted(cricket, key=lambda x: x[0])"
   ]
  },
  {
   "cell_type": "code",
   "execution_count": 3,
   "id": "c2e3d911",
   "metadata": {},
   "outputs": [
    {
     "name": "stdout",
     "output_type": "stream",
     "text": [
      "[('Jack Kallis', 25534), ('Ricky Ponting', 27483), ('Sachin Tendulkar', 343357), ('Virat Kohli', 24936)]\n"
     ]
    }
   ],
   "source": [
    "print(sorted_cricket)"
   ]
  },
  {
   "cell_type": "markdown",
   "id": "1db8b633",
   "metadata": {},
   "source": [
    "# Question-2- Write a Python Program to find the squares of all the numbers in the given list of integers using lambda and map functions. [1, 2, 3, 4, 5, 6, 7, 8, 9, 10]\n",
    "\n",
    "# Answer-2-"
   ]
  },
  {
   "cell_type": "code",
   "execution_count": 4,
   "id": "55ea9537",
   "metadata": {},
   "outputs": [],
   "source": [
    "l= [1, 2, 3, 4, 5, 6, 7, 8, 9, 10]"
   ]
  },
  {
   "cell_type": "code",
   "execution_count": 5,
   "id": "0c9bdf1f",
   "metadata": {},
   "outputs": [],
   "source": [
    "squared_numbers = list(map(lambda x: x**2, l))"
   ]
  },
  {
   "cell_type": "code",
   "execution_count": 6,
   "id": "ead6a205",
   "metadata": {},
   "outputs": [
    {
     "name": "stdout",
     "output_type": "stream",
     "text": [
      "[1, 4, 9, 16, 25, 36, 49, 64, 81, 100]\n"
     ]
    }
   ],
   "source": [
    "print(squared_numbers)"
   ]
  },
  {
   "cell_type": "markdown",
   "id": "d84c5597",
   "metadata": {},
   "source": [
    "# Question-3- Write a python program to convert the given list of integers into a tuple of strings. Use map and lambda functions Given String: [1, 2, 3, 4, 5, 6, 7, 8, 9, 10] Expected output: ('1', '2', '3', '4', '5', '6', '7', '8', '9', '10')\n",
    "\n",
    "# Answer-3-"
   ]
  },
  {
   "cell_type": "code",
   "execution_count": 7,
   "id": "be4c4869",
   "metadata": {},
   "outputs": [],
   "source": [
    "s= [1, 2, 3, 4, 5, 6, 7, 8, 9, 10]\n",
    "t= tuple(map(lambda x: str(x), s))"
   ]
  },
  {
   "cell_type": "code",
   "execution_count": 8,
   "id": "c271b58c",
   "metadata": {},
   "outputs": [
    {
     "name": "stdout",
     "output_type": "stream",
     "text": [
      "('1', '2', '3', '4', '5', '6', '7', '8', '9', '10')\n"
     ]
    }
   ],
   "source": [
    "print(t)"
   ]
  },
  {
   "cell_type": "markdown",
   "id": "6d85c8fa",
   "metadata": {},
   "source": [
    "# Question-4-Write a python program using reduce function to compute the product of a list containing numbers from 1 to 25.\n",
    "\n",
    "# Answer-4-"
   ]
  },
  {
   "cell_type": "code",
   "execution_count": 9,
   "id": "b2f3aa50",
   "metadata": {},
   "outputs": [],
   "source": [
    "from functools import reduce"
   ]
  },
  {
   "cell_type": "code",
   "execution_count": 10,
   "id": "694c3d70",
   "metadata": {},
   "outputs": [],
   "source": [
    "n= list(range(1, 26))"
   ]
  },
  {
   "cell_type": "code",
   "execution_count": 11,
   "id": "a157eaa6",
   "metadata": {},
   "outputs": [],
   "source": [
    "product = reduce(lambda x, y: x * y, n)"
   ]
  },
  {
   "cell_type": "code",
   "execution_count": 12,
   "id": "76ddf3d2",
   "metadata": {},
   "outputs": [
    {
     "name": "stdout",
     "output_type": "stream",
     "text": [
      "15511210043330985984000000\n"
     ]
    }
   ],
   "source": [
    "print(product)"
   ]
  },
  {
   "cell_type": "markdown",
   "id": "ce6b8d4a",
   "metadata": {},
   "source": [
    "# Question-5- Write a python program to filter the numbers in a given list that are divisible by 2 and 3 using the filter function.\n",
    "\n",
    "# Answer-5-"
   ]
  },
  {
   "cell_type": "code",
   "execution_count": 13,
   "id": "0a33c2af",
   "metadata": {},
   "outputs": [],
   "source": [
    "numbers = [2, 3, 6, 9, 27, 60, 90, 120, 55, 46]"
   ]
  },
  {
   "cell_type": "code",
   "execution_count": 14,
   "id": "4233f409",
   "metadata": {},
   "outputs": [],
   "source": [
    "filtered_numbers = list(filter(lambda x: x % 2 == 0 and x % 3 == 0, numbers))"
   ]
  },
  {
   "cell_type": "code",
   "execution_count": 15,
   "id": "b398733c",
   "metadata": {},
   "outputs": [
    {
     "name": "stdout",
     "output_type": "stream",
     "text": [
      "[6, 60, 90, 120]\n"
     ]
    }
   ],
   "source": [
    "print(filtered_numbers)"
   ]
  },
  {
   "cell_type": "markdown",
   "id": "1017d5e2",
   "metadata": {},
   "source": [
    "# Question-6-Write a python program to find palindromes in the given list of strings using lambda and filter function. ['python', 'php', 'aba', 'radar', 'level']\n",
    "\n",
    "# Answer-6-"
   ]
  },
  {
   "cell_type": "code",
   "execution_count": 16,
   "id": "ef5387a7",
   "metadata": {},
   "outputs": [],
   "source": [
    "strings = ['python', 'php', 'aba', 'radar', 'level']"
   ]
  },
  {
   "cell_type": "code",
   "execution_count": 17,
   "id": "7cab63c8",
   "metadata": {},
   "outputs": [],
   "source": [
    "palindromes = list(filter(lambda x: x == x[::-1], strings))"
   ]
  },
  {
   "cell_type": "code",
   "execution_count": 18,
   "id": "dd1d0da8",
   "metadata": {},
   "outputs": [
    {
     "name": "stdout",
     "output_type": "stream",
     "text": [
      "['php', 'aba', 'radar', 'level']\n"
     ]
    }
   ],
   "source": [
    "print(palindromes)"
   ]
  },
  {
   "cell_type": "markdown",
   "id": "60c25ac8",
   "metadata": {},
   "source": [
    "# Question-1-Which keyword is used to create a function? Create a function to return a list of odd numbers in the range of 1 to 25.\n",
    "\n",
    "# Answer-1- The keyword used to create a function is typically \"def\" (short for \"define\")."
   ]
  },
  {
   "cell_type": "code",
   "execution_count": 19,
   "id": "cf833828",
   "metadata": {},
   "outputs": [],
   "source": [
    "def odd_numbers():\n",
    "    l = []\n",
    "    for i in range(1, 26):\n",
    "        if i % 2 != 0:\n",
    "            l.append(i)\n",
    "    return l"
   ]
  },
  {
   "cell_type": "code",
   "execution_count": 20,
   "id": "584de3e8",
   "metadata": {},
   "outputs": [],
   "source": [
    "result = odd_numbers()"
   ]
  },
  {
   "cell_type": "code",
   "execution_count": 21,
   "id": "394e853f",
   "metadata": {},
   "outputs": [
    {
     "name": "stdout",
     "output_type": "stream",
     "text": [
      "[1, 3, 5, 7, 9, 11, 13, 15, 17, 19, 21, 23, 25]\n"
     ]
    }
   ],
   "source": [
    "print(result)"
   ]
  },
  {
   "cell_type": "markdown",
   "id": "80526bf2",
   "metadata": {},
   "source": [
    "# Question-2-Why *args and **kwargs is used in some functions? Create a function each for *args and **kwargs to demonstrate their use.\n",
    "\n",
    "# Answer-2-*args and **kwargs are used to pass a variable number of arguments to a function. They allow you to create functions that can accept an arbitrary number of positional and keyword arguments, respectively.\n",
    "\n",
    "#*args allows you to pass a variable number of positional arguments to a function.\n",
    "#**kwargs allows you to pass a variable number of keyword arguments (arguments specified with names) to a function.\n",
    "# Function that uses *args to sum up a variable number of arguments"
   ]
  },
  {
   "cell_type": "code",
   "execution_count": 22,
   "id": "62268ef2",
   "metadata": {},
   "outputs": [],
   "source": [
    "def sum_args(*args):\n",
    "    total = sum(args)\n",
    "    return total"
   ]
  },
  {
   "cell_type": "code",
   "execution_count": 23,
   "id": "e76337da",
   "metadata": {},
   "outputs": [],
   "source": [
    "# Demonstrate *args\n",
    "result = sum_args(1, 2, 3, 4, 5)"
   ]
  },
  {
   "cell_type": "code",
   "execution_count": 24,
   "id": "5b7f787f",
   "metadata": {},
   "outputs": [
    {
     "name": "stdout",
     "output_type": "stream",
     "text": [
      "Sum: 15\n"
     ]
    }
   ],
   "source": [
    "print(\"Sum:\", result)"
   ]
  },
  {
   "cell_type": "code",
   "execution_count": 25,
   "id": "6f86c818",
   "metadata": {},
   "outputs": [],
   "source": [
    "# Function that uses **kwargs to display key-value pairs of arbitrary arguments\n",
    "def display_kwargs(**kwargs):\n",
    "    for key, value in kwargs.items():\n",
    "        print(f\"{key}: {value}\")"
   ]
  },
  {
   "cell_type": "code",
   "execution_count": 26,
   "id": "ec8d494c",
   "metadata": {},
   "outputs": [
    {
     "name": "stdout",
     "output_type": "stream",
     "text": [
      "name: Alice\n",
      "age: 30\n",
      "city: Wonderland\n"
     ]
    }
   ],
   "source": [
    "# Demonstrate **kwargs\n",
    "display_kwargs(name=\"Alice\", age=30, city=\"Wonderland\")"
   ]
  },
  {
   "cell_type": "markdown",
   "id": "d5ad87a7",
   "metadata": {},
   "source": [
    "# Question-3- What is an iterator in python? Name the method used to initialise the iterator object and the method used for iteration. Use these methods to print the first five elements of the given list [2, 4, 6, 8, 10, 12, 14, 16, 18, 20].\n",
    "\n",
    "# Answer-3-, an iterator is an object that allows you to traverse through a collection of items, one at a time, without needing to know the underlying details of how the collection is implemented\n",
    "\n",
    "# __iter__() method: This method is used to initialize the iterator object and return the iterator itself.\n",
    "#__next__() method: This method is used to retrieve the next element from the iterator.\n",
    "#It raises the StopIteration exception when there are no more elements to iterate over."
   ]
  },
  {
   "cell_type": "code",
   "execution_count": 27,
   "id": "794363c3",
   "metadata": {},
   "outputs": [],
   "source": [
    "# Given list\n",
    "my_list = [2, 4, 6, 8, 10, 12, 14, 16, 18, 20]"
   ]
  },
  {
   "cell_type": "code",
   "execution_count": 28,
   "id": "b9aed905",
   "metadata": {},
   "outputs": [
    {
     "ename": "NameError",
     "evalue": "name 'ListIterator' is not defined",
     "output_type": "error",
     "traceback": [
      "\u001b[1;31m---------------------------------------------------------------------------\u001b[0m",
      "\u001b[1;31mNameError\u001b[0m                                 Traceback (most recent call last)",
      "Cell \u001b[1;32mIn[28], line 2\u001b[0m\n\u001b[0;32m      1\u001b[0m \u001b[38;5;66;03m# Initialize the iterator\u001b[39;00m\n\u001b[1;32m----> 2\u001b[0m iterator \u001b[38;5;241m=\u001b[39m ListIterator(my_list)\n",
      "\u001b[1;31mNameError\u001b[0m: name 'ListIterator' is not defined"
     ]
    }
   ],
   "source": [
    "# Initialize the iterator\n",
    "iterator = ListIterator(my_list)\n",
    "# Iterate and print the first five elements\n",
    "for _ in range(5):\n",
    "    print(next(iterator))\n",
    "2\n",
    "4\n",
    "6\n",
    "8\n",
    "10\n"
   ]
  },
  {
   "cell_type": "markdown",
   "id": "2ce13691",
   "metadata": {},
   "source": [
    "# Question-4-What is a generator function in python? Why yield keyword is used? Give an example of a generator function.\n",
    "\n",
    "# Answer-4-A generator function in Python is a special type of function that generates values on-the-fly and returns them one at a time using the yield keyword\n",
    "\n",
    "# The yield keyword is used in a generator function to temporarily suspend the function's execution and yield a value to the caller. The function's state is preserved, allowing it to resume execution from where it left off the next time the generator's next() method is called."
   ]
  },
  {
   "cell_type": "code",
   "execution_count": 29,
   "id": "e8930298",
   "metadata": {},
   "outputs": [],
   "source": [
    "def even_numbers_generator(n):\n",
    "    num = 0\n",
    "    while num < n:\n",
    "        yield num\n",
    "        num += 2"
   ]
  },
  {
   "cell_type": "code",
   "execution_count": 31,
   "id": "c0f3b720",
   "metadata": {},
   "outputs": [
    {
     "name": "stdout",
     "output_type": "stream",
     "text": [
      "0\n",
      "2\n",
      "4\n",
      "6\n",
      "8\n"
     ]
    }
   ],
   "source": [
    "# Create a generator object\n",
    "even_generator = even_numbers_generator(10)\n",
    "# Iterate over the generator to get even numbers\n",
    "for even_num in even_generator:\n",
    "    print(even_num)"
   ]
  },
  {
   "cell_type": "markdown",
   "id": "84866e1c",
   "metadata": {},
   "source": [
    "# Question-5-Create a generator function for prime numbers less than 1000. Use the next() method to print the first 20 prime numbers.\n",
    "\n",
    "# Answer-5-"
   ]
  },
  {
   "cell_type": "code",
   "execution_count": 34,
   "id": "e4b0e2de",
   "metadata": {},
   "outputs": [
    {
     "name": "stdout",
     "output_type": "stream",
     "text": [
      "2\n",
      "3\n",
      "5\n",
      "7\n",
      "11\n",
      "13\n",
      "17\n",
      "19\n",
      "23\n",
      "29\n",
      "31\n",
      "37\n",
      "41\n",
      "43\n",
      "47\n",
      "53\n",
      "59\n",
      "61\n",
      "67\n",
      "71\n"
     ]
    }
   ],
   "source": [
    "def prime(n):\n",
    "    if n <= 1:\n",
    "        return False\n",
    "    if n <= 3:\n",
    "        return True\n",
    "    if n % 2 == 0 or n % 3 == 0:\n",
    "        return False\n",
    "    i = 5\n",
    "    while i * i <= n:\n",
    "        if n % i == 0 or n % (i + 2) == 0:\n",
    "            return False\n",
    "        i += 6\n",
    "    return True\n",
    "\n",
    "def prime_generator(limit):\n",
    "    n = 2\n",
    "    while n < limit:\n",
    "        if prime(n):\n",
    "            yield n\n",
    "        n += 1\n",
    "\n",
    "prime_gen = prime_generator(1000)\n",
    "#the first 20 prime numbers\n",
    "for _ in range(20):\n",
    "    print(next(prime_gen))"
   ]
  },
  {
   "cell_type": "markdown",
   "id": "72bcbb2b",
   "metadata": {},
   "source": [
    "# Question-6-Write a python program to print the first 10 Fibonacci numbers using a while loop.\n",
    "\n",
    "# Answer-6-"
   ]
  },
  {
   "cell_type": "code",
   "execution_count": 35,
   "id": "3de2a973",
   "metadata": {},
   "outputs": [
    {
     "name": "stdout",
     "output_type": "stream",
     "text": [
      "0\n",
      "1\n",
      "1\n",
      "2\n",
      "3\n",
      "5\n",
      "8\n",
      "13\n",
      "21\n",
      "34\n"
     ]
    }
   ],
   "source": [
    "def test_fib():\n",
    "    a,b=0,1\n",
    "    while True:\n",
    "        yield a\n",
    "        a,b=b, a+b\n",
    "fib=test_fib()\n",
    "for i in range(10):\n",
    "    print(next(fib))"
   ]
  },
  {
   "cell_type": "markdown",
   "id": "0fe3f03a",
   "metadata": {},
   "source": [
    "# Question-7-Write a List Comprehension to iterate through the given string: ‘pwskills’. Expected output: ['p', 'w', 's', 'k', 'i', 'l', 'l', 's']\n",
    "\n",
    "# Answer-7-"
   ]
  },
  {
   "cell_type": "code",
   "execution_count": 36,
   "id": "42e232e3",
   "metadata": {},
   "outputs": [],
   "source": [
    "s = 'pwskills'\n",
    "l = [char for char in s if char.isalpha()]"
   ]
  },
  {
   "cell_type": "code",
   "execution_count": 37,
   "id": "ca1c5c72",
   "metadata": {},
   "outputs": [
    {
     "name": "stdout",
     "output_type": "stream",
     "text": [
      "['p', 'w', 's', 'k', 'i', 'l', 'l', 's']\n"
     ]
    }
   ],
   "source": [
    "print(l)"
   ]
  },
  {
   "cell_type": "markdown",
   "id": "ee5c5995",
   "metadata": {},
   "source": [
    "# Ques-8-Write a python program to check whether a given number is Palindrome or not using a while loop.\n",
    "\n",
    "# Answer-8-"
   ]
  },
  {
   "cell_type": "code",
   "execution_count": 3,
   "id": "62eeb2a1",
   "metadata": {},
   "outputs": [
    {
     "name": "stdout",
     "output_type": "stream",
     "text": [
      "Enter a n: 100\n",
      "100 is not a palindrome.\n"
     ]
    }
   ],
   "source": [
    "def palindrome(n):\n",
    "    original_n = n\n",
    "    reversed_n = 0\n",
    "\n",
    "    while n > 0:\n",
    "        digit = n % 10\n",
    "        reversed_n = reversed_n * 10 + digit\n",
    "        n //= 10\n",
    "\n",
    "    return original_n == reversed_n\n",
    "\n",
    "# Input from the user\n",
    "num = int(input(\"Enter a n: \"))\n",
    "\n",
    "if palindrome(num):\n",
    "    print(f\"{num} is a palindrome.\")\n",
    "else:\n",
    "    print(f\"{num} is not a palindrome.\")"
   ]
  },
  {
   "cell_type": "markdown",
   "id": "ca55b3ad",
   "metadata": {},
   "source": [
    "# Question-9-Write a code to print odd numbers from 1 to 100 using list comprehension. Note: Use a list comprehension to create a list from 1 to 100 and use another List comprehension to filter out odd numbers.\n",
    "\n",
    "# Answer-9-"
   ]
  },
  {
   "cell_type": "code",
   "execution_count": 39,
   "id": "77fd04b6",
   "metadata": {},
   "outputs": [],
   "source": [
    "numbers = [num for num in range(1, 101)]"
   ]
  },
  {
   "cell_type": "code",
   "execution_count": 40,
   "id": "40ff7278",
   "metadata": {},
   "outputs": [
    {
     "name": "stdout",
     "output_type": "stream",
     "text": [
      "[1, 3, 5, 7, 9, 11, 13, 15, 17, 19, 21, 23, 25, 27, 29, 31, 33, 35, 37, 39, 41, 43, 45, 47, 49, 51, 53, 55, 57, 59, 61, 63, 65, 67, 69, 71, 73, 75, 77, 79, 81, 83, 85, 87, 89, 91, 93, 95, 97, 99]\n"
     ]
    }
   ],
   "source": [
    "# Using another list comprehension to filter out odd numbers\n",
    "odd_numbers = [num for num in numbers if num % 2 != 0]\n",
    "print(odd_numbers)"
   ]
  },
  {
   "cell_type": "markdown",
   "id": "d7f1ef1a",
   "metadata": {},
   "source": [
    "# 1.What is the purpose of a function in Python?\n",
    "\n",
    "\n",
    "# To break up a program into smaller, reusable pieces of code\n",
    "\n",
    "\n",
    "To store data in memory\n",
    "\n",
    "\n",
    "To perform a specific task or set of tasks\n",
    "\n",
    "\n",
    "To control the flow of a program\n",
    "\n",
    "# Explanation: Functions allow you to break up a program into smaller, more manageable pieces of code. Functions can be defined once and then called multiple times from different parts of a program, reducing the need for duplicate code and making it easier to maintain and modify your code.\n",
    "\n",
    "# 2.What is the syntax for defining a function in Python?\n",
    "\n",
    "\n",
    "define function_name(arguments):\n",
    "\n",
    "\n",
    "function function_name(arguments):\n",
    "\n",
    "\n",
    "# def function_name(arguments)\n",
    "\n",
    "\n",
    "create function_name(arguments):\n",
    "\n",
    "# Explanation: The syntax for defining a function in Python is def function_name(arguments):. The def keyword is used to declare a function, followed by the function name and any arguments in parentheses. The code in the function is indented and is executed when the function is called.\n",
    "\n",
    "# 3.What are parameter passing in Python?\n",
    "\n",
    "\n",
    "# The process of sending data to a function as input\n",
    "\n",
    "\n",
    "The process of storing data in memory\n",
    "\n",
    "\n",
    "The process of returning data from a function\n",
    "\n",
    "\n",
    "The process of manipulating data in a function\n",
    "\n",
    "# Explanation: Parameter passing refers to the process of sending data to a function as input. The function can then perform some operation on the data and return a result. The data can be passed as positional arguments, keyword arguments, or a combination of both.\n",
    "\n",
    "# 4.What is the purpose of iterators in Python?\n",
    "\n",
    "\n",
    "To repeat a block of code a specified number of times\n",
    "\n",
    "\n",
    "To allow for efficient access to elements in a sequence one at a time\n",
    "\n",
    "\n",
    "To store data in memory\n",
    "\n",
    "\n",
    "To manipulate data in a function\n",
    "\n",
    "# Explanation: Iterators in Python allow for efficient access to elements in a sequence one at a time. This allows for the creation of efficient and memory-saving loops that can process large amounts of data. Examples of sequences in Python include lists, tuples, and dictionaries.\n",
    "\n",
    "# 5.What is a generator function in Python?\n",
    "\n",
    "\n",
    "A function that generates a sequence of values\n",
    "\n",
    "\n",
    " A function that creates an iterator\n",
    "\n",
    "\n",
    "A function that performs a specific task or set of tasks\n",
    "\n",
    "\n",
    "# A function that breaks up a program into smaller, reusable pieces of code\n",
    "\n",
    "# Explanation: A generator function in Python is a special type of function that generates a sequence of values. When called, it returns an iterator that can be used to iterate over the values in the sequence. Generator functions use the yield statement to return values one at a time, allowing for efficient and memory-saving processing of large amounts of data.\n",
    "\n",
    "# 6.What is the difference between a normal function and a generator function in Python?\n",
    "\n",
    "\n",
    " Normal functions return a single value, while generator functions return an iterator\n",
    "\n",
    "\n",
    "# Normal functions use the return statement, while generator functions use the yield statement\n",
    "\n",
    "\n",
    "Normal functions can only be used once, while generator functions can be used multiple times\n",
    "\n",
    "\n",
    " Normal functions can only return numbers, while generator functions can return any type of data"
   ]
  },
  {
   "cell_type": "markdown",
   "id": "1cf8af63",
   "metadata": {},
   "source": [
    "# 1.What does the lambda function in Python do?\n",
    "\n",
    "\n",
    "creates an infinite loop\n",
    "\n",
    "\n",
    "creates a named function\n",
    "\n",
    "\n",
    "# creates an anonymous function\n",
    "\n",
    "\n",
    "None of the above\n",
    "\n",
    "# Explanation: A lambda function is an anonymous function in Python, meaning that it is a small, one-line function that doesn't have a name. They are used to create small, throw-away functions that are used for a limited time.\n",
    "\n",
    "# 2.What does the map function in Python do?\n",
    "\n",
    "\n",
    "- returns the first element in a list\n",
    "\n",
    "\n",
    "# applies a function to each element in a list and returns a list of the results\n",
    "\n",
    "\n",
    "- returns the last element in a list\n",
    "\n",
    "\n",
    "- None of the above\n",
    "\n",
    "# Explanation: The map function in Python takes a function and an iterable as arguments and returns a new iterable with the function applied to each element. The result is a list of the results, which can be used for further processing.\n",
    "\n",
    "# 3.What does the reduce function in Python do?\n",
    "\n",
    "\n",
    "- applies a function to each element in a list and returns a list of the results\n",
    "\n",
    "\n",
    "# applies a function cumulatively to elements of an iterable, from left to right\n",
    "\n",
    "\n",
    "- returns the first element in a list\n",
    "\n",
    "\n",
    "- None of the above\n",
    "\n",
    "# Explanation: The reduce function in Python takes a function and an iterable as arguments and applies the function cumulatively to the elements of the iterable. The result is a single value, which is the final result of the reduction.\n",
    "\n",
    "# 4.What does the filter function in Python do?\n",
    "\n",
    "\n",
    "# returns a filtered list of elements that satisfy a condition\n",
    "\n",
    "\n",
    "- returns the first element in a list\n",
    "\n",
    "\n",
    "- returns the last element in a list\n",
    "\n",
    "\n",
    "- None of the above\n",
    "\n",
    "# Explanation: The filter function in Python takes a function and an iterable as arguments and returns a new iterable with only the elements that satisfy the condition specified by the function. The result is a filtered list of elements that satisfy the condition.\n",
    "\n",
    "# 5.What is the output of the following code?\n",
    "\n",
    "numbers = [1, 2, 3, 4, 5]\n",
    "\n",
    "squared_numbers = map(lambda x: x**2, numbers)\n",
    "\n",
    "print(list(squared_numbers))\n",
    "\n",
    "\n",
    "[0, 1, 4, 9, 16]\n",
    "\n",
    "\n",
    " [2, 4, 6, 8, 10]\n",
    "\n",
    "\n",
    "# [1, 4, 9, 16, 25]\n",
    "\n",
    "\n",
    "None of the above\n",
    "\n",
    "# Explanation: In this code, the map function is applied to each element in the list \"numbers\" using the lambda function, which squares each element. The result is a list of squared numbers, which is [1, 4, 9, 16, 25].\n",
    "\n",
    "# 6.What is the output of the following code?\n",
    "\n",
    "from functools import reduce\n",
    "\n",
    "numbers = [1, 2, 3, 4, 5]\n",
    "\n",
    "product = reduce(lambda x, y: x*y, numbers)\n",
    "\n",
    "print(product)\n",
    "\n",
    "\n",
    "# 120\n",
    "\n",
    "\n",
    " 30\n",
    "\n",
    "\n",
    "15\n",
    "\n",
    "\n",
    " None of the above\n",
    "\n",
    "# Explanation: In this code, the reduce function is applied to the list \"numbers\" using the lambda function, which multiplies two elements. The result is the product of all elements in the list, which is 120."
   ]
  },
  {
   "cell_type": "markdown",
   "id": "f607fe15",
   "metadata": {},
   "source": [
    "# Doc - string"
   ]
  },
  {
   "cell_type": "code",
   "execution_count": 5,
   "id": "62cdd598",
   "metadata": {},
   "outputs": [
    {
     "data": {
      "text/plain": [
       "' this is a doc-string'"
      ]
     },
     "execution_count": 5,
     "metadata": {},
     "output_type": "execute_result"
    }
   ],
   "source": [
    "\"\"\" this is a doc-string\"\"\" # triple cote"
   ]
  },
  {
   "cell_type": "markdown",
   "id": "728cba01",
   "metadata": {},
   "source": [
    "# oops"
   ]
  },
  {
   "cell_type": "code",
   "execution_count": 6,
   "id": "a1bb52f9",
   "metadata": {},
   "outputs": [],
   "source": [
    "a=10"
   ]
  },
  {
   "cell_type": "code",
   "execution_count": 7,
   "id": "a05fb1ee",
   "metadata": {},
   "outputs": [
    {
     "data": {
      "text/plain": [
       "int"
      ]
     },
     "execution_count": 7,
     "metadata": {},
     "output_type": "execute_result"
    }
   ],
   "source": [
    "type(a)"
   ]
  },
  {
   "cell_type": "markdown",
   "id": "59aa76f6",
   "metadata": {},
   "source": [
    "# object oriantal programing Systum\n",
    "- increase reuse code\n",
    "- multiple people can write a code\n",
    "- easy to mantain"
   ]
  },
  {
   "cell_type": "code",
   "execution_count": 8,
   "id": "955f1cd6",
   "metadata": {},
   "outputs": [],
   "source": [
    "# object is a instence/varible of a class"
   ]
  },
  {
   "cell_type": "code",
   "execution_count": 9,
   "id": "65d27168",
   "metadata": {},
   "outputs": [],
   "source": [
    "class test:\n",
    "    pass"
   ]
  },
  {
   "cell_type": "code",
   "execution_count": 26,
   "id": "587e64b5",
   "metadata": {},
   "outputs": [],
   "source": [
    "class pwskills:\n",
    "    class_var='ayan'\n",
    "    def welcome_msg(self):           #self is not a keyword you also can replace it,self is said is part of class\n",
    "        print(\"welcome to pwskills\")"
   ]
  },
  {
   "cell_type": "code",
   "execution_count": 27,
   "id": "37f57999",
   "metadata": {},
   "outputs": [],
   "source": [
    "p=pwskills()"
   ]
  },
  {
   "cell_type": "code",
   "execution_count": 28,
   "id": "28732b04",
   "metadata": {},
   "outputs": [
    {
     "name": "stdout",
     "output_type": "stream",
     "text": [
      "welcome to pwskills\n"
     ]
    }
   ],
   "source": [
    "p.welcome_msg()"
   ]
  },
  {
   "cell_type": "code",
   "execution_count": 29,
   "id": "b4f182c5",
   "metadata": {},
   "outputs": [
    {
     "data": {
      "text/plain": [
       "'ayan'"
      ]
     },
     "execution_count": 29,
     "metadata": {},
     "output_type": "execute_result"
    }
   ],
   "source": [
    "p.class_var"
   ]
  },
  {
   "cell_type": "code",
   "execution_count": 39,
   "id": "2eafd810",
   "metadata": {},
   "outputs": [],
   "source": [
    "class pwskills1:\n",
    "    \n",
    "    def __init__(self,course,durantion,mentor):   # init is a constructer\n",
    "        self.course=course\n",
    "        self.durantion=durantion\n",
    "        self.mentor=mentor\n",
    "        \n",
    "    def show_mentor(self):\n",
    "        print(\"print mentor\",self.mentor)"
   ]
  },
  {
   "cell_type": "code",
   "execution_count": 40,
   "id": "4f848f4f",
   "metadata": {},
   "outputs": [],
   "source": [
    "dsm=pwskills1('datascience',2,'arshan')"
   ]
  },
  {
   "cell_type": "code",
   "execution_count": 41,
   "id": "81a08347",
   "metadata": {},
   "outputs": [
    {
     "data": {
      "text/plain": [
       "'datascience'"
      ]
     },
     "execution_count": 41,
     "metadata": {},
     "output_type": "execute_result"
    }
   ],
   "source": [
    "dsm.course"
   ]
  },
  {
   "cell_type": "code",
   "execution_count": 42,
   "id": "54f8d040",
   "metadata": {},
   "outputs": [
    {
     "data": {
      "text/plain": [
       "2"
      ]
     },
     "execution_count": 42,
     "metadata": {},
     "output_type": "execute_result"
    }
   ],
   "source": [
    "dsm.durantion"
   ]
  },
  {
   "cell_type": "code",
   "execution_count": 38,
   "id": "ffb01eef",
   "metadata": {},
   "outputs": [
    {
     "data": {
      "text/plain": [
       "'arshan'"
      ]
     },
     "execution_count": 38,
     "metadata": {},
     "output_type": "execute_result"
    }
   ],
   "source": [
    "dsm.mentor"
   ]
  },
  {
   "cell_type": "code",
   "execution_count": 44,
   "id": "608e7d9c",
   "metadata": {},
   "outputs": [
    {
     "name": "stdout",
     "output_type": "stream",
     "text": [
      "print mentor arshan\n"
     ]
    }
   ],
   "source": [
    "dsm.show_mentor()"
   ]
  },
  {
   "cell_type": "markdown",
   "id": "6ae5d255",
   "metadata": {},
   "source": [
    "# inhertance"
   ]
  },
  {
   "cell_type": "code",
   "execution_count": 45,
   "id": "a8e6dbe2",
   "metadata": {},
   "outputs": [],
   "source": [
    "class pwskills:\n",
    "    def pwskills(self):\n",
    "        print('this is mu pwskills class metnod')"
   ]
  },
  {
   "cell_type": "code",
   "execution_count": 46,
   "id": "ca27ca55",
   "metadata": {},
   "outputs": [],
   "source": [
    "class student(pwskills):\n",
    "    pass"
   ]
  },
  {
   "cell_type": "code",
   "execution_count": 47,
   "id": "6b7f0e24",
   "metadata": {},
   "outputs": [],
   "source": [
    "s=student()"
   ]
  },
  {
   "cell_type": "code",
   "execution_count": 49,
   "id": "5d88f5a7",
   "metadata": {},
   "outputs": [
    {
     "name": "stdout",
     "output_type": "stream",
     "text": [
      "this is mu pwskills class metnod\n"
     ]
    }
   ],
   "source": [
    "s.pwskills()"
   ]
  },
  {
   "cell_type": "code",
   "execution_count": 50,
   "id": "da00fc34",
   "metadata": {},
   "outputs": [],
   "source": [
    "class mentor:\n",
    "    def __init__(self,mentor_name,mentor_email_id,mentor_contact):\n",
    "        self.mentor_name=mentor_name\n",
    "        self.mentor_email_id=mentor_email_id\n",
    "        self.mentor_contact=mentor_contact\n",
    "        \n",
    "    def print_mentor_details(self):\n",
    "        print(self.mentor_name,self.mentor_email_id,self.mentor_contact)"
   ]
  },
  {
   "cell_type": "code",
   "execution_count": 51,
   "id": "71e8f857",
   "metadata": {},
   "outputs": [],
   "source": [
    "class dsm(mentor):\n",
    "    def print_dsm(self):\n",
    "        print(\"This is my dsm class\")"
   ]
  },
  {
   "cell_type": "code",
   "execution_count": 53,
   "id": "863fe2c4",
   "metadata": {},
   "outputs": [],
   "source": [
    "d=dsm('ayan','arshankahn3315@gmail.com',1355454)"
   ]
  },
  {
   "cell_type": "code",
   "execution_count": 54,
   "id": "8d7e1e0e",
   "metadata": {},
   "outputs": [
    {
     "data": {
      "text/plain": [
       "1355454"
      ]
     },
     "execution_count": 54,
     "metadata": {},
     "output_type": "execute_result"
    }
   ],
   "source": [
    "d.mentor_contact"
   ]
  },
  {
   "cell_type": "code",
   "execution_count": 55,
   "id": "df1aa36e",
   "metadata": {},
   "outputs": [
    {
     "data": {
      "text/plain": [
       "'arshankahn3315@gmail.com'"
      ]
     },
     "execution_count": 55,
     "metadata": {},
     "output_type": "execute_result"
    }
   ],
   "source": [
    "d.mentor_email_id"
   ]
  },
  {
   "cell_type": "code",
   "execution_count": 56,
   "id": "5f991301",
   "metadata": {},
   "outputs": [
    {
     "data": {
      "text/plain": [
       "'ayan'"
      ]
     },
     "execution_count": 56,
     "metadata": {},
     "output_type": "execute_result"
    }
   ],
   "source": [
    "d.mentor_name"
   ]
  },
  {
   "cell_type": "code",
   "execution_count": 58,
   "id": "e9d2957e",
   "metadata": {},
   "outputs": [
    {
     "name": "stdout",
     "output_type": "stream",
     "text": [
      "This is my dsm class\n"
     ]
    }
   ],
   "source": [
    "d.print_dsm()"
   ]
  },
  {
   "cell_type": "code",
   "execution_count": 59,
   "id": "124631d4",
   "metadata": {},
   "outputs": [
    {
     "name": "stdout",
     "output_type": "stream",
     "text": [
      "ayan arshankahn3315@gmail.com 1355454\n"
     ]
    }
   ],
   "source": [
    "d.print_mentor_details()"
   ]
  },
  {
   "cell_type": "code",
   "execution_count": 60,
   "id": "55e72272",
   "metadata": {},
   "outputs": [],
   "source": [
    "class xyz:\n",
    "    def test(self):\n",
    "        print('this is a part of xyz class')\n",
    "        \n",
    "class child(xyz):\n",
    "    def test(self):\n",
    "        print('This is a part of child class')"
   ]
  },
  {
   "cell_type": "code",
   "execution_count": 61,
   "id": "f380b0c3",
   "metadata": {},
   "outputs": [],
   "source": [
    "obj_child=child() "
   ]
  },
  {
   "cell_type": "code",
   "execution_count": 63,
   "id": "90d20ccc",
   "metadata": {},
   "outputs": [
    {
     "name": "stdout",
     "output_type": "stream",
     "text": [
      "This is a part of child class\n"
     ]
    }
   ],
   "source": [
    "obj_child.test() # jiska method aap na banaya hai ausi ko call kara ga jab funcation same ho to"
   ]
  },
  {
   "cell_type": "code",
   "execution_count": 64,
   "id": "0600f7b9",
   "metadata": {},
   "outputs": [],
   "source": [
    "# method overriding\n",
    "class xyz:\n",
    "    def test(self):\n",
    "        print('this is a part of xyz class')\n",
    "        \n",
    "class child(xyz):\n",
    "    def test(self):\n",
    "        super().test()\n",
    "        print('This is a part of child class')"
   ]
  },
  {
   "cell_type": "code",
   "execution_count": 65,
   "id": "efcca440",
   "metadata": {},
   "outputs": [],
   "source": [
    "obj=child()"
   ]
  },
  {
   "cell_type": "code",
   "execution_count": 66,
   "id": "8b8d3b05",
   "metadata": {},
   "outputs": [
    {
     "name": "stdout",
     "output_type": "stream",
     "text": [
      "this is a part of xyz class\n",
      "This is a part of child class\n"
     ]
    }
   ],
   "source": [
    "obj.test()"
   ]
  },
  {
   "cell_type": "code",
   "execution_count": 67,
   "id": "73eec9f2",
   "metadata": {},
   "outputs": [],
   "source": [
    "class c1:\n",
    "    def meth_c1(self):\n",
    "        print('thsi si a c1')\n",
    "        \n",
    "class c2(c1):\n",
    "    def math_c2(self):\n",
    "        print('this is a part of c2')\n",
    "class c3(c1):\n",
    "    def math_c3(self):\n",
    "        print('thsi is a part of c3')"
   ]
  },
  {
   "cell_type": "code",
   "execution_count": 68,
   "id": "c4a1ebef",
   "metadata": {},
   "outputs": [],
   "source": [
    "obj_c2=c2()\n",
    "obj_c3=c3()"
   ]
  },
  {
   "cell_type": "code",
   "execution_count": 72,
   "id": "11dc1702",
   "metadata": {},
   "outputs": [
    {
     "name": "stdout",
     "output_type": "stream",
     "text": [
      "this is a part of c2\n"
     ]
    }
   ],
   "source": [
    "obj_c2.math_c2()"
   ]
  },
  {
   "cell_type": "code",
   "execution_count": 74,
   "id": "3da1529c",
   "metadata": {},
   "outputs": [
    {
     "name": "stdout",
     "output_type": "stream",
     "text": [
      "thsi si a c1\n"
     ]
    }
   ],
   "source": [
    "obj_c2.meth_c1()"
   ]
  },
  {
   "cell_type": "code",
   "execution_count": 75,
   "id": "6e179b7a",
   "metadata": {},
   "outputs": [
    {
     "name": "stdout",
     "output_type": "stream",
     "text": [
      "thsi is a part of c3\n"
     ]
    }
   ],
   "source": [
    "obj_c3.math_c3()"
   ]
  },
  {
   "cell_type": "code",
   "execution_count": 76,
   "id": "6225347b",
   "metadata": {},
   "outputs": [
    {
     "name": "stdout",
     "output_type": "stream",
     "text": [
      "thsi si a c1\n"
     ]
    }
   ],
   "source": [
    "obj_c3.meth_c1()"
   ]
  },
  {
   "cell_type": "code",
   "execution_count": 82,
   "id": "a44c6675",
   "metadata": {},
   "outputs": [],
   "source": [
    "class c1:\n",
    "    def math_c1(self):\n",
    "        print(\"THis is a part of c1\")\n",
    "class c2:\n",
    "    def math_c2(self):\n",
    "        print(\"this is a part of c2\")\n",
    "class c3(c1,c2):\n",
    "    pass"
   ]
  },
  {
   "cell_type": "code",
   "execution_count": 83,
   "id": "9a78d8a5",
   "metadata": {},
   "outputs": [],
   "source": [
    "o=c3()"
   ]
  },
  {
   "cell_type": "code",
   "execution_count": 84,
   "id": "05804c85",
   "metadata": {},
   "outputs": [
    {
     "name": "stdout",
     "output_type": "stream",
     "text": [
      "THis is a part of c1\n"
     ]
    }
   ],
   "source": [
    "o.math_c1()"
   ]
  },
  {
   "cell_type": "code",
   "execution_count": 85,
   "id": "cf829b6d",
   "metadata": {},
   "outputs": [
    {
     "name": "stdout",
     "output_type": "stream",
     "text": [
      "this is a part of c2\n"
     ]
    }
   ],
   "source": [
    "o.math_c2()"
   ]
  },
  {
   "cell_type": "code",
   "execution_count": 86,
   "id": "6369563d",
   "metadata": {},
   "outputs": [],
   "source": [
    "class c1:\n",
    "    def math(self):\n",
    "        print(\"THis is a part of c1\")\n",
    "class c2:\n",
    "    def math(self):\n",
    "        print(\"this is a part of c2\")\n",
    "class c3(c1,c2):\n",
    "    pass"
   ]
  },
  {
   "cell_type": "code",
   "execution_count": 87,
   "id": "f8b13b3b",
   "metadata": {},
   "outputs": [],
   "source": [
    "obj=c3()"
   ]
  },
  {
   "cell_type": "code",
   "execution_count": 91,
   "id": "7e5de7ef",
   "metadata": {},
   "outputs": [
    {
     "name": "stdout",
     "output_type": "stream",
     "text": [
      "THis is a part of c1\n"
     ]
    }
   ],
   "source": [
    "obj.math() # phala c2 likha hi is liya,if we change orde then firt one is presesnt come"
   ]
  },
  {
   "cell_type": "markdown",
   "id": "453dd4e1",
   "metadata": {},
   "source": [
    "# Question-1- Create a vehicle class with an init method having instance variables as name_of_vehicle, max_speed and average_of_vehicle.\n",
    "\n",
    "# Answer-1- this is the vehical class i made\n",
    "\n"
   ]
  },
  {
   "cell_type": "code",
   "execution_count": 1,
   "id": "f8391a70",
   "metadata": {},
   "outputs": [],
   "source": [
    "class Vehicle:\n",
    "    def __init__(self, name_of_vehicle, max_speed, average_speed):\n",
    "        self.name_of_vehicle = name_of_vehicle\n",
    "        self.max_speed = max_speed\n",
    "        self.average_speed = average_speed"
   ]
  },
  {
   "cell_type": "code",
   "execution_count": 2,
   "id": "c5150ce2",
   "metadata": {},
   "outputs": [],
   "source": [
    "car = Vehicle(\"Car\", 160, 80)\n",
    "bike = Vehicle(\"Bike\", 120, 40)"
   ]
  },
  {
   "cell_type": "code",
   "execution_count": 3,
   "id": "9e603fbe",
   "metadata": {},
   "outputs": [
    {
     "name": "stdout",
     "output_type": "stream",
     "text": [
      "Car has a max speed of 160 km/h.\n",
      "Bike has an average speed of 40 km/h.\n"
     ]
    }
   ],
   "source": [
    "print(f\"{car.name_of_vehicle} has a max speed of {car.max_speed} km/h.\")\n",
    "print(f\"{bike.name_of_vehicle} has an average speed of {bike.average_speed} km/h.\")"
   ]
  },
  {
   "cell_type": "markdown",
   "id": "4e462365",
   "metadata": {},
   "source": [
    "# Question-2- Create a child class car from the vehicle class created in Que 1, which will inherit the vehicle class. Create a method named seating_capacity which takes capacity as an argument and returns the name of the vehicle and its seating capacity.\n",
    "\n",
    "# Answer-2- This question is link with first Question"
   ]
  },
  {
   "cell_type": "code",
   "execution_count": 4,
   "id": "0f5d797e",
   "metadata": {},
   "outputs": [],
   "source": [
    "class Vehicle:\n",
    "    def __init__(self, name_of_vehicle, max_speed, average_speed):\n",
    "        self.name_of_vehicle = name_of_vehicle\n",
    "        self.max_speed = max_speed\n",
    "        self.average_speed = average_speed\n",
    "\n",
    "class Child_class(Vehicle):\n",
    "    def seating_capacity(self, capacity):\n",
    "        return f\"{self.name_of_vehicle} has a seating capacity of {capacity} people.\""
   ]
  },
  {
   "cell_type": "code",
   "execution_count": 5,
   "id": "555e7ea6",
   "metadata": {},
   "outputs": [
    {
     "name": "stdout",
     "output_type": "stream",
     "text": [
      "Sedan has a max speed of 160 km/h.\n"
     ]
    }
   ],
   "source": [
    "child_class = Child_class(\"Sedan\", 180, 60)\n",
    "print(f\"{child_class.name_of_vehicle} has a max speed of {car.max_speed} km/h.\")"
   ]
  },
  {
   "cell_type": "code",
   "execution_count": 6,
   "id": "3cad2453",
   "metadata": {},
   "outputs": [
    {
     "name": "stdout",
     "output_type": "stream",
     "text": [
      "Sedan has a seating capacity of 5 people.\n"
     ]
    }
   ],
   "source": [
    "capacity = 5\n",
    "print(child_class.seating_capacity(capacity))"
   ]
  },
  {
   "cell_type": "markdown",
   "id": "83790ad5",
   "metadata": {},
   "source": [
    "# Question-3- What is multiple inheritance? Write a python code to demonstrate multiple inheritance.\n",
    "\n",
    "# Answer-3-Multiple inheritance is a feature in object-oriented programming languages that allows a class to inherit attributes and methods from more than one parent class"
   ]
  },
  {
   "cell_type": "code",
   "execution_count": 7,
   "id": "e82082e2",
   "metadata": {},
   "outputs": [],
   "source": [
    "class Vehicle:\n",
    "    def __init__(self, name, max_speed):\n",
    "        self.name = name\n",
    "        self.max_speed = max_speed\n",
    "\n",
    "    def display_info(self):\n",
    "        print(f\"This is a {self.name} with a max speed of {self.max_speed}.\")\n",
    "\n",
    "class Electric:\n",
    "    def __init__(self, battery_capacity):\n",
    "        self.battery_capacity = battery_capacity\n",
    "\n",
    "    def display_battery(self):\n",
    "        print(f\"This vehicle has a battery capacity of {self.battery_capacity} kWh.\")\n",
    "\n",
    "class HybridCar(Vehicle, Electric):\n",
    "    def __init__(self, name, max_speed, battery_capacity, fuel_type):\n",
    "        Vehicle.__init__(self, name, max_speed)\n",
    "        Electric.__init__(self, battery_capacity)\n",
    "        self.fuel_type = fuel_type\n",
    "\n",
    "    def display_info(self):\n",
    "        super().display_info()\n",
    "        print(f\"It is a hybrid car with {self.fuel_type} fuel.\")"
   ]
  },
  {
   "cell_type": "code",
   "execution_count": 8,
   "id": "4d50ce84",
   "metadata": {},
   "outputs": [
    {
     "name": "stdout",
     "output_type": "stream",
     "text": [
      "This is a Hybrid Sedan with a max speed of 160.\n",
      "It is a hybrid car with Petrol/Electric fuel.\n"
     ]
    }
   ],
   "source": [
    "hybrid_car = HybridCar(\"Hybrid Sedan\", 160, 30, \"Petrol/Electric\")\n",
    "hybrid_car.display_info()"
   ]
  },
  {
   "cell_type": "code",
   "execution_count": 9,
   "id": "a01f08c1",
   "metadata": {},
   "outputs": [
    {
     "name": "stdout",
     "output_type": "stream",
     "text": [
      "This vehicle has a battery capacity of 30 kWh.\n"
     ]
    }
   ],
   "source": [
    "hybrid_car.display_battery()"
   ]
  },
  {
   "cell_type": "markdown",
   "id": "f0ba9ef1",
   "metadata": {},
   "source": [
    "# Question-4- What are getter and setter in python? Create a class and create a getter and a setter method in this class.\n",
    "\n",
    "# Answer-4- In Python, getters and setters are methods that are used to access and modify the attributes (instance variables) of a class. They provide a controlled way to read and write the values of private attributes. Getters are used to retrieve the values of attributes, while setters are used to set or modify the values of attributes. This can be useful for encapsulation and maintaining data integrity within a class."
   ]
  },
  {
   "cell_type": "code",
   "execution_count": 10,
   "id": "6a888a63",
   "metadata": {},
   "outputs": [],
   "source": [
    "class Student:\n",
    "    def __init__(self, name, age):\n",
    "        self._name = name  \n",
    "        self._age = age    \n",
    "\n",
    "    def get_name(self):\n",
    "        return self._name\n",
    "\n",
    "    def set_name(self, new_name):\n",
    "        self._name = new_name\n",
    "\n",
    "    def get_age(self):\n",
    "        return self._age\n",
    "\n",
    "    def set_age(self, new_age):\n",
    "        if new_age >= 0:\n",
    "            self._age = new_age\n",
    "        else:\n",
    "            print(\"Age cannot be negative.\")"
   ]
  },
  {
   "cell_type": "code",
   "execution_count": 11,
   "id": "cdf4825e",
   "metadata": {},
   "outputs": [
    {
     "name": "stdout",
     "output_type": "stream",
     "text": [
      "Student name: Arshan khan\n",
      "Student age: 20\n"
     ]
    }
   ],
   "source": [
    "student = Student(\"Arshan khan\", 20)\n",
    "print(\"Student name:\", student.get_name())\n",
    "print(\"Student age:\", student.get_age())"
   ]
  },
  {
   "cell_type": "code",
   "execution_count": 12,
   "id": "ad8ebfa5",
   "metadata": {},
   "outputs": [],
   "source": [
    "student.set_name(\"Arshan\")\n",
    "student.set_age(22)"
   ]
  },
  {
   "cell_type": "code",
   "execution_count": 13,
   "id": "8497d0e5",
   "metadata": {},
   "outputs": [
    {
     "name": "stdout",
     "output_type": "stream",
     "text": [
      "Modified student name: Arshan\n",
      "Modified student age: 22\n"
     ]
    }
   ],
   "source": [
    "print(\"Modified student name:\", student.get_name())\n",
    "print(\"Modified student age:\", student.get_age())"
   ]
  },
  {
   "cell_type": "markdown",
   "id": "42f794bd",
   "metadata": {},
   "source": [
    "# Question-5- What is method overriding in python? Write a python code to demonstrate method overriding.\n",
    "\n",
    "# Answer-5-Method overriding in Python refers to the ability of a subclass to provide a specific implementation for a method that is already defined in its superclass. This allows the subclass to modify or extend the behavior of the inherited method while keeping the same method signature (name and parameters)"
   ]
  },
  {
   "cell_type": "code",
   "execution_count": 15,
   "id": "821d8dfd",
   "metadata": {},
   "outputs": [],
   "source": [
    "class Animal:\n",
    "    def speak(self):\n",
    "        return \"Animal speaks something\"\n",
    "\n",
    "class Dog(Animal):\n",
    "    def speak(self):\n",
    "        return \"Woof woof!\"\n",
    "\n",
    "class Cat(Animal):\n",
    "    def speak(self):\n",
    "        return \"Meow meow!\""
   ]
  },
  {
   "cell_type": "code",
   "execution_count": 16,
   "id": "cb13a599",
   "metadata": {},
   "outputs": [],
   "source": [
    "dog = Dog()\n",
    "cat = Cat()"
   ]
  },
  {
   "cell_type": "code",
   "execution_count": 17,
   "id": "e239ad87",
   "metadata": {},
   "outputs": [
    {
     "name": "stdout",
     "output_type": "stream",
     "text": [
      "Woof woof!\n"
     ]
    }
   ],
   "source": [
    "print(dog.speak()) "
   ]
  },
  {
   "cell_type": "code",
   "execution_count": 18,
   "id": "38987e9b",
   "metadata": {},
   "outputs": [
    {
     "name": "stdout",
     "output_type": "stream",
     "text": [
      "Meow meow!\n"
     ]
    }
   ],
   "source": [
    "print(cat.speak())"
   ]
  },
  {
   "cell_type": "markdown",
   "id": "cc943abe",
   "metadata": {},
   "source": [
    "# Polymorphism"
   ]
  },
  {
   "cell_type": "code",
   "execution_count": 92,
   "id": "9844094a",
   "metadata": {},
   "outputs": [],
   "source": [
    "# same person with multiple persanlity"
   ]
  },
  {
   "cell_type": "code",
   "execution_count": 93,
   "id": "bd711f66",
   "metadata": {},
   "outputs": [],
   "source": [
    "def test(a,c):\n",
    "    return a+c"
   ]
  },
  {
   "cell_type": "code",
   "execution_count": 94,
   "id": "0f7f5ef1",
   "metadata": {},
   "outputs": [
    {
     "data": {
      "text/plain": [
       "5"
      ]
     },
     "execution_count": 94,
     "metadata": {},
     "output_type": "execute_result"
    }
   ],
   "source": [
    "test(1,4)"
   ]
  },
  {
   "cell_type": "code",
   "execution_count": 96,
   "id": "9a5fdba5",
   "metadata": {},
   "outputs": [
    {
     "data": {
      "text/plain": [
       "'ayankhan'"
      ]
     },
     "execution_count": 96,
     "metadata": {},
     "output_type": "execute_result"
    }
   ],
   "source": [
    "test('ayan','khan') # concaination"
   ]
  },
  {
   "cell_type": "code",
   "execution_count": 103,
   "id": "2ce73d2d",
   "metadata": {},
   "outputs": [],
   "source": [
    "class dsm:\n",
    "    def test(self):\n",
    "        print('this is dsm')\n",
    "class web_dev():\n",
    "    def test(self):\n",
    "        print('this is my test')\n",
    "def test_meth(x):\n",
    "    x.test()"
   ]
  },
  {
   "cell_type": "code",
   "execution_count": 104,
   "id": "695ceb67",
   "metadata": {},
   "outputs": [],
   "source": [
    "obj_dsm=dsm()\n",
    "obj_web_dev=web_dev()"
   ]
  },
  {
   "cell_type": "code",
   "execution_count": 105,
   "id": "3e3b0ac8",
   "metadata": {},
   "outputs": [
    {
     "name": "stdout",
     "output_type": "stream",
     "text": [
      "this is dsm\n"
     ]
    }
   ],
   "source": [
    "test_meth(obj_dsm)"
   ]
  },
  {
   "cell_type": "code",
   "execution_count": 106,
   "id": "82573ecc",
   "metadata": {},
   "outputs": [
    {
     "name": "stdout",
     "output_type": "stream",
     "text": [
      "this is my test\n"
     ]
    }
   ],
   "source": [
    "test_meth(obj_web_dev)"
   ]
  },
  {
   "cell_type": "markdown",
   "id": "0fe5d98b",
   "metadata": {},
   "source": [
    "# Public,private method"
   ]
  },
  {
   "cell_type": "code",
   "execution_count": 107,
   "id": "899adde6",
   "metadata": {},
   "outputs": [],
   "source": [
    "# privae means you can not acees out of the class\n",
    "# public mesans you can asses in the class or also access child class"
   ]
  },
  {
   "cell_type": "code",
   "execution_count": 114,
   "id": "1f4cac48",
   "metadata": {},
   "outputs": [],
   "source": [
    "class mentor:\n",
    "    class_var=10\n",
    "    def __init__(self,mentor_name,mentor_email_id,mentor_contact):\n",
    "        self._mentor_name=mentor_name         # singal (-) protactive\n",
    "        self.__mentor_email_id=mentor_email_id   # privated(__)\n",
    "        self.mentor_contact=mentor_contact\n",
    "        \n",
    "    def print_mentor_details(self):\n",
    "        print(self.mentor_name,self.mentor_email_id,self.mentor_contact)"
   ]
  },
  {
   "cell_type": "code",
   "execution_count": 115,
   "id": "8898bebb",
   "metadata": {},
   "outputs": [],
   "source": [
    "obj_mentor=mentor('ayan','arshankhan@gmail.com',3245412)"
   ]
  },
  {
   "cell_type": "code",
   "execution_count": 116,
   "id": "df29945e",
   "metadata": {},
   "outputs": [
    {
     "ename": "AttributeError",
     "evalue": "'mentor' object has no attribute 'mentor_name'",
     "output_type": "error",
     "traceback": [
      "\u001b[1;31m---------------------------------------------------------------------------\u001b[0m",
      "\u001b[1;31mAttributeError\u001b[0m                            Traceback (most recent call last)",
      "Cell \u001b[1;32mIn[116], line 1\u001b[0m\n\u001b[1;32m----> 1\u001b[0m obj_mentor\u001b[38;5;241m.\u001b[39mmentor_name\n",
      "\u001b[1;31mAttributeError\u001b[0m: 'mentor' object has no attribute 'mentor_name'"
     ]
    }
   ],
   "source": [
    "obj_mentor.mentor_name"
   ]
  },
  {
   "cell_type": "code",
   "execution_count": 117,
   "id": "6c6b3eb6",
   "metadata": {},
   "outputs": [
    {
     "data": {
      "text/plain": [
       "'ayan'"
      ]
     },
     "execution_count": 117,
     "metadata": {},
     "output_type": "execute_result"
    }
   ],
   "source": [
    "obj_mentor._mentor_name"
   ]
  },
  {
   "cell_type": "code",
   "execution_count": 118,
   "id": "aa06ffae",
   "metadata": {},
   "outputs": [
    {
     "ename": "AttributeError",
     "evalue": "'mentor' object has no attribute '__mentor_email_id'",
     "output_type": "error",
     "traceback": [
      "\u001b[1;31m---------------------------------------------------------------------------\u001b[0m",
      "\u001b[1;31mAttributeError\u001b[0m                            Traceback (most recent call last)",
      "Cell \u001b[1;32mIn[118], line 1\u001b[0m\n\u001b[1;32m----> 1\u001b[0m obj_mentor\u001b[38;5;241m.\u001b[39m__mentor_email_id\n",
      "\u001b[1;31mAttributeError\u001b[0m: 'mentor' object has no attribute '__mentor_email_id'"
     ]
    }
   ],
   "source": [
    "obj_mentor.__mentor_email_id"
   ]
  },
  {
   "cell_type": "code",
   "execution_count": 119,
   "id": "0bbdbc6e",
   "metadata": {},
   "outputs": [
    {
     "data": {
      "text/plain": [
       "'arshankhan@gmail.com'"
      ]
     },
     "execution_count": 119,
     "metadata": {},
     "output_type": "execute_result"
    }
   ],
   "source": [
    "obj_mentor._mentor__mentor_email_id"
   ]
  },
  {
   "cell_type": "markdown",
   "id": "9ed7a533",
   "metadata": {},
   "source": [
    "# Abstraction"
   ]
  },
  {
   "cell_type": "code",
   "execution_count": 120,
   "id": "4a4e1b06",
   "metadata": {},
   "outputs": [],
   "source": [
    "from abc import ABC , abstractmethod,abstractproperty"
   ]
  },
  {
   "cell_type": "code",
   "execution_count": 122,
   "id": "db33f91e",
   "metadata": {},
   "outputs": [],
   "source": [
    "# abstraction make skeletion"
   ]
  },
  {
   "cell_type": "code",
   "execution_count": 128,
   "id": "2e2a7468",
   "metadata": {},
   "outputs": [],
   "source": [
    "class pwskills(ABC):\n",
    "    @abstractproperty\n",
    "    def dsm_class(self):\n",
    "        pass\n",
    "    @abstractproperty\n",
    "    def mentor_name(self):\n",
    "        pass\n",
    "    @abstractproperty\n",
    "    def class_timing(self):\n",
    "        pass\n",
    "    @abstractproperty\n",
    "    def class_material(self):\n",
    "        pass"
   ]
  },
  {
   "cell_type": "code",
   "execution_count": 129,
   "id": "37fd4001",
   "metadata": {},
   "outputs": [],
   "source": [
    "class pwskills_mentor(pwskills):\n",
    "    @property\n",
    "    def dsm_class(self):\n",
    "        print('This is a fun of dsm class')\n",
    "        \n",
    "    @property\n",
    "    def mentor_name(self):\n",
    "        print('this is my mentor name')\n",
    "        \n",
    "    @property\n",
    "    def class_timing(self):\n",
    "        pass\n",
    "    @property\n",
    "    def class_material(self):\n",
    "        pass"
   ]
  },
  {
   "cell_type": "code",
   "execution_count": 130,
   "id": "6f06eb9c",
   "metadata": {},
   "outputs": [],
   "source": [
    "obj_pwskills_mentor=pwskills_mentor()"
   ]
  },
  {
   "cell_type": "code",
   "execution_count": 132,
   "id": "1636c7ca",
   "metadata": {},
   "outputs": [
    {
     "name": "stdout",
     "output_type": "stream",
     "text": [
      "This is a fun of dsm class\n"
     ]
    }
   ],
   "source": [
    "obj_pwskills_mentor.dsm_class"
   ]
  },
  {
   "cell_type": "markdown",
   "id": "f0b67462",
   "metadata": {},
   "source": [
    "# Encapsulation"
   ]
  },
  {
   "cell_type": "code",
   "execution_count": 133,
   "id": "1b7fab47",
   "metadata": {},
   "outputs": [],
   "source": [
    "class test:\n",
    "    def __init__(self,a,b):\n",
    "        self.a=a\n",
    "        self.b=b"
   ]
  },
  {
   "cell_type": "code",
   "execution_count": 134,
   "id": "9f0e93b8",
   "metadata": {},
   "outputs": [],
   "source": [
    "t=test(34,34)"
   ]
  },
  {
   "cell_type": "code",
   "execution_count": 135,
   "id": "0c6937b9",
   "metadata": {},
   "outputs": [
    {
     "data": {
      "text/plain": [
       "34"
      ]
     },
     "execution_count": 135,
     "metadata": {},
     "output_type": "execute_result"
    }
   ],
   "source": [
    "t.a"
   ]
  },
  {
   "cell_type": "code",
   "execution_count": 137,
   "id": "df4b5837",
   "metadata": {},
   "outputs": [],
   "source": [
    "t.b=546"
   ]
  },
  {
   "cell_type": "code",
   "execution_count": 138,
   "id": "dbb79b22",
   "metadata": {},
   "outputs": [
    {
     "data": {
      "text/plain": [
       "546"
      ]
     },
     "execution_count": 138,
     "metadata": {},
     "output_type": "execute_result"
    }
   ],
   "source": [
    "t.b"
   ]
  },
  {
   "cell_type": "code",
   "execution_count": 139,
   "id": "e07c90f8",
   "metadata": {},
   "outputs": [],
   "source": [
    "# stop changeing data bu using encapulation turn private"
   ]
  },
  {
   "cell_type": "code",
   "execution_count": 146,
   "id": "185c31d1",
   "metadata": {},
   "outputs": [],
   "source": [
    "class car:\n",
    "    def __init__(self,year,make,model,speed):\n",
    "        self.__year=year\n",
    "        self.__make=make\n",
    "        self.__model=model\n",
    "        self.speed=0\n",
    "        \n",
    "    def set_speed(self,speed):\n",
    "        self.__speed=0 if speed<0 else speed\n",
    "        \n",
    "    def get_speed(self):\n",
    "        return self.__speed"
   ]
  },
  {
   "cell_type": "code",
   "execution_count": 147,
   "id": "048deae9",
   "metadata": {},
   "outputs": [],
   "source": [
    "c=car(202,'adf','innova',34)"
   ]
  },
  {
   "cell_type": "code",
   "execution_count": 150,
   "id": "0956bbd1",
   "metadata": {},
   "outputs": [
    {
     "data": {
      "text/plain": [
       "0"
      ]
     },
     "execution_count": 150,
     "metadata": {},
     "output_type": "execute_result"
    }
   ],
   "source": [
    "c.speed"
   ]
  },
  {
   "cell_type": "code",
   "execution_count": 151,
   "id": "2d5a0917",
   "metadata": {},
   "outputs": [
    {
     "ename": "AttributeError",
     "evalue": "'car' object has no attribute 'year'",
     "output_type": "error",
     "traceback": [
      "\u001b[1;31m---------------------------------------------------------------------------\u001b[0m",
      "\u001b[1;31mAttributeError\u001b[0m                            Traceback (most recent call last)",
      "Cell \u001b[1;32mIn[151], line 1\u001b[0m\n\u001b[1;32m----> 1\u001b[0m c\u001b[38;5;241m.\u001b[39myear()\n",
      "\u001b[1;31mAttributeError\u001b[0m: 'car' object has no attribute 'year'"
     ]
    }
   ],
   "source": [
    "c.year()"
   ]
  },
  {
   "cell_type": "code",
   "execution_count": 154,
   "id": "756875fb",
   "metadata": {},
   "outputs": [],
   "source": [
    "c.set_speed(344)"
   ]
  },
  {
   "cell_type": "code",
   "execution_count": 156,
   "id": "acaa5a9b",
   "metadata": {},
   "outputs": [
    {
     "data": {
      "text/plain": [
       "344"
      ]
     },
     "execution_count": 156,
     "metadata": {},
     "output_type": "execute_result"
    }
   ],
   "source": [
    "c.get_speed()"
   ]
  },
  {
   "cell_type": "code",
   "execution_count": 157,
   "id": "0bc552ec",
   "metadata": {},
   "outputs": [],
   "source": [
    "class bank_account:\n",
    "    def __init__(self,balance):\n",
    "        self.__balance=balance\n",
    "        \n",
    "    def deopsit(self,amount):\n",
    "        self.__balance=self.__balance+amount\n",
    "    def withdraw(self,amount):\n",
    "        if self.__balance>=amount:\n",
    "            self.__balance=self.__balance-amount\n",
    "            return True\n",
    "        else:\n",
    "            return False\n",
    "        \n",
    "    def get_balance(self):\n",
    "        return self.__balance"
   ]
  },
  {
   "cell_type": "code",
   "execution_count": 159,
   "id": "a4a0d389",
   "metadata": {},
   "outputs": [],
   "source": [
    "ayan=bank_account(1000)"
   ]
  },
  {
   "cell_type": "code",
   "execution_count": 160,
   "id": "accb25c9",
   "metadata": {},
   "outputs": [
    {
     "data": {
      "text/plain": [
       "1000"
      ]
     },
     "execution_count": 160,
     "metadata": {},
     "output_type": "execute_result"
    }
   ],
   "source": [
    "ayan.get_balance()"
   ]
  },
  {
   "cell_type": "code",
   "execution_count": 161,
   "id": "c81f5b12",
   "metadata": {},
   "outputs": [],
   "source": [
    "ayan.deopsit(500)"
   ]
  },
  {
   "cell_type": "code",
   "execution_count": 162,
   "id": "18737538",
   "metadata": {},
   "outputs": [
    {
     "data": {
      "text/plain": [
       "1500"
      ]
     },
     "execution_count": 162,
     "metadata": {},
     "output_type": "execute_result"
    }
   ],
   "source": [
    "ayan.get_balance()"
   ]
  },
  {
   "cell_type": "code",
   "execution_count": 163,
   "id": "2d1fa226",
   "metadata": {},
   "outputs": [
    {
     "data": {
      "text/plain": [
       "True"
      ]
     },
     "execution_count": 163,
     "metadata": {},
     "output_type": "execute_result"
    }
   ],
   "source": [
    "ayan.withdraw(500)"
   ]
  },
  {
   "cell_type": "code",
   "execution_count": 164,
   "id": "ad069675",
   "metadata": {},
   "outputs": [
    {
     "data": {
      "text/plain": [
       "1000"
      ]
     },
     "execution_count": 164,
     "metadata": {},
     "output_type": "execute_result"
    }
   ],
   "source": [
    "ayan.get_balance()"
   ]
  },
  {
   "cell_type": "markdown",
   "id": "844a83a5",
   "metadata": {},
   "source": [
    "# Question-1-Explain Class and Object with respect to Object-Oriented Programming. Give a suitable example.\n",
    "\n",
    "# Answer-1-In Object-Oriented Programming (OOP), classes and objects are fundamental concepts that facilitate the organization and structure of code by promoting modularity, reusability, and encapsulation. They help model real-world entities and their interactions within a program.\n",
    "\n",
    "# Class: A class is a blueprint or a template for creating objects. It defines the attributes (data members) and behaviors (methods) that the objects created from the class will have. Think of a class as a general category that defines the properties and actions that a particular type of object can have\n",
    "\n",
    "# Object: An object is an instance of a class. It is a concrete, tangible entity that possesses the attributes and behaviors defined in its class"
   ]
  },
  {
   "cell_type": "code",
   "execution_count": 19,
   "id": "88eb1f4e",
   "metadata": {},
   "outputs": [],
   "source": [
    "class Car:\n",
    "    def __init__(self, make, model, year):\n",
    "        self.make = make\n",
    "        self.model = model\n",
    "        self.year = year\n",
    "        self.is_engine_on = False\n",
    "        self.speed = 0\n",
    "\n",
    "    def start_engine(self):\n",
    "        self.is_engine_on = True\n",
    "        print(\"Engine started\")\n",
    "\n",
    "    def accelerate(self, speed):\n",
    "        if self.is_engine_on:\n",
    "            self.speed += speed\n",
    "            print(f\"Accelerating to {self.speed} km/h\")\n",
    "        else:\n",
    "            print(\"Engine is off. Cannot accelerate.\")\n",
    "\n",
    "    def brake(self):\n",
    "        if self.speed > 0:\n",
    "            self.speed = 0\n",
    "            print(\"Car stopped\")\n",
    "        else:\n",
    "            print(\"Car is already stationary\")"
   ]
  },
  {
   "cell_type": "code",
   "execution_count": 20,
   "id": "8805415a",
   "metadata": {},
   "outputs": [],
   "source": [
    "car1 = Car(\"Toyota\", \"fortuner\", 2023)\n",
    "car2 = Car(\"Tesla\", \"Model S\", 2023)"
   ]
  },
  {
   "cell_type": "code",
   "execution_count": 21,
   "id": "d0db946d",
   "metadata": {},
   "outputs": [
    {
     "name": "stdout",
     "output_type": "stream",
     "text": [
      "Engine started\n"
     ]
    }
   ],
   "source": [
    "car1.start_engine()"
   ]
  },
  {
   "cell_type": "code",
   "execution_count": 22,
   "id": "580699e4",
   "metadata": {},
   "outputs": [
    {
     "name": "stdout",
     "output_type": "stream",
     "text": [
      "Accelerating to 50 km/h\n"
     ]
    }
   ],
   "source": [
    "car1.accelerate(50)"
   ]
  },
  {
   "cell_type": "code",
   "execution_count": 23,
   "id": "0a95cf7a",
   "metadata": {},
   "outputs": [
    {
     "name": "stdout",
     "output_type": "stream",
     "text": [
      "Car stopped\n"
     ]
    }
   ],
   "source": [
    "car1.brake()"
   ]
  },
  {
   "cell_type": "code",
   "execution_count": 24,
   "id": "ffedbf6a",
   "metadata": {},
   "outputs": [
    {
     "name": "stdout",
     "output_type": "stream",
     "text": [
      "Engine started\n"
     ]
    }
   ],
   "source": [
    "car2.start_engine()"
   ]
  },
  {
   "cell_type": "code",
   "execution_count": 25,
   "id": "bfa50d62",
   "metadata": {},
   "outputs": [
    {
     "name": "stdout",
     "output_type": "stream",
     "text": [
      "Accelerating to 70 km/h\n"
     ]
    }
   ],
   "source": [
    "car2.accelerate(70)"
   ]
  },
  {
   "cell_type": "markdown",
   "id": "0250fd57",
   "metadata": {},
   "source": [
    "# Question-2- Name the four pillars of OOPs.\n",
    "\n",
    "# Answer-2- \n",
    "\n",
    "# (1)-Encapsulation: Encapsulation refers to the bundling of data (attributes) and methods (functions) that operate on that data into a single unit, known as a class. It involves restricting direct access to some of an object's components and providing controlled access through methods\n",
    "\n",
    "# (2)-Abstraction: Abstraction involves simplifying complex reality by modeling classes based on their essential characteristics. It allows you to create a representation of an object that includes only the relevant attributes and behaviors, abstracting away unnecessary details.\n",
    "\n",
    "# (3)-Inheritance: Inheritance enables the creation of a new class (subclass or derived class) that inherits attributes and behaviors from an existing class (superclass or base class). This promotes code reuse and allows you to model relationships between classes, capturing the \"is-a\" relationship\n",
    "\n",
    "# (4)-Polymorphism: Polymorphism allows objects of different classes to be treated as objects of a common superclass. It involves the ability to present the same interface for different data types or classes. Polymorphism is achieved through method overriding and method overloading\n",
    "\n",
    "# Question-(3)- Explain why the init() function is used. Give a suitable example.\n",
    "\n",
    "# Answer-3-The init() function is a special method (also known as a constructor) in Python that is automatically called when an instance of a class is created. It initializes the attributes of the object and performs any necessary setup operations. The primary purpose of the init() function is to ensure that the object is properly initialized and in a valid state when it's created."
   ]
  },
  {
   "cell_type": "code",
   "execution_count": 26,
   "id": "458a0000",
   "metadata": {},
   "outputs": [],
   "source": [
    "class Person:\n",
    "    def __init__(self, name, age):\n",
    "        self.name = name\n",
    "        self.age = age\n",
    "\n",
    "    def introduce(self):\n",
    "        print(f\"Hi, my name is {self.name}, and I am {self.age} years old.\")"
   ]
  },
  {
   "cell_type": "code",
   "execution_count": 27,
   "id": "e27519dc",
   "metadata": {},
   "outputs": [],
   "source": [
    "person1 = Person(\"Ayan\", 25)\n",
    "person2 = Person(\"Arshan\", 30)"
   ]
  },
  {
   "cell_type": "code",
   "execution_count": 28,
   "id": "bbb0e92a",
   "metadata": {},
   "outputs": [
    {
     "name": "stdout",
     "output_type": "stream",
     "text": [
      "Hi, my name is Ayan, and I am 25 years old.\n"
     ]
    }
   ],
   "source": [
    "person1.introduce()"
   ]
  },
  {
   "cell_type": "code",
   "execution_count": 29,
   "id": "4d189f5d",
   "metadata": {},
   "outputs": [
    {
     "name": "stdout",
     "output_type": "stream",
     "text": [
      "Hi, my name is Arshan, and I am 30 years old.\n"
     ]
    }
   ],
   "source": [
    "person2.introduce()"
   ]
  },
  {
   "cell_type": "markdown",
   "id": "f810f9a3",
   "metadata": {},
   "source": [
    "# Question-4-Why self is used in OOPs?\n",
    "\n",
    "# Answer-4-In Object-Oriented Programming (OOP), self is a convention used to refer to the instance of a class within the class methods. It's a way to access and work with the attributes and methods of the instance itself. The use of self is crucial for maintaining the encapsulation and proper functioning of object-oriented code."
   ]
  },
  {
   "cell_type": "code",
   "execution_count": 30,
   "id": "1b5495a7",
   "metadata": {},
   "outputs": [],
   "source": [
    "class pwskills:\n",
    "    def __init__(self, course):\n",
    "        self.course = course\n",
    "\n",
    "    def name(self):\n",
    "        return  self.course"
   ]
  },
  {
   "cell_type": "code",
   "execution_count": 31,
   "id": "2282a3a0",
   "metadata": {},
   "outputs": [
    {
     "name": "stdout",
     "output_type": "stream",
     "text": [
      "data sciecce: data science\n"
     ]
    }
   ],
   "source": [
    "pwskills1 = pwskills(\"data science\")\n",
    "# Calling the area() method\n",
    "print(\"data sciecce:\", pwskills1.name())"
   ]
  },
  {
   "cell_type": "markdown",
   "id": "42201ef8",
   "metadata": {},
   "source": [
    "# Question-5- What is inheritance? Give an example for each type of inheritance.\n",
    "\n",
    "# Answer-5-Inheritance is a fundamental concept in Object-Oriented Programming (OOP) that allows a new class (subclass or derived class) to inherit properties (attributes and methods) from an existing class (superclass or base class). Inheritance promotes code reuse and allows you to model relationships between classes, capturing the \"is-a\" relationship."
   ]
  },
  {
   "cell_type": "code",
   "execution_count": 32,
   "id": "ef9f42c6",
   "metadata": {},
   "outputs": [],
   "source": [
    "#singal inheritance\n",
    "class Animal:\n",
    "    def speak(self):\n",
    "        pass\n",
    "\n",
    "class Dog(Animal):\n",
    "    def speak(self):\n",
    "        return \"Woof!\"\n",
    "\n",
    "class Cat(Animal):\n",
    "    def speak(self):\n",
    "        return \"Meow!\""
   ]
  },
  {
   "cell_type": "code",
   "execution_count": 33,
   "id": "95336830",
   "metadata": {},
   "outputs": [
    {
     "data": {
      "text/plain": [
       "[__main__.Animal, object]"
      ]
     },
     "execution_count": 33,
     "metadata": {},
     "output_type": "execute_result"
    }
   ],
   "source": [
    "Animal.mro()"
   ]
  },
  {
   "cell_type": "code",
   "execution_count": 34,
   "id": "fc556cb2",
   "metadata": {},
   "outputs": [
    {
     "data": {
      "text/plain": [
       "<function __main__.Animal.speak(self)>"
      ]
     },
     "execution_count": 34,
     "metadata": {},
     "output_type": "execute_result"
    }
   ],
   "source": [
    "Animal.speak"
   ]
  },
  {
   "cell_type": "code",
   "execution_count": 35,
   "id": "4c4a8819",
   "metadata": {},
   "outputs": [],
   "source": [
    "#multiple inhertence\n",
    "class Vehicle:\n",
    "    def start(self):\n",
    "        pass\n",
    "\n",
    "class Car(Vehicle):\n",
    "    def drive(self):\n",
    "        pass\n",
    "\n",
    "class ElectricCar(Car):\n",
    "    def charge(self):\n",
    "        pass"
   ]
  },
  {
   "cell_type": "code",
   "execution_count": 36,
   "id": "7f1d0832",
   "metadata": {},
   "outputs": [],
   "source": [
    "vehicle = Vehicle()\n",
    "car = Car()\n",
    "electric_car = ElectricCar()"
   ]
  },
  {
   "cell_type": "code",
   "execution_count": 37,
   "id": "dbaa1c5f",
   "metadata": {},
   "outputs": [],
   "source": [
    "vehicle.start()"
   ]
  },
  {
   "cell_type": "code",
   "execution_count": 38,
   "id": "4844dc7a",
   "metadata": {},
   "outputs": [],
   "source": [
    "car.start()"
   ]
  },
  {
   "cell_type": "code",
   "execution_count": 39,
   "id": "80724ea1",
   "metadata": {},
   "outputs": [],
   "source": [
    "car.drive()"
   ]
  },
  {
   "cell_type": "code",
   "execution_count": 41,
   "id": "a878af8e",
   "metadata": {},
   "outputs": [],
   "source": [
    "electric_car.start()   \n",
    "electric_car.drive()    \n",
    "electric_car.charge()   "
   ]
  },
  {
   "cell_type": "markdown",
   "id": "f4b4e2ef",
   "metadata": {},
   "source": [
    "# Decorators"
   ]
  },
  {
   "cell_type": "code",
   "execution_count": 168,
   "id": "039284c4",
   "metadata": {},
   "outputs": [],
   "source": [
    "def test():\n",
    "    print('this is start of the funcation')\n",
    "    print(\"This is my funcation to test\")\n",
    "    print('this is end of the funcation')"
   ]
  },
  {
   "cell_type": "code",
   "execution_count": 169,
   "id": "7bc1a99d",
   "metadata": {},
   "outputs": [
    {
     "name": "stdout",
     "output_type": "stream",
     "text": [
      "this is start of the funcation\n",
      "This is my funcation to test\n",
      "this is end of the funcation\n"
     ]
    }
   ],
   "source": [
    "test()"
   ]
  },
  {
   "cell_type": "code",
   "execution_count": 167,
   "id": "35e34acb",
   "metadata": {},
   "outputs": [],
   "source": [
    "# every time tell start and end"
   ]
  },
  {
   "cell_type": "code",
   "execution_count": 170,
   "id": "6855d8f7",
   "metadata": {},
   "outputs": [],
   "source": [
    "def deco(func):\n",
    "    def inner_doc():\n",
    "        print('this is the start of the funcation')\n",
    "        func()\n",
    "        print('this is the end of the funcation')\n",
    "    return inner_doc"
   ]
  },
  {
   "cell_type": "code",
   "execution_count": 171,
   "id": "7e207c55",
   "metadata": {},
   "outputs": [],
   "source": [
    "@deco\n",
    "def test1():\n",
    "    print(34+465)"
   ]
  },
  {
   "cell_type": "code",
   "execution_count": 172,
   "id": "86b8d6cb",
   "metadata": {},
   "outputs": [
    {
     "name": "stdout",
     "output_type": "stream",
     "text": [
      "this is the start of the funcation\n",
      "499\n",
      "this is the end of the funcation\n"
     ]
    }
   ],
   "source": [
    "test1()"
   ]
  },
  {
   "cell_type": "code",
   "execution_count": 173,
   "id": "443b6d9d",
   "metadata": {},
   "outputs": [],
   "source": [
    "import time\n",
    "\n",
    "def timer_test(func):\n",
    "    def timer_test_inner():\n",
    "        start=time.time()\n",
    "        func()\n",
    "        end=time.time()\n",
    "        print(end-start)\n",
    "    return timer_test_inner"
   ]
  },
  {
   "cell_type": "code",
   "execution_count": 174,
   "id": "9bc19d54",
   "metadata": {},
   "outputs": [],
   "source": [
    "def test2():\n",
    "    print(34+45)"
   ]
  },
  {
   "cell_type": "code",
   "execution_count": 175,
   "id": "e102a018",
   "metadata": {},
   "outputs": [],
   "source": [
    "@timer_test\n",
    "def test2():\n",
    "    print(43+3423)"
   ]
  },
  {
   "cell_type": "code",
   "execution_count": 177,
   "id": "5d8c20f4",
   "metadata": {},
   "outputs": [
    {
     "name": "stdout",
     "output_type": "stream",
     "text": [
      "3466\n",
      "0.0\n"
     ]
    }
   ],
   "source": [
    "test2()"
   ]
  },
  {
   "cell_type": "code",
   "execution_count": 178,
   "id": "f4940ab1",
   "metadata": {},
   "outputs": [],
   "source": [
    "@timer_test\n",
    "def test():\n",
    "    for i in range(100000000):\n",
    "        pass"
   ]
  },
  {
   "cell_type": "code",
   "execution_count": 179,
   "id": "c2294692",
   "metadata": {},
   "outputs": [
    {
     "name": "stdout",
     "output_type": "stream",
     "text": [
      "4.292406320571899\n"
     ]
    }
   ],
   "source": [
    "test()"
   ]
  },
  {
   "cell_type": "markdown",
   "id": "162e4e8f",
   "metadata": {},
   "source": [
    "# Class Method"
   ]
  },
  {
   "cell_type": "code",
   "execution_count": 1,
   "id": "92ca2946",
   "metadata": {},
   "outputs": [],
   "source": [
    "class pwskills:\n",
    "    def __init__(self,name,email):\n",
    "        self.name=name\n",
    "        self.email=email\n",
    "        \n",
    "    def student_details(self):\n",
    "        print(self.name,self.email)"
   ]
  },
  {
   "cell_type": "code",
   "execution_count": 2,
   "id": "0878c86b",
   "metadata": {},
   "outputs": [],
   "source": [
    "pw=pwskills('ayan','ayan@gmail.com')"
   ]
  },
  {
   "cell_type": "code",
   "execution_count": 3,
   "id": "dded9d2b",
   "metadata": {},
   "outputs": [
    {
     "data": {
      "text/plain": [
       "'ayan@gmail.com'"
      ]
     },
     "execution_count": 3,
     "metadata": {},
     "output_type": "execute_result"
    }
   ],
   "source": [
    "pw.email"
   ]
  },
  {
   "cell_type": "code",
   "execution_count": 4,
   "id": "8928b648",
   "metadata": {},
   "outputs": [
    {
     "data": {
      "text/plain": [
       "'ayan'"
      ]
     },
     "execution_count": 4,
     "metadata": {},
     "output_type": "execute_result"
    }
   ],
   "source": [
    "pw.name"
   ]
  },
  {
   "cell_type": "code",
   "execution_count": 5,
   "id": "34d23cc3",
   "metadata": {},
   "outputs": [
    {
     "name": "stdout",
     "output_type": "stream",
     "text": [
      "ayan ayan@gmail.com\n"
     ]
    }
   ],
   "source": [
    "pw.student_details()"
   ]
  },
  {
   "cell_type": "code",
   "execution_count": 6,
   "id": "32c974fb",
   "metadata": {},
   "outputs": [],
   "source": [
    "# this thing in a deiiferent way"
   ]
  },
  {
   "cell_type": "code",
   "execution_count": 7,
   "id": "23977d05",
   "metadata": {},
   "outputs": [],
   "source": [
    "class pwskills1:\n",
    "    def __init__(self,name,email):\n",
    "        self.name=name\n",
    "        self.email=email\n",
    "    \n",
    "    @classmethod                    # using this you also pass the data\n",
    "    def details(cls,name,email):\n",
    "        return cls(name,email)\n",
    "        \n",
    "    def student_details(self):\n",
    "        print(self.name,self.email)"
   ]
  },
  {
   "cell_type": "code",
   "execution_count": 8,
   "id": "b4ca03c3",
   "metadata": {},
   "outputs": [
    {
     "data": {
      "text/plain": [
       "<__main__.pwskills1 at 0x1e4f98db890>"
      ]
     },
     "execution_count": 8,
     "metadata": {},
     "output_type": "execute_result"
    }
   ],
   "source": [
    "pwskills1.details('ayan','ayan@gmail.com')"
   ]
  },
  {
   "cell_type": "code",
   "execution_count": 9,
   "id": "cbdb393e",
   "metadata": {},
   "outputs": [],
   "source": [
    "pw1=pwskills1.details('ayan','ayan@gmail.com')"
   ]
  },
  {
   "cell_type": "code",
   "execution_count": 10,
   "id": "d45758df",
   "metadata": {},
   "outputs": [
    {
     "data": {
      "text/plain": [
       "'ayan'"
      ]
     },
     "execution_count": 10,
     "metadata": {},
     "output_type": "execute_result"
    }
   ],
   "source": [
    "pw1.name"
   ]
  },
  {
   "cell_type": "code",
   "execution_count": 13,
   "id": "25ac9a5f",
   "metadata": {},
   "outputs": [
    {
     "name": "stdout",
     "output_type": "stream",
     "text": [
      "ayan ayan@gmail.com\n"
     ]
    }
   ],
   "source": [
    "pw1.student_details() # we will without createn object we able to pass data to a class\n",
    "# i able to asscess it"
   ]
  },
  {
   "cell_type": "code",
   "execution_count": 29,
   "id": "09cd2b8b",
   "metadata": {},
   "outputs": [],
   "source": [
    "class pwskills2:\n",
    "    mobile_num=41344564252534534    #this is called class veriable\n",
    "    def __init__(self,name,email):\n",
    "        self.name=name\n",
    "        self.email=email\n",
    "    \n",
    "    @classmethod\n",
    "    def change_number(cls,mobile):\n",
    "        pwskills2.mobile_num=mobile\n",
    "    \n",
    "    @classmethod                    # using this you also pass the data\n",
    "    def details(cls,name,email):\n",
    "        return cls(name,email)\n",
    "        \n",
    "    def student_details(self):\n",
    "        print(self.name,self.email,pwskills2.mobile_num)"
   ]
  },
  {
   "cell_type": "code",
   "execution_count": 30,
   "id": "d7b18f08",
   "metadata": {},
   "outputs": [
    {
     "data": {
      "text/plain": [
       "41344564252534534"
      ]
     },
     "execution_count": 30,
     "metadata": {},
     "output_type": "execute_result"
    }
   ],
   "source": [
    "pwskills2.mobile_num"
   ]
  },
  {
   "cell_type": "code",
   "execution_count": 31,
   "id": "98704fc8",
   "metadata": {},
   "outputs": [],
   "source": [
    "# this to able ti access in a class method"
   ]
  },
  {
   "cell_type": "code",
   "execution_count": 32,
   "id": "5579aa29",
   "metadata": {},
   "outputs": [],
   "source": [
    "pwskills2.change_number(45517265451483255472365476)"
   ]
  },
  {
   "cell_type": "code",
   "execution_count": 33,
   "id": "062e0c65",
   "metadata": {},
   "outputs": [
    {
     "data": {
      "text/plain": [
       "45517265451483255472365476"
      ]
     },
     "execution_count": 33,
     "metadata": {},
     "output_type": "execute_result"
    }
   ],
   "source": [
    "pwskills2.mobile_num"
   ]
  },
  {
   "cell_type": "code",
   "execution_count": 34,
   "id": "ff8d0b60",
   "metadata": {},
   "outputs": [],
   "source": [
    "pw_obj=pwskills2('ayan','ayan@gmail.com')"
   ]
  },
  {
   "cell_type": "code",
   "execution_count": 35,
   "id": "d0a007ff",
   "metadata": {},
   "outputs": [
    {
     "name": "stdout",
     "output_type": "stream",
     "text": [
      "ayan ayan@gmail.com 45517265451483255472365476\n"
     ]
    }
   ],
   "source": [
    "pw_obj.student_details()"
   ]
  },
  {
   "cell_type": "code",
   "execution_count": 36,
   "id": "5fe34ea2",
   "metadata": {},
   "outputs": [],
   "source": [
    "# we are able overload"
   ]
  },
  {
   "cell_type": "code",
   "execution_count": 37,
   "id": "586bcbfa",
   "metadata": {},
   "outputs": [],
   "source": [
    "class pwskills3:\n",
    "    mobile_num=41344564252534534    #this is called class veriable\n",
    "    def __init__(self,name,email):\n",
    "        self.name=name\n",
    "        self.email=email\n",
    "    \n",
    "    @classmethod\n",
    "    def change_number(cls,mobile):\n",
    "        pwskills2.mobile_num=mobile\n",
    "    \n",
    "    @classmethod                    # using this you also pass the data\n",
    "    def details(cls,name,email):\n",
    "        return cls(name,email)\n",
    "        \n",
    "    def student_details(self):\n",
    "        print(self.name,self.email,pwskills2.mobile_num)"
   ]
  },
  {
   "cell_type": "code",
   "execution_count": 39,
   "id": "f5fd70fe",
   "metadata": {},
   "outputs": [],
   "source": [
    "# external funcaton\n",
    "def course_details(cls,course_name):\n",
    "    print(\"course name is\",course_name)"
   ]
  },
  {
   "cell_type": "code",
   "execution_count": 40,
   "id": "79684356",
   "metadata": {},
   "outputs": [],
   "source": [
    "pwskills3.course_details=classmethod(course_details)"
   ]
  },
  {
   "cell_type": "code",
   "execution_count": 41,
   "id": "60a91a71",
   "metadata": {},
   "outputs": [
    {
     "name": "stdout",
     "output_type": "stream",
     "text": [
      "course name is data science\n"
     ]
    }
   ],
   "source": [
    "pwskills3.course_details('data science')"
   ]
  },
  {
   "cell_type": "code",
   "execution_count": 42,
   "id": "1d1916f8",
   "metadata": {},
   "outputs": [],
   "source": [
    "def mentor(cls,list_of_mentor):\n",
    "    print(list_of_mentor)"
   ]
  },
  {
   "cell_type": "code",
   "execution_count": 43,
   "id": "2fe965f0",
   "metadata": {},
   "outputs": [],
   "source": [
    "pwskills3.mentor=classmethod(mentor)"
   ]
  },
  {
   "cell_type": "code",
   "execution_count": 44,
   "id": "bd13ed07",
   "metadata": {},
   "outputs": [
    {
     "name": "stdout",
     "output_type": "stream",
     "text": [
      "['ayan', 'arshan']\n"
     ]
    }
   ],
   "source": [
    "pwskills3.mentor(['ayan','arshan'])"
   ]
  },
  {
   "cell_type": "code",
   "execution_count": 45,
   "id": "c31238b8",
   "metadata": {},
   "outputs": [],
   "source": [
    "class pwskills4:\n",
    "    mobile_num=41344564252534534    #this is called class veriable\n",
    "    def __init__(self,name,email):\n",
    "        self.name=name\n",
    "        self.email=email\n",
    "    \n",
    "    @classmethod\n",
    "    def change_number(cls,mobile):\n",
    "        pwskills2.mobile_num=mobile\n",
    "    \n",
    "    @classmethod                    # using this you also pass the data\n",
    "    def details(cls,name,email):\n",
    "        return cls(name,email)\n",
    "        \n",
    "    def student_details(self):\n",
    "        print(self.name,self.email,pwskills2.mobile_num)"
   ]
  },
  {
   "cell_type": "code",
   "execution_count": 46,
   "id": "13696f7b",
   "metadata": {},
   "outputs": [],
   "source": [
    "# delete a funcation\n",
    "del pwskills4.change_number  #know this is delete"
   ]
  },
  {
   "cell_type": "code",
   "execution_count": 47,
   "id": "b95d702b",
   "metadata": {},
   "outputs": [
    {
     "ename": "AttributeError",
     "evalue": "type object 'pwskills4' has no attribute 'change_number'",
     "output_type": "error",
     "traceback": [
      "\u001b[1;31m---------------------------------------------------------------------------\u001b[0m",
      "\u001b[1;31mAttributeError\u001b[0m                            Traceback (most recent call last)",
      "Cell \u001b[1;32mIn[47], line 1\u001b[0m\n\u001b[1;32m----> 1\u001b[0m pwskills4\u001b[38;5;241m.\u001b[39mchange_number\n",
      "\u001b[1;31mAttributeError\u001b[0m: type object 'pwskills4' has no attribute 'change_number'"
     ]
    }
   ],
   "source": [
    "pwskills4.change_number"
   ]
  },
  {
   "cell_type": "code",
   "execution_count": 49,
   "id": "684ec79f",
   "metadata": {},
   "outputs": [],
   "source": [
    "# anoter way to delete\n",
    "delattr(pwskills4,'details')"
   ]
  },
  {
   "cell_type": "code",
   "execution_count": 50,
   "id": "0747a3dd",
   "metadata": {},
   "outputs": [],
   "source": [
    "delattr(pwskills4,'student_details')"
   ]
  },
  {
   "cell_type": "code",
   "execution_count": 51,
   "id": "f7ea3f03",
   "metadata": {},
   "outputs": [],
   "source": [
    "delattr(pwskills4,'mobile_num')"
   ]
  },
  {
   "cell_type": "markdown",
   "id": "e9a5f70a",
   "metadata": {},
   "source": [
    "# Static method"
   ]
  },
  {
   "cell_type": "code",
   "execution_count": 52,
   "id": "72c8ff42",
   "metadata": {},
   "outputs": [],
   "source": [
    "class pwskills:\n",
    "    def student_details(self,name,mail_id,number):\n",
    "        print(name,mail_id,number)"
   ]
  },
  {
   "cell_type": "code",
   "execution_count": 53,
   "id": "049c4915",
   "metadata": {},
   "outputs": [],
   "source": [
    "pw=pwskills()"
   ]
  },
  {
   "cell_type": "code",
   "execution_count": 54,
   "id": "e2b481c9",
   "metadata": {},
   "outputs": [
    {
     "name": "stdout",
     "output_type": "stream",
     "text": [
      "ayan arshan@gmail.com 234345\n"
     ]
    }
   ],
   "source": [
    "pw.student_details('ayan','arshan@gmail.com',234345)"
   ]
  },
  {
   "cell_type": "code",
   "execution_count": 59,
   "id": "c95ecd68",
   "metadata": {},
   "outputs": [],
   "source": [
    "class pwskills1:\n",
    "    def student_details(self,name,mail_id,number):\n",
    "        print(name,mail_id,number)\n",
    "        \n",
    "    @staticmethod                    # this is used when we create even a utilities like jab baar baar koi function bana ho\n",
    "    def mentor_class(list_mentor):\n",
    "        print(list_mentor)\n",
    "        \n",
    "    def mentor(self,mentor_list):\n",
    "        print(mentor_list)"
   ]
  },
  {
   "cell_type": "code",
   "execution_count": 60,
   "id": "a787e4b1",
   "metadata": {},
   "outputs": [
    {
     "name": "stdout",
     "output_type": "stream",
     "text": [
      "['ayan', 'arshan']\n"
     ]
    }
   ],
   "source": [
    "pwskills1.mentor_class(['ayan','arshan'])"
   ]
  },
  {
   "cell_type": "code",
   "execution_count": 69,
   "id": "5975fc37",
   "metadata": {},
   "outputs": [],
   "source": [
    "class pwskills2:\n",
    "    def student_details(self,name,mail_id,number):\n",
    "        print(name,mail_id,number)\n",
    "        \n",
    "    @staticmethod\n",
    "    def mentor_mail_id(mail_id_mentor):\n",
    "        print(mail_id_mentor)\n",
    "        \n",
    "    @staticmethod                    # this is used when we create even a utilities like jab baar baar koi function bana ho\n",
    "    def mentor_class(list_mentor):\n",
    "        pwskills2.mentor_mail_id(['arshan@gmail.com','ayan@gmail.com'])  #calling static fun in side the staticmentod\n",
    "        print(list_mentor)\n",
    "        \n",
    "    @classmethod\n",
    "    def class_name(cls):\n",
    "        cls.mentor_class(['ayan','arshan'])\n",
    "        \n",
    "    def mentor(self,mentor_list):\n",
    "        print(mentor_list)\n",
    "        self.mentor_class(['ayan','arshan'])                #instance method ka under stsatic mentor calling"
   ]
  },
  {
   "cell_type": "code",
   "execution_count": 70,
   "id": "c46a09d9",
   "metadata": {},
   "outputs": [
    {
     "name": "stdout",
     "output_type": "stream",
     "text": [
      "['arshan@gmail.com', 'ayan@gmail.com']\n",
      "['ayan', 'arshan']\n"
     ]
    }
   ],
   "source": [
    "pwskills2.class_name()"
   ]
  },
  {
   "cell_type": "code",
   "execution_count": 71,
   "id": "3f1cdc4c",
   "metadata": {},
   "outputs": [
    {
     "name": "stdout",
     "output_type": "stream",
     "text": [
      "['arshan@gmail.com', 'ayan@gmail.com']\n",
      "['ayan', 'arshan']\n"
     ]
    }
   ],
   "source": [
    "pwskills2.mentor_class(['ayan','arshan'])"
   ]
  },
  {
   "cell_type": "code",
   "execution_count": 73,
   "id": "c01b79d6",
   "metadata": {},
   "outputs": [
    {
     "ename": "TypeError",
     "evalue": "pwskills2.mentor() missing 1 required positional argument: 'mentor_list'",
     "output_type": "error",
     "traceback": [
      "\u001b[1;31m---------------------------------------------------------------------------\u001b[0m",
      "\u001b[1;31mTypeError\u001b[0m                                 Traceback (most recent call last)",
      "Cell \u001b[1;32mIn[73], line 1\u001b[0m\n\u001b[1;32m----> 1\u001b[0m pwskills2\u001b[38;5;241m.\u001b[39mmentor([\u001b[38;5;124m'\u001b[39m\u001b[38;5;124mayan\u001b[39m\u001b[38;5;124m'\u001b[39m,\u001b[38;5;124m'\u001b[39m\u001b[38;5;124marshan\u001b[39m\u001b[38;5;124m'\u001b[39m])\n",
      "\u001b[1;31mTypeError\u001b[0m: pwskills2.mentor() missing 1 required positional argument: 'mentor_list'"
     ]
    }
   ],
   "source": [
    "pwskills2.mentor(['ayan','arshan'])"
   ]
  },
  {
   "cell_type": "markdown",
   "id": "13df3238",
   "metadata": {},
   "source": [
    "# special magic or dunder funcation"
   ]
  },
  {
   "cell_type": "code",
   "execution_count": 74,
   "id": "38fc5d97",
   "metadata": {},
   "outputs": [
    {
     "data": {
      "text/plain": [
       "['__abs__',\n",
       " '__add__',\n",
       " '__and__',\n",
       " '__bool__',\n",
       " '__ceil__',\n",
       " '__class__',\n",
       " '__delattr__',\n",
       " '__dir__',\n",
       " '__divmod__',\n",
       " '__doc__',\n",
       " '__eq__',\n",
       " '__float__',\n",
       " '__floor__',\n",
       " '__floordiv__',\n",
       " '__format__',\n",
       " '__ge__',\n",
       " '__getattribute__',\n",
       " '__getnewargs__',\n",
       " '__getstate__',\n",
       " '__gt__',\n",
       " '__hash__',\n",
       " '__index__',\n",
       " '__init__',\n",
       " '__init_subclass__',\n",
       " '__int__',\n",
       " '__invert__',\n",
       " '__le__',\n",
       " '__lshift__',\n",
       " '__lt__',\n",
       " '__mod__',\n",
       " '__mul__',\n",
       " '__ne__',\n",
       " '__neg__',\n",
       " '__new__',\n",
       " '__or__',\n",
       " '__pos__',\n",
       " '__pow__',\n",
       " '__radd__',\n",
       " '__rand__',\n",
       " '__rdivmod__',\n",
       " '__reduce__',\n",
       " '__reduce_ex__',\n",
       " '__repr__',\n",
       " '__rfloordiv__',\n",
       " '__rlshift__',\n",
       " '__rmod__',\n",
       " '__rmul__',\n",
       " '__ror__',\n",
       " '__round__',\n",
       " '__rpow__',\n",
       " '__rrshift__',\n",
       " '__rshift__',\n",
       " '__rsub__',\n",
       " '__rtruediv__',\n",
       " '__rxor__',\n",
       " '__setattr__',\n",
       " '__sizeof__',\n",
       " '__str__',\n",
       " '__sub__',\n",
       " '__subclasshook__',\n",
       " '__truediv__',\n",
       " '__trunc__',\n",
       " '__xor__',\n",
       " 'as_integer_ratio',\n",
       " 'bit_count',\n",
       " 'bit_length',\n",
       " 'conjugate',\n",
       " 'denominator',\n",
       " 'from_bytes',\n",
       " 'imag',\n",
       " 'numerator',\n",
       " 'real',\n",
       " 'to_bytes']"
      ]
     },
     "execution_count": 74,
     "metadata": {},
     "output_type": "execute_result"
    }
   ],
   "source": [
    "dir(int)"
   ]
  },
  {
   "cell_type": "code",
   "execution_count": 75,
   "id": "4e6dad87",
   "metadata": {},
   "outputs": [
    {
     "data": {
      "text/plain": [
       "['__add__',\n",
       " '__class__',\n",
       " '__contains__',\n",
       " '__delattr__',\n",
       " '__dir__',\n",
       " '__doc__',\n",
       " '__eq__',\n",
       " '__format__',\n",
       " '__ge__',\n",
       " '__getattribute__',\n",
       " '__getitem__',\n",
       " '__getnewargs__',\n",
       " '__getstate__',\n",
       " '__gt__',\n",
       " '__hash__',\n",
       " '__init__',\n",
       " '__init_subclass__',\n",
       " '__iter__',\n",
       " '__le__',\n",
       " '__len__',\n",
       " '__lt__',\n",
       " '__mod__',\n",
       " '__mul__',\n",
       " '__ne__',\n",
       " '__new__',\n",
       " '__reduce__',\n",
       " '__reduce_ex__',\n",
       " '__repr__',\n",
       " '__rmod__',\n",
       " '__rmul__',\n",
       " '__setattr__',\n",
       " '__sizeof__',\n",
       " '__str__',\n",
       " '__subclasshook__',\n",
       " 'capitalize',\n",
       " 'casefold',\n",
       " 'center',\n",
       " 'count',\n",
       " 'encode',\n",
       " 'endswith',\n",
       " 'expandtabs',\n",
       " 'find',\n",
       " 'format',\n",
       " 'format_map',\n",
       " 'index',\n",
       " 'isalnum',\n",
       " 'isalpha',\n",
       " 'isascii',\n",
       " 'isdecimal',\n",
       " 'isdigit',\n",
       " 'isidentifier',\n",
       " 'islower',\n",
       " 'isnumeric',\n",
       " 'isprintable',\n",
       " 'isspace',\n",
       " 'istitle',\n",
       " 'isupper',\n",
       " 'join',\n",
       " 'ljust',\n",
       " 'lower',\n",
       " 'lstrip',\n",
       " 'maketrans',\n",
       " 'partition',\n",
       " 'removeprefix',\n",
       " 'removesuffix',\n",
       " 'replace',\n",
       " 'rfind',\n",
       " 'rindex',\n",
       " 'rjust',\n",
       " 'rpartition',\n",
       " 'rsplit',\n",
       " 'rstrip',\n",
       " 'split',\n",
       " 'splitlines',\n",
       " 'startswith',\n",
       " 'strip',\n",
       " 'swapcase',\n",
       " 'title',\n",
       " 'translate',\n",
       " 'upper',\n",
       " 'zfill']"
      ]
     },
     "execution_count": 75,
     "metadata": {},
     "output_type": "execute_result"
    }
   ],
   "source": [
    "dir(str)"
   ]
  },
  {
   "cell_type": "code",
   "execution_count": 76,
   "id": "ee7d343c",
   "metadata": {},
   "outputs": [],
   "source": [
    "a=100"
   ]
  },
  {
   "cell_type": "code",
   "execution_count": 77,
   "id": "39141c7b",
   "metadata": {},
   "outputs": [
    {
     "data": {
      "text/plain": [
       "105"
      ]
     },
     "execution_count": 77,
     "metadata": {},
     "output_type": "execute_result"
    }
   ],
   "source": [
    "a+5"
   ]
  },
  {
   "cell_type": "code",
   "execution_count": 79,
   "id": "ecdd1404",
   "metadata": {},
   "outputs": [
    {
     "data": {
      "text/plain": [
       "105"
      ]
     },
     "execution_count": 79,
     "metadata": {},
     "output_type": "execute_result"
    }
   ],
   "source": [
    "a.__add__(5) #funcation internally do this"
   ]
  },
  {
   "cell_type": "code",
   "execution_count": 89,
   "id": "4e5d8c6b",
   "metadata": {},
   "outputs": [],
   "source": [
    "class pwskills:\n",
    "    \n",
    "    def __new__(cls):\n",
    "        print('this is my new')\n",
    "    def __init__(self):\n",
    "        self.mobile_number=324353\n",
    "        \n",
    "    def __str__(self):\n",
    "        return 'this is my magic function'"
   ]
  },
  {
   "cell_type": "code",
   "execution_count": 90,
   "id": "a1a4d294",
   "metadata": {},
   "outputs": [
    {
     "name": "stdout",
     "output_type": "stream",
     "text": [
      "this is my new\n"
     ]
    }
   ],
   "source": [
    "pw=pwskills()"
   ]
  },
  {
   "cell_type": "code",
   "execution_count": 91,
   "id": "d3b8d5d3",
   "metadata": {},
   "outputs": [
    {
     "data": {
      "text/plain": [
       "<__main__.pwskills1 at 0x1e4f9848d90>"
      ]
     },
     "execution_count": 91,
     "metadata": {},
     "output_type": "execute_result"
    }
   ],
   "source": [
    "pw1"
   ]
  },
  {
   "cell_type": "markdown",
   "id": "82c67fdf",
   "metadata": {},
   "source": [
    "# property decorater"
   ]
  },
  {
   "cell_type": "code",
   "execution_count": 110,
   "id": "65fa0814",
   "metadata": {},
   "outputs": [],
   "source": [
    "class pwskills:\n",
    "    def __init__(self,course_price,course_name):\n",
    "        self.__course_price=course_price\n",
    "        self.course_name=course_name\n",
    "    @property    # this fun used to get access \n",
    "    def course_price_access(self):\n",
    "        return self.__course_price\n",
    "    \n",
    "    @course_price_access.setter                # modeifey\n",
    "    def course_price_set(self,price):\n",
    "        if price<=300:\n",
    "            pass\n",
    "        else:\n",
    "            self.__course_price=price\n",
    "        \n",
    "    @course_price_access.deleter\n",
    "    def delete_course_price(self):\n",
    "        del self.__course_price"
   ]
  },
  {
   "cell_type": "code",
   "execution_count": 111,
   "id": "5f3d9131",
   "metadata": {},
   "outputs": [],
   "source": [
    "pw=pwskills(2344,'data science')"
   ]
  },
  {
   "cell_type": "code",
   "execution_count": 112,
   "id": "e45bba61",
   "metadata": {},
   "outputs": [
    {
     "data": {
      "text/plain": [
       "2344"
      ]
     },
     "execution_count": 112,
     "metadata": {},
     "output_type": "execute_result"
    }
   ],
   "source": [
    "pw._pwskills__course_price"
   ]
  },
  {
   "cell_type": "code",
   "execution_count": 113,
   "id": "131142ae",
   "metadata": {},
   "outputs": [
    {
     "data": {
      "text/plain": [
       "'data science'"
      ]
     },
     "execution_count": 113,
     "metadata": {},
     "output_type": "execute_result"
    }
   ],
   "source": [
    "pw.course_name"
   ]
  },
  {
   "cell_type": "code",
   "execution_count": 114,
   "id": "06ee2b90",
   "metadata": {},
   "outputs": [
    {
     "data": {
      "text/plain": [
       "2344"
      ]
     },
     "execution_count": 114,
     "metadata": {},
     "output_type": "execute_result"
    }
   ],
   "source": [
    "pw.course_price_access # we are able to through this method"
   ]
  },
  {
   "cell_type": "code",
   "execution_count": 115,
   "id": "2f84e3c3",
   "metadata": {},
   "outputs": [
    {
     "data": {
      "text/plain": [
       "2344"
      ]
     },
     "execution_count": 115,
     "metadata": {},
     "output_type": "execute_result"
    }
   ],
   "source": [
    "pw.delete_course_price"
   ]
  },
  {
   "cell_type": "code",
   "execution_count": 116,
   "id": "22156eb3",
   "metadata": {},
   "outputs": [],
   "source": [
    "# del pw.delete_course_price"
   ]
  },
  {
   "cell_type": "markdown",
   "id": "8fdff745",
   "metadata": {},
   "source": [
    "# Question-1- What is Abstraction in OOps? Explain with an example.\n",
    "\n",
    "# Answer-1-Abstraction is a core concept in Object-Oriented Programming (OOP) that involves simplifying complex reality by modeling classes based on their essential characteristics. It allows you to create a representation of an object that includes only the relevant attributes and behaviors, abstracting away unnecessary details"
   ]
  },
  {
   "cell_type": "code",
   "execution_count": 42,
   "id": "d1db9549",
   "metadata": {},
   "outputs": [],
   "source": [
    "from abc import ABC, abstractmethod\n",
    "\n",
    "class Shape(ABC):\n",
    "    @abstractmethod\n",
    "    def area(self):\n",
    "        pass\n",
    "\n",
    "class Circle(Shape):\n",
    "    def __init__(self, radius):\n",
    "        self.radius = radius\n",
    "\n",
    "    def area(self):\n",
    "        return 3.14 * self.radius * self.radius\n",
    "\n",
    "class Rectangle(Shape):\n",
    "    def __init__(self, width, height):\n",
    "        self.width = width\n",
    "        self.height = height\n",
    "\n",
    "    def area(self):\n",
    "        return self.width * self.height"
   ]
  },
  {
   "cell_type": "code",
   "execution_count": 43,
   "id": "0ba45ec6",
   "metadata": {},
   "outputs": [],
   "source": [
    "circle = Circle(5)\n",
    "rectangle = Rectangle(4, 6)"
   ]
  },
  {
   "cell_type": "code",
   "execution_count": 44,
   "id": "35d5b151",
   "metadata": {},
   "outputs": [
    {
     "data": {
      "text/plain": [
       "78.5"
      ]
     },
     "execution_count": 44,
     "metadata": {},
     "output_type": "execute_result"
    }
   ],
   "source": [
    "circle.area()"
   ]
  },
  {
   "cell_type": "code",
   "execution_count": 45,
   "id": "9b46236e",
   "metadata": {},
   "outputs": [
    {
     "data": {
      "text/plain": [
       "5"
      ]
     },
     "execution_count": 45,
     "metadata": {},
     "output_type": "execute_result"
    }
   ],
   "source": [
    "circle.radius"
   ]
  },
  {
   "cell_type": "markdown",
   "id": "28f3627e",
   "metadata": {},
   "source": [
    "# Question-2- Differentiate between Abstraction and Encapsulation. Explain with an example.\n",
    "\n",
    "# Answer-2-Abstraction involves simplifying complex reality by modeling classes based on their essential characteristics. It allows you to create a representation of an object that includes only the relevant attributes and behaviors, abstracting away unnecessary details.\n",
    "\n",
    "# Encapsulation involves bundling data (attributes) and methods (functions) that operate on that data into a single unit (class). It restricts direct access to some components of an object and provides controlled access through methods, maintaining data integrity and preventing unintended modifications."
   ]
  },
  {
   "cell_type": "code",
   "execution_count": 46,
   "id": "d366d1fc",
   "metadata": {},
   "outputs": [],
   "source": [
    "class Account:\n",
    "    def __init__(self, account_number, initial_balance):\n",
    "        self.__account_number = account_number  # Encapsulated private attribute\n",
    "        self.__balance = initial_balance        # Encapsulated private attribute\n",
    "\n",
    "    def deposit(self, amount):\n",
    "        if amount > 0:\n",
    "            self.__balance += amount\n",
    "\n",
    "    def withdraw(self, amount):\n",
    "        if 0 < amount <= self.__balance:\n",
    "            self.__balance -= amount\n",
    "\n",
    "    def get_balance(self):\n",
    "        return self.__balance"
   ]
  },
  {
   "cell_type": "code",
   "execution_count": 47,
   "id": "fe9a49e1",
   "metadata": {},
   "outputs": [],
   "source": [
    "savings_account = Account(\"AC123\", 1000)"
   ]
  },
  {
   "cell_type": "code",
   "execution_count": 48,
   "id": "e269bdf0",
   "metadata": {},
   "outputs": [],
   "source": [
    "savings_account.deposit(500)"
   ]
  },
  {
   "cell_type": "code",
   "execution_count": 49,
   "id": "f6463795",
   "metadata": {},
   "outputs": [
    {
     "data": {
      "text/plain": [
       "1300"
      ]
     },
     "execution_count": 49,
     "metadata": {},
     "output_type": "execute_result"
    }
   ],
   "source": [
    "savings_account.withdraw(200)\n",
    "savings_account.get_balance()"
   ]
  },
  {
   "cell_type": "markdown",
   "id": "d3c97af0",
   "metadata": {},
   "source": [
    "# Question-3- What is abc module in python? Why is it used?\n",
    "\n",
    "# Answer-3- The abc module in Python stands for \"Abstract Base Classes.\" It provides the infrastructure for defining abstract base classes, which are classes that cannot be instantiated directly and are meant to be subclassed. Abstract base classes serve as blueprints for other classes and are used to define common interfaces and behaviors that subclasses must implement"
   ]
  },
  {
   "cell_type": "code",
   "execution_count": 50,
   "id": "e9bda251",
   "metadata": {},
   "outputs": [],
   "source": [
    "from abc import ABC, abstractmethod\n",
    "\n",
    "class Shape(ABC):\n",
    "    @abstractmethod\n",
    "    def area(self):\n",
    "        pass\n",
    "\n",
    "class Circle(Shape):\n",
    "    def __init__(self, radius):\n",
    "        self.radius = radius\n",
    "\n",
    "    def area(self):\n",
    "        return 3.14 * self.radius * self.radius\n",
    "\n",
    "class Rectangle(Shape):\n",
    "    def __init__(self, width, height):\n",
    "        self.width = width\n",
    "        self.height = height\n",
    "\n",
    "    def area(self):\n",
    "        return self.width * self.height"
   ]
  },
  {
   "cell_type": "code",
   "execution_count": 51,
   "id": "9afe3698",
   "metadata": {},
   "outputs": [
    {
     "data": {
      "text/plain": [
       "200.96"
      ]
     },
     "execution_count": 51,
     "metadata": {},
     "output_type": "execute_result"
    }
   ],
   "source": [
    "circle = Circle(8)\n",
    "rectangle = Rectangle(7, 12)\n",
    "circle.area()"
   ]
  },
  {
   "cell_type": "code",
   "execution_count": 52,
   "id": "bc55416b",
   "metadata": {},
   "outputs": [
    {
     "data": {
      "text/plain": [
       "12"
      ]
     },
     "execution_count": 52,
     "metadata": {},
     "output_type": "execute_result"
    }
   ],
   "source": [
    "rectangle.height"
   ]
  },
  {
   "cell_type": "code",
   "execution_count": 53,
   "id": "16abcecc",
   "metadata": {},
   "outputs": [
    {
     "data": {
      "text/plain": [
       "7"
      ]
     },
     "execution_count": 53,
     "metadata": {},
     "output_type": "execute_result"
    }
   ],
   "source": [
    "rectangle.width"
   ]
  },
  {
   "cell_type": "markdown",
   "id": "29928dab",
   "metadata": {},
   "source": [
    "# Question-4-How can we achieve data abstraction?\n",
    "\n",
    "# Answer-4-Data abstraction can be achieved in Python by using classes, where you expose only the necessary details about the data and hide the implementation details. This involves encapsulating the data and providing controlled access to it through methods. Here's how you can achieve data abstraction"
   ]
  },
  {
   "cell_type": "code",
   "execution_count": 54,
   "id": "0d2384e8",
   "metadata": {},
   "outputs": [],
   "source": [
    "class BankAccount:\n",
    "    def __init__(self, account_number, initial_balance):\n",
    "        self._account_number = account_number\n",
    "        self._balance = initial_balance\n",
    "\n",
    "    def get_account_number(self):\n",
    "        return self._account_number\n",
    "\n",
    "    def get_balance(self):\n",
    "        return self._balance\n",
    "\n",
    "    def deposit(self, amount):\n",
    "        if amount > 0:\n",
    "            self._balance += amount\n",
    "\n",
    "    def withdraw(self, amount):\n",
    "        if 0 < amount <= self._balance:\n",
    "            self._balance -= amount\n",
    "account = BankAccount(\"123456\", 1000)"
   ]
  },
  {
   "cell_type": "code",
   "execution_count": 55,
   "id": "b91abd27",
   "metadata": {},
   "outputs": [
    {
     "data": {
      "text/plain": [
       "'123456'"
      ]
     },
     "execution_count": 55,
     "metadata": {},
     "output_type": "execute_result"
    }
   ],
   "source": [
    "account.get_account_number()"
   ]
  },
  {
   "cell_type": "code",
   "execution_count": 56,
   "id": "01ebb886",
   "metadata": {},
   "outputs": [
    {
     "data": {
      "text/plain": [
       "1000"
      ]
     },
     "execution_count": 56,
     "metadata": {},
     "output_type": "execute_result"
    }
   ],
   "source": [
    "account.get_balance()"
   ]
  },
  {
   "cell_type": "code",
   "execution_count": 57,
   "id": "14c778a3",
   "metadata": {},
   "outputs": [
    {
     "data": {
      "text/plain": [
       "1300"
      ]
     },
     "execution_count": 57,
     "metadata": {},
     "output_type": "execute_result"
    }
   ],
   "source": [
    "account.deposit(500)\n",
    "account.withdraw(200)\n",
    "account.get_balance()"
   ]
  },
  {
   "cell_type": "markdown",
   "id": "d51927ac",
   "metadata": {},
   "source": [
    "# Question-5- Can we create an instance of an abstract class? Explain your answer.\n",
    "\n",
    "# Answer-5- No, you cannot create an instance of an abstract class in Python. Abstract classes are meant to be used as blueprints for creating concrete subclasses. They contain abstract methods, which are methods without implementations. Abstract methods must be overridden in concrete subclasses to provide actual implementations."
   ]
  },
  {
   "cell_type": "markdown",
   "id": "8795ac90",
   "metadata": {},
   "source": [
    "# MCQ"
   ]
  },
  {
   "cell_type": "markdown",
   "id": "2a21c0ae",
   "metadata": {},
   "source": [
    "# 1.oop’s is stand for \n",
    "\n",
    "\n",
    "# object oriented programming.\n",
    "\n",
    "\n",
    "- object oriented programming pillar\n",
    "\n",
    "\n",
    "- object oriented programming system\n",
    "\n",
    "\n",
    "- object oriented programming principles\n",
    "\n",
    "# Explanation: OOP’s is a programming pattern that is built around objects or entities, so it's called object-oriented programming system.\n",
    "\n",
    "# 2.How many basic pillar in oops\n",
    "\n",
    "\n",
    "3\n",
    "\n",
    "\n",
    "# 4\n",
    "\n",
    "\n",
    "2\n",
    "\n",
    "\n",
    "5\n",
    "\n",
    "# Explanation: there are four major pillars in oops.Inheritance, Polymorphism, Encapsulation and Abstraction.\n",
    "\n",
    "# 3.Class is a …………. Which defines some properties and behaviours.\n",
    "\n",
    "\n",
    "- instance\n",
    "\n",
    "\n",
    "- member\n",
    "\n",
    "\n",
    "- function\n",
    "\n",
    "\n",
    "# blueprint\n",
    "\n",
    "# Explanation: Class is a blueprint which defines some properties and behaviours.\n",
    "\n",
    "# 4.How many types of inheritance in python\n",
    "\n",
    "\n",
    "# 5\n",
    "\n",
    "\n",
    "3\n",
    "\n",
    "\n",
    "7\n",
    "\n",
    "\n",
    "4\n",
    "\n",
    "# Explanation: There are five types of inheritance.Single Inheritance. Multiple Inheritance. Multilevel Inheritance. Hierarchical Inheritance. Hybrid Inheritance.\n",
    "\n",
    "# 5.what is the advantage of inheritance\n",
    "\n",
    "\n",
    "- Multiple form\n",
    "\n",
    "\n",
    "# inherit property\n",
    "\n",
    "\n",
    "- code reusability.\n",
    "\n",
    "\n",
    "- function reusability\n",
    "\n",
    "# Explanation: When a derived class inherits the base class, then the derived class can access all the functionality, and the base class's code can be reused in the derived class.\n"
   ]
  },
  {
   "cell_type": "markdown",
   "id": "80f78bba",
   "metadata": {},
   "source": [
    "# 1.Which among the following best defines abstraction?\n",
    "\n",
    "\n",
    "# Hiding the implementation\n",
    "\n",
    "\n",
    "- Showing the important data\n",
    "\n",
    "\n",
    "- Hiding the important data\n",
    "\n",
    "\n",
    "- Hiding the implementation and showing only the features\n",
    "\n",
    "# Explanation: It includes hiding the implementation part and showing only the required data and features to the user. It is done to hide the implementation complexity and details from the user. And to provide a good interface in programming.\n",
    "\n",
    "# 2.class is ___ abstraction.\n",
    "\n",
    "\n",
    "- Object\n",
    "\n",
    "\n",
    "# Logical\n",
    "\n",
    "\n",
    "-Real\n",
    "\n",
    "\n",
    "- Hypothetical\n",
    "\n",
    "# Explanation: Class is logical abstraction because it provides a logical structure for all of its objects. It gives an overview of the features of an object\n",
    "\n",
    "# 3.Which among the following can be viewed as combination of abstraction of data and code.\n",
    "\n",
    "\n",
    "# class\n",
    "\n",
    "\n",
    "- object\n",
    "\n",
    "\n",
    "- inheritance\n",
    "\n",
    "\n",
    "- interfaces\n",
    "\n",
    "# Explanation: Class in object-oriented programming is a blueprint or template for creating objects. It defines the data (attributes or properties) and behavior (methods) that the objects created from that class will have. By combining abstraction of data and code, a class provides a way to group related data and functionality into a single, logical unit.\n",
    "\n",
    "# 4.Encapsulation and abstraction differ as\n",
    "\n",
    "\n",
    "- Can be used any way\n",
    "\n",
    "\n",
    "- Hiding and Binding respectively\n",
    "\n",
    "\n",
    "# Binding and Hiding respectively\n",
    "\n",
    "\n",
    "Hiding and hiding respectively\n",
    "\n",
    "# Explanation: Encapsulation is data binding, as in, we try to combine a similar type of data and functions together.Abstraction is hiding the complex code.\n",
    "\n",
    "# 5.Hiding the implementation complexity can\n",
    "\n",
    "\n",
    "- Provide better features\n",
    "\n",
    "\n",
    "- Make the programming complex\n",
    "\n",
    "\n",
    "- Provide more number of features\n",
    "\n",
    "\n",
    "# Make the programming easy\n",
    "\n",
    "# Explanation: It can make programming easy. The programming need not know how the inbuilt functions are working but can use those complex functions directly in the program. It doesn’t provide more number of features or better features.\n",
    "\n",
    "# 6.Data abstraction is nothing but the combination of ………..\n",
    "\n",
    "\n",
    "- hiding and showing\n",
    "\n",
    "\n",
    "# abstract class and interface\n",
    "\n",
    "\n",
    "- unnecessary information\n",
    "\n",
    "\n",
    "- none of the above\n",
    "\n",
    "# Explanation: data abstraction is nothing but the combination of abstract class and interface. We can not create the object in the abstract class and interface.\n",
    "\n"
   ]
  },
  {
   "cell_type": "markdown",
   "id": "3bc63a05",
   "metadata": {},
   "source": [
    "# 1.Refer the below code:\n",
    "\n",
    " \n",
    "\n",
    "class Human:\n",
    "\n",
    "def __init__(self, first_name, last_name, age):\n",
    "\n",
    "self.first_name = first_name\n",
    "\n",
    "self.last_name = last_name\n",
    "\n",
    "self.age = age\n",
    "\n",
    " \n",
    "\n",
    "h001 = Human(“Abhay”, “Kashyap”, 26)"
   ]
  },
  {
   "cell_type": "markdown",
   "id": "15676cf4",
   "metadata": {},
   "source": [
    "# 1 In the above code which will act as the object?\n",
    "\n",
    "\n",
    "- Human\n",
    "\n",
    "\n",
    "# h001\n",
    "\n",
    "\n",
    "- Abhay\n",
    "\n",
    "\n",
    "- “Abhay”\n",
    "\n",
    "# Explanation: Here, the Human is a class that gives the blueprint to construct the object. When the class with corresponding properties are passed into the h001 variable then the variable h001 will act as an object.\n",
    "\n",
    "# 2.In the above code self is a ____ .\n",
    "\n",
    "\n",
    "keyword\n",
    "\n",
    "\n",
    "attribute\n",
    "\n",
    "\n",
    "constructor\n",
    "\n",
    "\n",
    "# reference to current instance to the class\n",
    "\n",
    "# Explanation: The self parameter is a reference to the current instance of the class, and is used to access variables that belong to the class.\n",
    "\n",
    "# 3.Maximum how many objects can be created using a class?\n",
    "\n",
    "\n",
    "- Only 2\n",
    "\n",
    "\n",
    "- 1\n",
    "\n",
    "\n",
    "- depends on the number of attribute in it\n",
    "\n",
    "\n",
    "# Multiple \n",
    "\n",
    "# Explanation: The class is just a blueprint to create an object so there is no limit in creating objects using a single class. Thus, we can create multiple objects using a single class.\n",
    "\n",
    "# 4.From the above code, which one is the constructor?\n",
    "\n",
    "\n",
    "- class\n",
    "\n",
    "\n",
    "- def\n",
    "\n",
    "\n",
    "# __init__\n",
    "\n",
    "\n",
    "- Human\n",
    "\n",
    "# Explanation: A constructor is a unique function that helps in building an object out of a class. Here, using __init__ we are assigning values to the data members of that class."
   ]
  },
  {
   "cell_type": "markdown",
   "id": "5bee0f49",
   "metadata": {},
   "source": [
    "# This is a python Tutorial for how want to become data sciencetiest"
   ]
  }
 ],
 "metadata": {
  "kernelspec": {
   "display_name": "Python 3 (ipykernel)",
   "language": "python",
   "name": "python3"
  },
  "language_info": {
   "codemirror_mode": {
    "name": "ipython",
    "version": 3
   },
   "file_extension": ".py",
   "mimetype": "text/x-python",
   "name": "python",
   "nbconvert_exporter": "python",
   "pygments_lexer": "ipython3",
   "version": "3.11.5"
  }
 },
 "nbformat": 4,
 "nbformat_minor": 5
}
